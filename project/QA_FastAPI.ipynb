{
 "cells": [
  {
   "cell_type": "markdown",
   "metadata": {
    "id": "_RxlpXM1v_Qz"
   },
   "source": [
    "### <span style=\"color:#800000\">Fast API</span>"
   ]
  },
  {
   "cell_type": "markdown",
   "metadata": {
    "id": "rJobcNdmv_Q9"
   },
   "source": [
    "### <span style=\"color:#FF00FF\">Import libraries</span>"
   ]
  },
  {
   "cell_type": "code",
   "execution_count": 2,
   "metadata": {},
   "outputs": [],
   "source": [
    "import pandas as pd\n",
    "import numpy as np\n",
    "import random\n",
    "import pickle\n",
    "import torch\n",
    "import io\n",
    "\n",
    "import matplotlib.pyplot as plt\n",
    "import seaborn as sns\n",
    "\n",
    "\n",
    "from sklearn.feature_extraction.text import TfidfVectorizer\n",
    "from sklearn.metrics.pairwise import cosine_similarity\n",
    "\n",
    "from tensorflow.keras.preprocessing.sequence import pad_sequences\n",
    "from tensorflow.keras.models import load_model\n",
    "\n",
    "\n",
    "from fastapi import FastAPI, Query\n",
    "from typing import List\n",
    "import uvicorn\n",
    "\n",
    "import nest_asyncio\n",
    "nest_asyncio.apply()"
   ]
  },
  {
   "cell_type": "markdown",
   "metadata": {
    "id": "a2NtU-2cv_Q-"
   },
   "source": [
    "### <span style=\"color:#FF00FF\">Load the QA dataset</span>"
   ]
  },
  {
   "cell_type": "code",
   "execution_count": 3,
   "metadata": {},
   "outputs": [],
   "source": [
    "df = pd.read_csv(\"../data/question_answers_clean.csv\")"
   ]
  },
  {
   "cell_type": "markdown",
   "metadata": {
    "id": "a2NtU-2cv_Q-"
   },
   "source": [
    "### <span style=\"color:#FF00FF\">TF-IDF Vectorizer</span>"
   ]
  },
  {
   "cell_type": "code",
   "execution_count": 4,
   "metadata": {},
   "outputs": [],
   "source": [
    "text_data = df['roles'].unique()\n",
    "# Create the tf-idf feature matrix\n",
    "tfidf_vectorizer = TfidfVectorizer()\n",
    "sparse_matrix = tfidf_vectorizer.fit_transform(text_data)\n",
    "doc_term_matrix = sparse_matrix.toarray()"
   ]
  },
  {
   "cell_type": "code",
   "execution_count": 5,
   "metadata": {},
   "outputs": [],
   "source": [
    "def get_questionsbytag(df,tags):\n",
    "    roles = []\n",
    "    try:\n",
    "        for t in tags:\n",
    "            tgt_transform = tfidf_vectorizer.transform([t]).toarray()\n",
    "            tgt_cosine = cosine_similarity(doc_term_matrix,tgt_transform)\n",
    "            arr = np.stack((text_data, tgt_cosine.flatten()), axis=1)\n",
    "\n",
    "            res = arr[np.flip(np.argsort(arr[:,1]))][0]\n",
    "            if res[1] > 0:\n",
    "                roles.append(res[0]) \n",
    "    except:\n",
    "            pass    \n",
    "    result = df[df.roles.isin(roles)][[\"roles\",\"questions\",\"answers\"]]\n",
    "    result = result.groupby('roles').sample(n=3)\n",
    "    result = [tuple(x) for x in result.to_numpy()]\n",
    "    random.shuffle(result)\n",
    "    return result"
   ]
  },
  {
   "cell_type": "markdown",
   "metadata": {
    "id": "a2NtU-2cv_Q-"
   },
   "source": [
    "### <span style=\"color:#800000\">Loading Pre-trained models and Releated objects</span>"
   ]
  },
  {
   "cell_type": "markdown",
   "metadata": {
    "id": "a2NtU-2cv_Q-"
   },
   "source": [
    "### <span style=\"color:#FF00FF\">SPACY Model</span>"
   ]
  },
  {
   "cell_type": "code",
   "execution_count": 6,
   "metadata": {},
   "outputs": [],
   "source": [
    "SPACY_obj = pickle.load(open(\"../models/SPACY_objects.pkl\", \"rb\" ))\n",
    "SPACY_model = SPACY_obj.get(\"spacy_model\")"
   ]
  },
  {
   "cell_type": "markdown",
   "metadata": {
    "id": "a2NtU-2cv_Q-"
   },
   "source": [
    "### <span style=\"color:#FF00FF\">BERT Model</span>"
   ]
  },
  {
   "cell_type": "code",
   "execution_count": 7,
   "metadata": {},
   "outputs": [],
   "source": [
    "BERT_obj = pickle.load(open(\"../models/BERT_objects.pkl\", \"rb\" ))\n",
    "BERT_model = BERT_obj.get(\"bert_model\")"
   ]
  },
  {
   "cell_type": "code",
   "execution_count": 8,
   "metadata": {},
   "outputs": [],
   "source": [
    "torch.save(BERT_model,\"../models/BERT_model.pt\")"
   ]
  },
  {
   "cell_type": "code",
   "execution_count": 9,
   "metadata": {},
   "outputs": [],
   "source": [
    "BERT_model_pt = torch.load(\"../models/BERT_model.pt\")"
   ]
  },
  {
   "cell_type": "markdown",
   "metadata": {
    "id": "a2NtU-2cv_Q-"
   },
   "source": [
    "### <span style=\"color:#FF00FF\">LSTM Model</span>"
   ]
  },
  {
   "cell_type": "code",
   "execution_count": 10,
   "metadata": {},
   "outputs": [],
   "source": [
    "LSTM_obj = pickle.load(open(\"../models/LSTM_objects.pkl\", \"rb\" ))\n",
    "LSTM_model = load_model(\"../models/LSTMmodel.h5\")\n",
    "\n",
    "lstm_word2idx = LSTM_obj.get(\"lstm_word2idx\")\n",
    "lstm_tag2idx = LSTM_obj.get(\"lstm_tag2idx\")\n",
    "lstm_tags = LSTM_obj.get(\"lstm_tags\")\n",
    "lstm_max_len = LSTM_obj.get(\"lstm_max_len\")"
   ]
  },
  {
   "cell_type": "markdown",
   "metadata": {
    "id": "a2NtU-2cv_Q-"
   },
   "source": [
    "### <span style=\"color:#800000\">Visualizing Model performance</span>"
   ]
  },
  {
   "cell_type": "code",
   "execution_count": 11,
   "metadata": {},
   "outputs": [
    {
     "data": {
      "text/html": [
       "<div>\n",
       "<style scoped>\n",
       "    .dataframe tbody tr th:only-of-type {\n",
       "        vertical-align: middle;\n",
       "    }\n",
       "\n",
       "    .dataframe tbody tr th {\n",
       "        vertical-align: top;\n",
       "    }\n",
       "\n",
       "    .dataframe thead th {\n",
       "        text-align: right;\n",
       "    }\n",
       "</style>\n",
       "<table border=\"1\" class=\"dataframe\">\n",
       "  <thead>\n",
       "    <tr style=\"text-align: right;\">\n",
       "      <th></th>\n",
       "      <th>Models</th>\n",
       "      <th>Metrics</th>\n",
       "      <th>percentage</th>\n",
       "    </tr>\n",
       "  </thead>\n",
       "  <tbody>\n",
       "    <tr>\n",
       "      <th>0</th>\n",
       "      <td>SPACY</td>\n",
       "      <td>F1-score</td>\n",
       "      <td>0.972449</td>\n",
       "    </tr>\n",
       "    <tr>\n",
       "      <th>1</th>\n",
       "      <td>SPACY</td>\n",
       "      <td>Accuracy</td>\n",
       "      <td>0.946997</td>\n",
       "    </tr>\n",
       "    <tr>\n",
       "      <th>2</th>\n",
       "      <td>SPACY</td>\n",
       "      <td>Precision</td>\n",
       "      <td>0.999306</td>\n",
       "    </tr>\n",
       "    <tr>\n",
       "      <th>3</th>\n",
       "      <td>SPACY</td>\n",
       "      <td>Recall</td>\n",
       "      <td>0.946997</td>\n",
       "    </tr>\n",
       "    <tr>\n",
       "      <th>4</th>\n",
       "      <td>BERT</td>\n",
       "      <td>F1-score</td>\n",
       "      <td>0.523777</td>\n",
       "    </tr>\n",
       "    <tr>\n",
       "      <th>5</th>\n",
       "      <td>BERT</td>\n",
       "      <td>Accuracy</td>\n",
       "      <td>0.911538</td>\n",
       "    </tr>\n",
       "    <tr>\n",
       "      <th>6</th>\n",
       "      <td>BERT</td>\n",
       "      <td>Precision</td>\n",
       "      <td>0.502935</td>\n",
       "    </tr>\n",
       "    <tr>\n",
       "      <th>7</th>\n",
       "      <td>BERT</td>\n",
       "      <td>Recall</td>\n",
       "      <td>0.546421</td>\n",
       "    </tr>\n",
       "    <tr>\n",
       "      <th>8</th>\n",
       "      <td>LSTM</td>\n",
       "      <td>F1-score</td>\n",
       "      <td>0.706675</td>\n",
       "    </tr>\n",
       "    <tr>\n",
       "      <th>9</th>\n",
       "      <td>LSTM</td>\n",
       "      <td>Accuracy</td>\n",
       "      <td>0.988805</td>\n",
       "    </tr>\n",
       "    <tr>\n",
       "      <th>10</th>\n",
       "      <td>LSTM</td>\n",
       "      <td>Precision</td>\n",
       "      <td>0.688986</td>\n",
       "    </tr>\n",
       "    <tr>\n",
       "      <th>11</th>\n",
       "      <td>LSTM</td>\n",
       "      <td>Recall</td>\n",
       "      <td>0.725296</td>\n",
       "    </tr>\n",
       "  </tbody>\n",
       "</table>\n",
       "</div>"
      ],
      "text/plain": [
       "   Models    Metrics  percentage\n",
       "0   SPACY   F1-score    0.972449\n",
       "1   SPACY   Accuracy    0.946997\n",
       "2   SPACY  Precision    0.999306\n",
       "3   SPACY     Recall    0.946997\n",
       "4    BERT   F1-score    0.523777\n",
       "5    BERT   Accuracy    0.911538\n",
       "6    BERT  Precision    0.502935\n",
       "7    BERT     Recall    0.546421\n",
       "8    LSTM   F1-score    0.706675\n",
       "9    LSTM   Accuracy    0.988805\n",
       "10   LSTM  Precision    0.688986\n",
       "11   LSTM     Recall    0.725296"
      ]
     },
     "execution_count": 11,
     "metadata": {},
     "output_type": "execute_result"
    }
   ],
   "source": [
    "metrics1 = pd.DataFrame(SPACY_obj.get(\"spacy_metrics\"),index = ['percentage']).T\n",
    "metrics2 = pd.DataFrame(BERT_obj.get(\"bert_metrics\"),index = ['percentage']).T\n",
    "metrics3 = pd.DataFrame(LSTM_obj.get(\"lstm_metrics\"),index = ['percentage']).T\n",
    "\n",
    "\n",
    "model_perform = pd.concat([metrics1, metrics2,metrics3],keys=[\"SPACY\", \"BERT\", \"LSTM\"]).reset_index()\n",
    "model_perform = model_perform.rename(columns={'level_0': 'Models','level_1': 'Metrics'})\n",
    "model_perform"
   ]
  },
  {
   "cell_type": "code",
   "execution_count": 12,
   "metadata": {},
   "outputs": [
    {
     "data": {
      "image/png": "[encoded data removed]",
      "text/plain": [
       "<Figure size 1152x360 with 1 Axes>"
      ]
     },
     "metadata": {},
     "output_type": "display_data"
    }
   ],
   "source": [
    "sns.set(style='darkgrid')\n",
    "f, ax = plt.subplots(figsize =(16, 5)) \n",
    "splot = sns.barplot(x='Metrics', y=\"percentage\", hue='Models', data=model_perform, ax=ax, \n",
    "                    palette = \"gist_earth_r\")\n",
    "\n",
    "\n",
    "for p in splot.patches:\n",
    "    splot.annotate(\"{0:.2f}%\".format(p.get_height()*100), (p.get_x() + p.get_width() / 2., p.get_height()),\n",
    "                   ha = 'center', va = 'center', xytext = (0, 10), textcoords = 'offset points',\n",
    "                   fontsize=14)\n",
    "    \n",
    "    \n",
    "# Create plot\n",
    "plt.xlabel(\"Metrics\", fontsize=14) \n",
    "plt.ylabel(\"Score (%)\", fontsize=14)\n",
    "plt.tight_layout()\n",
    "plt.tick_params(labelsize=14)\n",
    "plt.ylim(0.0, 1.1)\n",
    "plt.legend(loc=\"lower right\",framealpha=1,shadow=True, borderpad=1, fontsize=14)\n",
    "plt.show()"
   ]
  },
  {
   "cell_type": "code",
   "execution_count": 13,
   "metadata": {},
   "outputs": [],
   "source": [
    "def get_tags(model,text):\n",
    "    res = []\n",
    "    model = model.upper()\n",
    "    if model == \"SPACY\":\n",
    "        doc = SPACY_model(text)\n",
    "        res = [(ent.text, ent.label_) for ent in doc.ents]\n",
    "    \n",
    "    if model == \"LSTM\":\n",
    "        test_sentence = text.split()\n",
    "        x_test_sent = pad_sequences(sequences=[[lstm_word2idx.get(w, 0) for w in test_sentence]],\n",
    "                                    padding=\"post\", value=lstm_tag2idx[\"O\"], maxlen=lstm_max_len)\n",
    "\n",
    "        p = LSTM_model.predict(np.array([x_test_sent[0]]))\n",
    "        p = np.argmax(p, axis=-1)\n",
    "        for w, pred in zip(test_sentence, p[0]):\n",
    "            t = lstm_tags[pred]\n",
    "            if t != \"O\":\n",
    "                res.append((w, lstm_tags[pred]))\n",
    "                \n",
    "    if model == \"BERT\":\n",
    "        prediction, model_output = BERT_model_pt.predict([text])\n",
    "        d =  list(np.concatenate(prediction).flat)\n",
    "\n",
    "        for k in d:\n",
    "            for h,n in k.items():\n",
    "                if n != \"O\":\n",
    "                    res.append((h, n))\n",
    "\n",
    "    \n",
    "    res = { 'Entities' : set(res)}\n",
    "    return res"
   ]
  },
  {
   "cell_type": "markdown",
   "metadata": {
    "id": "a2NtU-2cv_Q-"
   },
   "source": [
    "### <span style=\"color:#FF00FF\">Fast API endpoints</span>"
   ]
  },
  {
   "cell_type": "code",
   "execution_count": null,
   "metadata": {},
   "outputs": [
    {
     "name": "stderr",
     "output_type": "stream",
     "text": [
      "INFO:     Started server process [3024]\n",
      "INFO:     Waiting for application startup.\n",
      "INFO:     Application startup complete.\n",
      "INFO:     Uvicorn running on http://127.0.0.1:8000 (Press CTRL+C to quit)\n"
     ]
    },
    {
     "name": "stdout",
     "output_type": "stream",
     "text": [
      "INFO:     127.0.0.1:65060 - \"GET /metrics HTTP/1.1\" 200 OK\n"
     ]
    },
    {
     "data": {
      "application/vnd.jupyter.widget-view+json": {
       "model_id": "b44b5bff92eb48c88d54aabb57697613",
       "version_major": 2,
       "version_minor": 0
      },
      "text/plain": [
       "HBox(children=(FloatProgress(value=0.0, max=1.0), HTML(value='')))"
      ]
     },
     "metadata": {},
     "output_type": "display_data"
    },
    {
     "name": "stdout",
     "output_type": "stream",
     "text": [
      "INFO:     127.0.0.1:65091 - \"GET /metrics HTTP/1.1\" 200 OK\n",
      "\n"
     ]
    },
    {
     "data": {
      "application/vnd.jupyter.widget-view+json": {
       "model_id": "99f3e9af64a941ffbf3d361b447e4016",
       "version_major": 2,
       "version_minor": 0
      },
      "text/plain": [
       "HBox(children=(FloatProgress(value=0.0, description='Running Prediction', max=1.0, style=ProgressStyle(descrip…"
      ]
     },
     "metadata": {},
     "output_type": "display_data"
    },
    {
     "name": "stdout",
     "output_type": "stream",
     "text": [
      "\n"
     ]
    },
    {
     "data": {
      "application/vnd.jupyter.widget-view+json": {
       "model_id": "b6daeddad2744846a0c5e1234741be0b",
       "version_major": 2,
       "version_minor": 0
      },
      "text/plain": [
       "HBox(children=(FloatProgress(value=0.0, max=1.0), HTML(value='')))"
      ]
     },
     "metadata": {},
     "output_type": "display_data"
    },
    {
     "name": "stdout",
     "output_type": "stream",
     "text": [
      "\n"
     ]
    },
    {
     "data": {
      "application/vnd.jupyter.widget-view+json": {
       "model_id": "44b5570b94a04030b710cd25c4b21c07",
       "version_major": 2,
       "version_minor": 0
      },
      "text/plain": [
       "HBox(children=(FloatProgress(value=0.0, description='Running Prediction', max=1.0, style=ProgressStyle(descrip…"
      ]
     },
     "metadata": {},
     "output_type": "display_data"
    },
    {
     "name": "stdout",
     "output_type": "stream",
     "text": [
      "\n",
      "INFO:     127.0.0.1:65095 - \"GET /tags?model=BERT&jobdesc=description+scope+role+piramal+pharma+solutions+pps+chief+information+officer+cio+role+provide+vision+leadership+developing+implementing+information+technology+initiatives+align+vision+piramal+pharma+solutions+pps+businesses+pps+cio+charter+build+competitive+edge+business+proactively+building+world+class+high+quality+innovative+technology+digital+analytics+solutions+global+operations+job+overview+strategy+innovation+strategic+business+partner+create+enhanced+digital+technology+vision+enterprise+identify+opportunities+differentiated+technology+capabilities+solutions+p+roactively+recommend+solutions+business+functional+leadership+team+considering+business+vision+industry+trends+bringing+outside+perspective+p+ush+bar+technology+innovation+imbibing+cutting+edge+technological+innovations+global+benchmarks+blue+sky+thinking+create+user+friendly+technologies+offering+great+experience+cts+champion+change+agent+accelerating+organizational+changes+required+create+sustain+enterprise+technology+capabilities+cts+thought+leader+emerging+digital+business+models+technologies+articulating+digital+future+enterprise+role+internally+externally+enable+business+growth+enable+inorganic+business+growth+merger+acquisition+leading+due+diligence+driving+integration+post+acquisition+lead+strategic+operational+planning+implementation+achieve+business+goals+fostering+innovation+prioritizing+initiatives+coordinating+evaluation+deployment+management+current+future+systems+across+organization+coordinate+facilitate+consultation+relevant+business+stakeholders+define+business+systems+requirements+new+technology+implementations+planning+execution+partner+various+site+ho+teams+manage+project+portfolio+relate+selection+acquisition+development+implementation+major+information+systems+defines+governance+mechanism+metrics+review+progress+technology+projects+business+case+achievement+technology+budget+company+provide+upfront+estimates+costs+various+heads+keep+track+spends+ensure+best+roi+company+technology+investment+maintaining+balance+frugality+financial+discipline+adequately+gearing+future+growth+b+uild+ecosystem+group+technology+teams+partners+including+startups+product+vendors+develop+implement+technology+solutions+b+uild+future+read+technology+team+attracting+retaining+upskilling+industry+best+talent+compliance+information+security+collaborate+piramal+quality+e+compliance+qec+team+ensure+quality+compliance+per+defined+sops+guidelines+accordance+21+cfr+part+11+gamp+guidelines+collaborate+information+security+team+ensure+adherence+information+security+guidelines+processes+skills+abilities+exceptional+inter+personal+skills+enabling+engagement+levels+across+leadership+skills+including+ability+manage+large+team+understanding+strategy+business+technology+application+levels+environment+priorities+goals+quickly+change+evolve+also+skills+think+strategically+including+developing+information+security+strategies+interpreting+handling+complex+information+acting+political+sensitivity+driving+engaging+positively+change+sound+understanding+portfolio+program+project+management+track+record+delivering+enabling+large+scale+complex+change+programs+qualifications+experience+delivering+strategy+delivery+essential+across+multiple+organisations+desirable+experience+working+pharma+business+senior+position+essential+experience+procuring+managing+large+complex+outcome+based+contracts+interdependencies+experience+working+senior+management+team+develop+business+focussed+strategies+effectively+support+business+needs+experience+technologies+sap+salesforce+bi+pharma+quality+applications+preferred+experience+digital+technologies+ar+vr+rpa+chatbots+ai+ml+etc+preferred+experience+joint+procurement+market+testing+outsourcing+well+negotiating+quality+cost+effective+services+experience+successfully+implementing+strategy+business+planning+evidence+delivering+high+quality+customer+focussed+services+experience+contributing+development+implementation+effective+management+information+systems+aid+decision+making+process+evidence+contribution+major+transformation+building+teams+time+change HTTP/1.1\" 200 OK\n",
      "INFO:     127.0.0.1:65097 - \"GET /questions?data=developing&data=officer&data=operations&data=leadership&data=information&data=analytics HTTP/1.1\" 200 OK\n",
      "INFO:     127.0.0.1:65100 - \"GET /tags?model=LSTM&jobdesc=description+scope+role+piramal+pharma+solutions+pps+chief+information+officer+cio+role+provide+vision+leadership+developing+implementing+information+technology+initiatives+align+vision+piramal+pharma+solutions+pps+businesses+pps+cio+charter+build+competitive+edge+business+proactively+building+world+class+high+quality+innovative+technology+digital+analytics+solutions+global+operations+job+overview+strategy+innovation+strategic+business+partner+create+enhanced+digital+technology+vision+enterprise+identify+opportunities+differentiated+technology+capabilities+solutions+p+roactively+recommend+solutions+business+functional+leadership+team+considering+business+vision+industry+trends+bringing+outside+perspective+p+ush+bar+technology+innovation+imbibing+cutting+edge+technological+innovations+global+benchmarks+blue+sky+thinking+create+user+friendly+technologies+offering+great+experience+cts+champion+change+agent+accelerating+organizational+changes+required+create+sustain+enterprise+technology+capabilities+cts+thought+leader+emerging+digital+business+models+technologies+articulating+digital+future+enterprise+role+internally+externally+enable+business+growth+enable+inorganic+business+growth+merger+acquisition+leading+due+diligence+driving+integration+post+acquisition+lead+strategic+operational+planning+implementation+achieve+business+goals+fostering+innovation+prioritizing+initiatives+coordinating+evaluation+deployment+management+current+future+systems+across+organization+coordinate+facilitate+consultation+relevant+business+stakeholders+define+business+systems+requirements+new+technology+implementations+planning+execution+partner+various+site+ho+teams+manage+project+portfolio+relate+selection+acquisition+development+implementation+major+information+systems+defines+governance+mechanism+metrics+review+progress+technology+projects+business+case+achievement+technology+budget+company+provide+upfront+estimates+costs+various+heads+keep+track+spends+ensure+best+roi+company+technology+investment+maintaining+balance+frugality+financial+discipline+adequately+gearing+future+growth+b+uild+ecosystem+group+technology+teams+partners+including+startups+product+vendors+develop+implement+technology+solutions+b+uild+future+read+technology+team+attracting+retaining+upskilling+industry+best+talent+compliance+information+security+collaborate+piramal+quality+e+compliance+qec+team+ensure+quality+compliance+per+defined+sops+guidelines+accordance+21+cfr+part+11+gamp+guidelines+collaborate+information+security+team+ensure+adherence+information+security+guidelines+processes+skills+abilities+exceptional+inter+personal+skills+enabling+engagement+levels+across+leadership+skills+including+ability+manage+large+team+understanding+strategy+business+technology+application+levels+environment+priorities+goals+quickly+change+evolve+also+skills+think+strategically+including+developing+information+security+strategies+interpreting+handling+complex+information+acting+political+sensitivity+driving+engaging+positively+change+sound+understanding+portfolio+program+project+management+track+record+delivering+enabling+large+scale+complex+change+programs+qualifications+experience+delivering+strategy+delivery+essential+across+multiple+organisations+desirable+experience+working+pharma+business+senior+position+essential+experience+procuring+managing+large+complex+outcome+based+contracts+interdependencies+experience+working+senior+management+team+develop+business+focussed+strategies+effectively+support+business+needs+experience+technologies+sap+salesforce+bi+pharma+quality+applications+preferred+experience+digital+technologies+ar+vr+rpa+chatbots+ai+ml+etc+preferred+experience+joint+procurement+market+testing+outsourcing+well+negotiating+quality+cost+effective+services+experience+successfully+implementing+strategy+business+planning+evidence+delivering+high+quality+customer+focussed+services+experience+contributing+development+implementation+effective+management+information+systems+aid+decision+making+process+evidence+contribution+major+transformation+building+teams+time+change HTTP/1.1\" 500 Internal Server Error\n"
     ]
    },
    {
     "name": "stderr",
     "output_type": "stream",
     "text": [
      "ERROR:    Exception in ASGI application\n",
      "Traceback (most recent call last):\n",
      "  File \"C:\\Users\\nages\\anaconda3\\envs\\tf_gpu\\lib\\site-packages\\uvicorn\\protocols\\http\\h11_impl.py\", line 396, in run_asgi\n",
      "    result = await app(self.scope, self.receive, self.send)\n",
      "  File \"C:\\Users\\nages\\anaconda3\\envs\\tf_gpu\\lib\\site-packages\\uvicorn\\middleware\\proxy_headers.py\", line 45, in __call__\n",
      "    return await self.app(scope, receive, send)\n",
      "  File \"C:\\Users\\nages\\anaconda3\\envs\\tf_gpu\\lib\\site-packages\\fastapi\\applications.py\", line 199, in __call__\n",
      "    await super().__call__(scope, receive, send)\n",
      "  File \"C:\\Users\\nages\\anaconda3\\envs\\tf_gpu\\lib\\site-packages\\starlette\\applications.py\", line 111, in __call__\n",
      "    await self.middleware_stack(scope, receive, send)\n",
      "  File \"C:\\Users\\nages\\anaconda3\\envs\\tf_gpu\\lib\\site-packages\\starlette\\middleware\\errors.py\", line 181, in __call__\n",
      "    raise exc from None\n",
      "  File \"C:\\Users\\nages\\anaconda3\\envs\\tf_gpu\\lib\\site-packages\\starlette\\middleware\\errors.py\", line 159, in __call__\n",
      "    await self.app(scope, receive, _send)\n",
      "  File \"C:\\Users\\nages\\anaconda3\\envs\\tf_gpu\\lib\\site-packages\\starlette\\exceptions.py\", line 82, in __call__\n",
      "    raise exc from None\n",
      "  File \"C:\\Users\\nages\\anaconda3\\envs\\tf_gpu\\lib\\site-packages\\starlette\\exceptions.py\", line 71, in __call__\n",
      "    await self.app(scope, receive, sender)\n",
      "  File \"C:\\Users\\nages\\anaconda3\\envs\\tf_gpu\\lib\\site-packages\\starlette\\routing.py\", line 566, in __call__\n",
      "    await route.handle(scope, receive, send)\n",
      "  File \"C:\\Users\\nages\\anaconda3\\envs\\tf_gpu\\lib\\site-packages\\starlette\\routing.py\", line 227, in handle\n",
      "    await self.app(scope, receive, send)\n",
      "  File \"C:\\Users\\nages\\anaconda3\\envs\\tf_gpu\\lib\\site-packages\\starlette\\routing.py\", line 41, in app\n",
      "    response = await func(request)\n",
      "  File \"C:\\Users\\nages\\anaconda3\\envs\\tf_gpu\\lib\\site-packages\\fastapi\\routing.py\", line 201, in app\n",
      "    raw_response = await run_endpoint_function(\n",
      "  File \"C:\\Users\\nages\\anaconda3\\envs\\tf_gpu\\lib\\site-packages\\fastapi\\routing.py\", line 150, in run_endpoint_function\n",
      "    return await run_in_threadpool(dependant.call, **values)\n",
      "  File \"C:\\Users\\nages\\anaconda3\\envs\\tf_gpu\\lib\\site-packages\\starlette\\concurrency.py\", line 34, in run_in_threadpool\n",
      "    return await loop.run_in_executor(None, func, *args)\n",
      "  File \"C:\\Users\\nages\\anaconda3\\envs\\tf_gpu\\lib\\asyncio\\futures.py\", line 260, in __await__\n",
      "    yield self  # This tells Task to wait for completion.\n",
      "  File \"C:\\Users\\nages\\anaconda3\\envs\\tf_gpu\\lib\\asyncio\\tasks.py\", line 349, in __wakeup\n",
      "    future.result()\n",
      "  File \"C:\\Users\\nages\\anaconda3\\envs\\tf_gpu\\lib\\asyncio\\futures.py\", line 178, in result\n",
      "    raise self._exception\n",
      "  File \"C:\\Users\\nages\\anaconda3\\envs\\tf_gpu\\lib\\concurrent\\futures\\thread.py\", line 57, in run\n",
      "    result = self.fn(*self.args, **self.kwargs)\n",
      "  File \"<ipython-input-14-31dd09ef7c2b>\", line 15, in predict\n",
      "    res = get_tags(model,jobdesc)\n",
      "  File \"<ipython-input-13-0d2bbc8c6eac>\", line 11, in get_tags\n",
      "    padding=\"post\", value=lstm_tag2idx[\"O\"], maxlen=lstm_max_len)\n",
      "TypeError: 'NoneType' object is not subscriptable\n"
     ]
    },
    {
     "name": "stdout",
     "output_type": "stream",
     "text": [
      "INFO:     127.0.0.1:65111 - \"GET /tags?model=Spacy&jobdesc=description+scope+role+piramal+pharma+solutions+pps+chief+information+officer+cio+role+provide+vision+leadership+developing+implementing+information+technology+initiatives+align+vision+piramal+pharma+solutions+pps+businesses+pps+cio+charter+build+competitive+edge+business+proactively+building+world+class+high+quality+innovative+technology+digital+analytics+solutions+global+operations+job+overview+strategy+innovation+strategic+business+partner+create+enhanced+digital+technology+vision+enterprise+identify+opportunities+differentiated+technology+capabilities+solutions+p+roactively+recommend+solutions+business+functional+leadership+team+considering+business+vision+industry+trends+bringing+outside+perspective+p+ush+bar+technology+innovation+imbibing+cutting+edge+technological+innovations+global+benchmarks+blue+sky+thinking+create+user+friendly+technologies+offering+great+experience+cts+champion+change+agent+accelerating+organizational+changes+required+create+sustain+enterprise+technology+capabilities+cts+thought+leader+emerging+digital+business+models+technologies+articulating+digital+future+enterprise+role+internally+externally+enable+business+growth+enable+inorganic+business+growth+merger+acquisition+leading+due+diligence+driving+integration+post+acquisition+lead+strategic+operational+planning+implementation+achieve+business+goals+fostering+innovation+prioritizing+initiatives+coordinating+evaluation+deployment+management+current+future+systems+across+organization+coordinate+facilitate+consultation+relevant+business+stakeholders+define+business+systems+requirements+new+technology+implementations+planning+execution+partner+various+site+ho+teams+manage+project+portfolio+relate+selection+acquisition+development+implementation+major+information+systems+defines+governance+mechanism+metrics+review+progress+technology+projects+business+case+achievement+technology+budget+company+provide+upfront+estimates+costs+various+heads+keep+track+spends+ensure+best+roi+company+technology+investment+maintaining+balance+frugality+financial+discipline+adequately+gearing+future+growth+b+uild+ecosystem+group+technology+teams+partners+including+startups+product+vendors+develop+implement+technology+solutions+b+uild+future+read+technology+team+attracting+retaining+upskilling+industry+best+talent+compliance+information+security+collaborate+piramal+quality+e+compliance+qec+team+ensure+quality+compliance+per+defined+sops+guidelines+accordance+21+cfr+part+11+gamp+guidelines+collaborate+information+security+team+ensure+adherence+information+security+guidelines+processes+skills+abilities+exceptional+inter+personal+skills+enabling+engagement+levels+across+leadership+skills+including+ability+manage+large+team+understanding+strategy+business+technology+application+levels+environment+priorities+goals+quickly+change+evolve+also+skills+think+strategically+including+developing+information+security+strategies+interpreting+handling+complex+information+acting+political+sensitivity+driving+engaging+positively+change+sound+understanding+portfolio+program+project+management+track+record+delivering+enabling+large+scale+complex+change+programs+qualifications+experience+delivering+strategy+delivery+essential+across+multiple+organisations+desirable+experience+working+pharma+business+senior+position+essential+experience+procuring+managing+large+complex+outcome+based+contracts+interdependencies+experience+working+senior+management+team+develop+business+focussed+strategies+effectively+support+business+needs+experience+technologies+sap+salesforce+bi+pharma+quality+applications+preferred+experience+digital+technologies+ar+vr+rpa+chatbots+ai+ml+etc+preferred+experience+joint+procurement+market+testing+outsourcing+well+negotiating+quality+cost+effective+services+experience+successfully+implementing+strategy+business+planning+evidence+delivering+high+quality+customer+focussed+services+experience+contributing+development+implementation+effective+management+information+systems+aid+decision+making+process+evidence+contribution+major+transformation+building+teams+time+change HTTP/1.1\" 200 OK\n",
      "INFO:     127.0.0.1:65112 - \"GET /questions?data=project+management&data=application&data=information+systems&data=compliance&data=applications&data=senior+management&data=track+record&data=information+technology&data=testing&data=leadership&data=development&data=lead&data=budget&data=operations&data=ability+manage&data=analytics&data=bi&data=decision+making&data=developing&data=support&data=salesforce&data=sap&data=ai&data=deployment HTTP/1.1\" 200 OK\n",
      "INFO:     127.0.0.1:65114 - \"GET /tags?model=LSTM&jobdesc=description+scope+role+piramal+pharma+solutions+pps+chief+information+officer+cio+role+provide+vision+leadership+developing+implementing+information+technology+initiatives+align+vision+piramal+pharma+solutions+pps+businesses+pps+cio+charter+build+competitive+edge+business+proactively+building+world+class+high+quality+innovative+technology+digital+analytics+solutions+global+operations+job+overview+strategy+innovation+strategic+business+partner+create+enhanced+digital+technology+vision+enterprise+identify+opportunities+differentiated+technology+capabilities+solutions+p+roactively+recommend+solutions+business+functional+leadership+team+considering+business+vision+industry+trends+bringing+outside+perspective+p+ush+bar+technology+innovation+imbibing+cutting+edge+technological+innovations+global+benchmarks+blue+sky+thinking+create+user+friendly+technologies+offering+great+experience+cts+champion+change+agent+accelerating+organizational+changes+required+create+sustain+enterprise+technology+capabilities+cts+thought+leader+emerging+digital+business+models+technologies+articulating+digital+future+enterprise+role+internally+externally+enable+business+growth+enable+inorganic+business+growth+merger+acquisition+leading+due+diligence+driving+integration+post+acquisition+lead+strategic+operational+planning+implementation+achieve+business+goals+fostering+innovation+prioritizing+initiatives+coordinating+evaluation+deployment+management+current+future+systems+across+organization+coordinate+facilitate+consultation+relevant+business+stakeholders+define+business+systems+requirements+new+technology+implementations+planning+execution+partner+various+site+ho+teams+manage+project+portfolio+relate+selection+acquisition+development+implementation+major+information+systems+defines+governance+mechanism+metrics+review+progress+technology+projects+business+case+achievement+technology+budget+company+provide+upfront+estimates+costs+various+heads+keep+track+spends+ensure+best+roi+company+technology+investment+maintaining+balance+frugality+financial+discipline+adequately+gearing+future+growth+b+uild+ecosystem+group+technology+teams+partners+including+startups+product+vendors+develop+implement+technology+solutions+b+uild+future+read+technology+team+attracting+retaining+upskilling+industry+best+talent+compliance+information+security+collaborate+piramal+quality+e+compliance+qec+team+ensure+quality+compliance+per+defined+sops+guidelines+accordance+21+cfr+part+11+gamp+guidelines+collaborate+information+security+team+ensure+adherence+information+security+guidelines+processes+skills+abilities+exceptional+inter+personal+skills+enabling+engagement+levels+across+leadership+skills+including+ability+manage+large+team+understanding+strategy+business+technology+application+levels+environment+priorities+goals+quickly+change+evolve+also+skills+think+strategically+including+developing+information+security+strategies+interpreting+handling+complex+information+acting+political+sensitivity+driving+engaging+positively+change+sound+understanding+portfolio+program+project+management+track+record+delivering+enabling+large+scale+complex+change+programs+qualifications+experience+delivering+strategy+delivery+essential+across+multiple+organisations+desirable+experience+working+pharma+business+senior+position+essential+experience+procuring+managing+large+complex+outcome+based+contracts+interdependencies+experience+working+senior+management+team+develop+business+focussed+strategies+effectively+support+business+needs+experience+technologies+sap+salesforce+bi+pharma+quality+applications+preferred+experience+digital+technologies+ar+vr+rpa+chatbots+ai+ml+etc+preferred+experience+joint+procurement+market+testing+outsourcing+well+negotiating+quality+cost+effective+services+experience+successfully+implementing+strategy+business+planning+evidence+delivering+high+quality+customer+focussed+services+experience+contributing+development+implementation+effective+management+information+systems+aid+decision+making+process+evidence+contribution+major+transformation+building+teams+time+change HTTP/1.1\" 500 Internal Server Error\n"
     ]
    },
    {
     "name": "stderr",
     "output_type": "stream",
     "text": [
      "ERROR:    Exception in ASGI application\n",
      "Traceback (most recent call last):\n",
      "  File \"C:\\Users\\nages\\anaconda3\\envs\\tf_gpu\\lib\\site-packages\\uvicorn\\protocols\\http\\h11_impl.py\", line 396, in run_asgi\n",
      "    result = await app(self.scope, self.receive, self.send)\n",
      "  File \"C:\\Users\\nages\\anaconda3\\envs\\tf_gpu\\lib\\site-packages\\uvicorn\\middleware\\proxy_headers.py\", line 45, in __call__\n",
      "    return await self.app(scope, receive, send)\n",
      "  File \"C:\\Users\\nages\\anaconda3\\envs\\tf_gpu\\lib\\site-packages\\fastapi\\applications.py\", line 199, in __call__\n",
      "    await super().__call__(scope, receive, send)\n",
      "  File \"C:\\Users\\nages\\anaconda3\\envs\\tf_gpu\\lib\\site-packages\\starlette\\applications.py\", line 111, in __call__\n",
      "    await self.middleware_stack(scope, receive, send)\n",
      "  File \"C:\\Users\\nages\\anaconda3\\envs\\tf_gpu\\lib\\site-packages\\starlette\\middleware\\errors.py\", line 181, in __call__\n",
      "    raise exc from None\n",
      "  File \"C:\\Users\\nages\\anaconda3\\envs\\tf_gpu\\lib\\site-packages\\starlette\\middleware\\errors.py\", line 159, in __call__\n",
      "    await self.app(scope, receive, _send)\n",
      "  File \"C:\\Users\\nages\\anaconda3\\envs\\tf_gpu\\lib\\site-packages\\starlette\\exceptions.py\", line 82, in __call__\n",
      "    raise exc from None\n",
      "  File \"C:\\Users\\nages\\anaconda3\\envs\\tf_gpu\\lib\\site-packages\\starlette\\exceptions.py\", line 71, in __call__\n",
      "    await self.app(scope, receive, sender)\n",
      "  File \"C:\\Users\\nages\\anaconda3\\envs\\tf_gpu\\lib\\site-packages\\starlette\\routing.py\", line 566, in __call__\n",
      "    await route.handle(scope, receive, send)\n",
      "  File \"C:\\Users\\nages\\anaconda3\\envs\\tf_gpu\\lib\\site-packages\\starlette\\routing.py\", line 227, in handle\n",
      "    await self.app(scope, receive, send)\n",
      "  File \"C:\\Users\\nages\\anaconda3\\envs\\tf_gpu\\lib\\site-packages\\starlette\\routing.py\", line 41, in app\n",
      "    response = await func(request)\n",
      "  File \"C:\\Users\\nages\\anaconda3\\envs\\tf_gpu\\lib\\site-packages\\fastapi\\routing.py\", line 201, in app\n",
      "    raw_response = await run_endpoint_function(\n",
      "  File \"C:\\Users\\nages\\anaconda3\\envs\\tf_gpu\\lib\\site-packages\\fastapi\\routing.py\", line 150, in run_endpoint_function\n",
      "    return await run_in_threadpool(dependant.call, **values)\n",
      "  File \"C:\\Users\\nages\\anaconda3\\envs\\tf_gpu\\lib\\site-packages\\starlette\\concurrency.py\", line 34, in run_in_threadpool\n",
      "    return await loop.run_in_executor(None, func, *args)\n",
      "  File \"C:\\Users\\nages\\anaconda3\\envs\\tf_gpu\\lib\\asyncio\\futures.py\", line 260, in __await__\n",
      "    yield self  # This tells Task to wait for completion.\n",
      "  File \"C:\\Users\\nages\\anaconda3\\envs\\tf_gpu\\lib\\asyncio\\tasks.py\", line 349, in __wakeup\n",
      "    future.result()\n",
      "  File \"C:\\Users\\nages\\anaconda3\\envs\\tf_gpu\\lib\\asyncio\\futures.py\", line 178, in result\n",
      "    raise self._exception\n",
      "  File \"C:\\Users\\nages\\anaconda3\\envs\\tf_gpu\\lib\\concurrent\\futures\\thread.py\", line 57, in run\n",
      "    result = self.fn(*self.args, **self.kwargs)\n",
      "  File \"<ipython-input-14-31dd09ef7c2b>\", line 15, in predict\n",
      "    res = get_tags(model,jobdesc)\n",
      "  File \"<ipython-input-13-0d2bbc8c6eac>\", line 11, in get_tags\n",
      "    padding=\"post\", value=lstm_tag2idx[\"O\"], maxlen=lstm_max_len)\n",
      "TypeError: 'NoneType' object is not subscriptable\n"
     ]
    },
    {
     "name": "stdout",
     "output_type": "stream",
     "text": [
      "INFO:     127.0.0.1:65123 - \"GET /tags?model=LSTM&jobdesc=description+scope+role+piramal+pharma+solutions+pps+chief+information+officer+cio+role+provide+vision+leadership+developing+implementing+information+technology+initiatives+align+vision+piramal+pharma+solutions+pps+businesses+pps+cio+charter+build+competitive+edge+business+proactively+building+world+class+high+quality+innovative+technology+digital+analytics+solutions+global+operations+job+overview+strategy+innovation+strategic+business+partner+create+enhanced+digital+technology+vision+enterprise+identify+opportunities+differentiated+technology+capabilities+solutions+p+roactively+recommend+solutions+business+functional+leadership+team+considering+business+vision+industry+trends+bringing+outside+perspective+p+ush+bar+technology+innovation+imbibing+cutting+edge+technological+innovations+global+benchmarks+blue+sky+thinking+create+user+friendly+technologies+offering+great+experience+cts+champion+change+agent+accelerating+organizational+changes+required+create+sustain+enterprise+technology+capabilities+cts+thought+leader+emerging+digital+business+models+technologies+articulating+digital+future+enterprise+role+internally+externally+enable+business+growth+enable+inorganic+business+growth+merger+acquisition+leading+due+diligence+driving+integration+post+acquisition+lead+strategic+operational+planning+implementation+achieve+business+goals+fostering+innovation+prioritizing+initiatives+coordinating+evaluation+deployment+management+current+future+systems+across+organization+coordinate+facilitate+consultation+relevant+business+stakeholders+define+business+systems+requirements+new+technology+implementations+planning+execution+partner+various+site+ho+teams+manage+project+portfolio+relate+selection+acquisition+development+implementation+major+information+systems+defines+governance+mechanism+metrics+review+progress+technology+projects+business+case+achievement+technology+budget+company+provide+upfront+estimates+costs+various+heads+keep+track+spends+ensure+best+roi+company+technology+investment+maintaining+balance+frugality+financial+discipline+adequately+gearing+future+growth+b+uild+ecosystem+group+technology+teams+partners+including+startups+product+vendors+develop+implement+technology+solutions+b+uild+future+read+technology+team+attracting+retaining+upskilling+industry+best+talent+compliance+information+security+collaborate+piramal+quality+e+compliance+qec+team+ensure+quality+compliance+per+defined+sops+guidelines+accordance+21+cfr+part+11+gamp+guidelines+collaborate+information+security+team+ensure+adherence+information+security+guidelines+processes+skills+abilities+exceptional+inter+personal+skills+enabling+engagement+levels+across+leadership+skills+including+ability+manage+large+team+understanding+strategy+business+technology+application+levels+environment+priorities+goals+quickly+change+evolve+also+skills+think+strategically+including+developing+information+security+strategies+interpreting+handling+complex+information+acting+political+sensitivity+driving+engaging+positively+change+sound+understanding+portfolio+program+project+management+track+record+delivering+enabling+large+scale+complex+change+programs+qualifications+experience+delivering+strategy+delivery+essential+across+multiple+organisations+desirable+experience+working+pharma+business+senior+position+essential+experience+procuring+managing+large+complex+outcome+based+contracts+interdependencies+experience+working+senior+management+team+develop+business+focussed+strategies+effectively+support+business+needs+experience+technologies+sap+salesforce+bi+pharma+quality+applications+preferred+experience+digital+technologies+ar+vr+rpa+chatbots+ai+ml+etc+preferred+experience+joint+procurement+market+testing+outsourcing+well+negotiating+quality+cost+effective+services+experience+successfully+implementing+strategy+business+planning+evidence+delivering+high+quality+customer+focussed+services+experience+contributing+development+implementation+effective+management+information+systems+aid+decision+making+process+evidence+contribution+major+transformation+building+teams+time+change HTTP/1.1\" 500 Internal Server Error\n"
     ]
    },
    {
     "name": "stderr",
     "output_type": "stream",
     "text": [
      "ERROR:    Exception in ASGI application\n",
      "Traceback (most recent call last):\n",
      "  File \"C:\\Users\\nages\\anaconda3\\envs\\tf_gpu\\lib\\site-packages\\uvicorn\\protocols\\http\\h11_impl.py\", line 396, in run_asgi\n",
      "    result = await app(self.scope, self.receive, self.send)\n",
      "  File \"C:\\Users\\nages\\anaconda3\\envs\\tf_gpu\\lib\\site-packages\\uvicorn\\middleware\\proxy_headers.py\", line 45, in __call__\n",
      "    return await self.app(scope, receive, send)\n",
      "  File \"C:\\Users\\nages\\anaconda3\\envs\\tf_gpu\\lib\\site-packages\\fastapi\\applications.py\", line 199, in __call__\n",
      "    await super().__call__(scope, receive, send)\n",
      "  File \"C:\\Users\\nages\\anaconda3\\envs\\tf_gpu\\lib\\site-packages\\starlette\\applications.py\", line 111, in __call__\n",
      "    await self.middleware_stack(scope, receive, send)\n",
      "  File \"C:\\Users\\nages\\anaconda3\\envs\\tf_gpu\\lib\\site-packages\\starlette\\middleware\\errors.py\", line 181, in __call__\n",
      "    raise exc from None\n",
      "  File \"C:\\Users\\nages\\anaconda3\\envs\\tf_gpu\\lib\\site-packages\\starlette\\middleware\\errors.py\", line 159, in __call__\n",
      "    await self.app(scope, receive, _send)\n",
      "  File \"C:\\Users\\nages\\anaconda3\\envs\\tf_gpu\\lib\\site-packages\\starlette\\exceptions.py\", line 82, in __call__\n",
      "    raise exc from None\n",
      "  File \"C:\\Users\\nages\\anaconda3\\envs\\tf_gpu\\lib\\site-packages\\starlette\\exceptions.py\", line 71, in __call__\n",
      "    await self.app(scope, receive, sender)\n",
      "  File \"C:\\Users\\nages\\anaconda3\\envs\\tf_gpu\\lib\\site-packages\\starlette\\routing.py\", line 566, in __call__\n",
      "    await route.handle(scope, receive, send)\n",
      "  File \"C:\\Users\\nages\\anaconda3\\envs\\tf_gpu\\lib\\site-packages\\starlette\\routing.py\", line 227, in handle\n",
      "    await self.app(scope, receive, send)\n",
      "  File \"C:\\Users\\nages\\anaconda3\\envs\\tf_gpu\\lib\\site-packages\\starlette\\routing.py\", line 41, in app\n",
      "    response = await func(request)\n",
      "  File \"C:\\Users\\nages\\anaconda3\\envs\\tf_gpu\\lib\\site-packages\\fastapi\\routing.py\", line 201, in app\n",
      "    raw_response = await run_endpoint_function(\n",
      "  File \"C:\\Users\\nages\\anaconda3\\envs\\tf_gpu\\lib\\site-packages\\fastapi\\routing.py\", line 150, in run_endpoint_function\n",
      "    return await run_in_threadpool(dependant.call, **values)\n",
      "  File \"C:\\Users\\nages\\anaconda3\\envs\\tf_gpu\\lib\\site-packages\\starlette\\concurrency.py\", line 34, in run_in_threadpool\n",
      "    return await loop.run_in_executor(None, func, *args)\n",
      "  File \"C:\\Users\\nages\\anaconda3\\envs\\tf_gpu\\lib\\asyncio\\futures.py\", line 260, in __await__\n",
      "    yield self  # This tells Task to wait for completion.\n",
      "  File \"C:\\Users\\nages\\anaconda3\\envs\\tf_gpu\\lib\\asyncio\\tasks.py\", line 349, in __wakeup\n",
      "    future.result()\n",
      "  File \"C:\\Users\\nages\\anaconda3\\envs\\tf_gpu\\lib\\asyncio\\futures.py\", line 178, in result\n",
      "    raise self._exception\n",
      "  File \"C:\\Users\\nages\\anaconda3\\envs\\tf_gpu\\lib\\concurrent\\futures\\thread.py\", line 57, in run\n",
      "    result = self.fn(*self.args, **self.kwargs)\n",
      "  File \"<ipython-input-14-31dd09ef7c2b>\", line 15, in predict\n",
      "    res = get_tags(model,jobdesc)\n",
      "  File \"<ipython-input-13-0d2bbc8c6eac>\", line 11, in get_tags\n",
      "    padding=\"post\", value=lstm_tag2idx[\"O\"], maxlen=lstm_max_len)\n",
      "TypeError: 'NoneType' object is not subscriptable\n"
     ]
    },
    {
     "name": "stdout",
     "output_type": "stream",
     "text": [
      "INFO:     127.0.0.1:65131 - \"GET /tags?model=LSTM&jobdesc=description+scope+role+piramal+pharma+solutions+pps+chief+information+officer+cio+role+provide+vision+leadership+developing+implementing+information+technology+initiatives+align+vision+piramal+pharma+solutions+pps+businesses+pps+cio+charter+build+competitive+edge+business+proactively+building+world+class+high+quality+innovative+technology+digital+analytics+solutions+global+operations+job+overview+strategy+innovation+strategic+business+partner+create+enhanced+digital+technology+vision+enterprise+identify+opportunities+differentiated+technology+capabilities+solutions+p+roactively+recommend+solutions+business+functional+leadership+team+considering+business+vision+industry+trends+bringing+outside+perspective+p+ush+bar+technology+innovation+imbibing+cutting+edge+technological+innovations+global+benchmarks+blue+sky+thinking+create+user+friendly+technologies+offering+great+experience+cts+champion+change+agent+accelerating+organizational+changes+required+create+sustain+enterprise+technology+capabilities+cts+thought+leader+emerging+digital+business+models+technologies+articulating+digital+future+enterprise+role+internally+externally+enable+business+growth+enable+inorganic+business+growth+merger+acquisition+leading+due+diligence+driving+integration+post+acquisition+lead+strategic+operational+planning+implementation+achieve+business+goals+fostering+innovation+prioritizing+initiatives+coordinating+evaluation+deployment+management+current+future+systems+across+organization+coordinate+facilitate+consultation+relevant+business+stakeholders+define+business+systems+requirements+new+technology+implementations+planning+execution+partner+various+site+ho+teams+manage+project+portfolio+relate+selection+acquisition+development+implementation+major+information+systems+defines+governance+mechanism+metrics+review+progress+technology+projects+business+case+achievement+technology+budget+company+provide+upfront+estimates+costs+various+heads+keep+track+spends+ensure+best+roi+company+technology+investment+maintaining+balance+frugality+financial+discipline+adequately+gearing+future+growth+b+uild+ecosystem+group+technology+teams+partners+including+startups+product+vendors+develop+implement+technology+solutions+b+uild+future+read+technology+team+attracting+retaining+upskilling+industry+best+talent+compliance+information+security+collaborate+piramal+quality+e+compliance+qec+team+ensure+quality+compliance+per+defined+sops+guidelines+accordance+21+cfr+part+11+gamp+guidelines+collaborate+information+security+team+ensure+adherence+information+security+guidelines+processes+skills+abilities+exceptional+inter+personal+skills+enabling+engagement+levels+across+leadership+skills+including+ability+manage+large+team+understanding+strategy+business+technology+application+levels+environment+priorities+goals+quickly+change+evolve+also+skills+think+strategically+including+developing+information+security+strategies+interpreting+handling+complex+information+acting+political+sensitivity+driving+engaging+positively+change+sound+understanding+portfolio+program+project+management+track+record+delivering+enabling+large+scale+complex+change+programs+qualifications+experience+delivering+strategy+delivery+essential+across+multiple+organisations+desirable+experience+working+pharma+business+senior+position+essential+experience+procuring+managing+large+complex+outcome+based+contracts+interdependencies+experience+working+senior+management+team+develop+business+focussed+strategies+effectively+support+business+needs+experience+technologies+sap+salesforce+bi+pharma+quality+applications+preferred+experience+digital+technologies+ar+vr+rpa+chatbots+ai+ml+etc+preferred+experience+joint+procurement+market+testing+outsourcing+well+negotiating+quality+cost+effective+services+experience+successfully+implementing+strategy+business+planning+evidence+delivering+high+quality+customer+focussed+services+experience+contributing+development+implementation+effective+management+information+systems+aid+decision+making+process+evidence+contribution+major+transformation+building+teams+time+change HTTP/1.1\" 500 Internal Server Error\n"
     ]
    },
    {
     "name": "stderr",
     "output_type": "stream",
     "text": [
      "ERROR:    Exception in ASGI application\n",
      "Traceback (most recent call last):\n",
      "  File \"C:\\Users\\nages\\anaconda3\\envs\\tf_gpu\\lib\\site-packages\\uvicorn\\protocols\\http\\h11_impl.py\", line 396, in run_asgi\n",
      "    result = await app(self.scope, self.receive, self.send)\n",
      "  File \"C:\\Users\\nages\\anaconda3\\envs\\tf_gpu\\lib\\site-packages\\uvicorn\\middleware\\proxy_headers.py\", line 45, in __call__\n",
      "    return await self.app(scope, receive, send)\n",
      "  File \"C:\\Users\\nages\\anaconda3\\envs\\tf_gpu\\lib\\site-packages\\fastapi\\applications.py\", line 199, in __call__\n",
      "    await super().__call__(scope, receive, send)\n",
      "  File \"C:\\Users\\nages\\anaconda3\\envs\\tf_gpu\\lib\\site-packages\\starlette\\applications.py\", line 111, in __call__\n",
      "    await self.middleware_stack(scope, receive, send)\n",
      "  File \"C:\\Users\\nages\\anaconda3\\envs\\tf_gpu\\lib\\site-packages\\starlette\\middleware\\errors.py\", line 181, in __call__\n",
      "    raise exc from None\n",
      "  File \"C:\\Users\\nages\\anaconda3\\envs\\tf_gpu\\lib\\site-packages\\starlette\\middleware\\errors.py\", line 159, in __call__\n",
      "    await self.app(scope, receive, _send)\n",
      "  File \"C:\\Users\\nages\\anaconda3\\envs\\tf_gpu\\lib\\site-packages\\starlette\\exceptions.py\", line 82, in __call__\n",
      "    raise exc from None\n",
      "  File \"C:\\Users\\nages\\anaconda3\\envs\\tf_gpu\\lib\\site-packages\\starlette\\exceptions.py\", line 71, in __call__\n",
      "    await self.app(scope, receive, sender)\n",
      "  File \"C:\\Users\\nages\\anaconda3\\envs\\tf_gpu\\lib\\site-packages\\starlette\\routing.py\", line 566, in __call__\n",
      "    await route.handle(scope, receive, send)\n",
      "  File \"C:\\Users\\nages\\anaconda3\\envs\\tf_gpu\\lib\\site-packages\\starlette\\routing.py\", line 227, in handle\n",
      "    await self.app(scope, receive, send)\n",
      "  File \"C:\\Users\\nages\\anaconda3\\envs\\tf_gpu\\lib\\site-packages\\starlette\\routing.py\", line 41, in app\n",
      "    response = await func(request)\n",
      "  File \"C:\\Users\\nages\\anaconda3\\envs\\tf_gpu\\lib\\site-packages\\fastapi\\routing.py\", line 201, in app\n",
      "    raw_response = await run_endpoint_function(\n",
      "  File \"C:\\Users\\nages\\anaconda3\\envs\\tf_gpu\\lib\\site-packages\\fastapi\\routing.py\", line 150, in run_endpoint_function\n",
      "    return await run_in_threadpool(dependant.call, **values)\n",
      "  File \"C:\\Users\\nages\\anaconda3\\envs\\tf_gpu\\lib\\site-packages\\starlette\\concurrency.py\", line 34, in run_in_threadpool\n",
      "    return await loop.run_in_executor(None, func, *args)\n",
      "  File \"C:\\Users\\nages\\anaconda3\\envs\\tf_gpu\\lib\\asyncio\\futures.py\", line 260, in __await__\n",
      "    yield self  # This tells Task to wait for completion.\n",
      "  File \"C:\\Users\\nages\\anaconda3\\envs\\tf_gpu\\lib\\asyncio\\tasks.py\", line 349, in __wakeup\n",
      "    future.result()\n",
      "  File \"C:\\Users\\nages\\anaconda3\\envs\\tf_gpu\\lib\\asyncio\\futures.py\", line 178, in result\n",
      "    raise self._exception\n",
      "  File \"C:\\Users\\nages\\anaconda3\\envs\\tf_gpu\\lib\\concurrent\\futures\\thread.py\", line 57, in run\n",
      "    result = self.fn(*self.args, **self.kwargs)\n",
      "  File \"<ipython-input-14-31dd09ef7c2b>\", line 15, in predict\n",
      "    res = get_tags(model,jobdesc)\n",
      "  File \"<ipython-input-13-0d2bbc8c6eac>\", line 11, in get_tags\n",
      "    padding=\"post\", value=lstm_tag2idx[\"O\"], maxlen=lstm_max_len)\n",
      "TypeError: 'NoneType' object is not subscriptable\n"
     ]
    },
    {
     "name": "stdout",
     "output_type": "stream",
     "text": [
      "INFO:     127.0.0.1:65139 - \"GET /tags?model=Spacy&jobdesc=description+scope+role+piramal+pharma+solutions+pps+chief+information+officer+cio+role+provide+vision+leadership+developing+implementing+information+technology+initiatives+align+vision+piramal+pharma+solutions+pps+businesses+pps+cio+charter+build+competitive+edge+business+proactively+building+world+class+high+quality+innovative+technology+digital+analytics+solutions+global+operations+job+overview+strategy+innovation+strategic+business+partner+create+enhanced+digital+technology+vision+enterprise+identify+opportunities+differentiated+technology+capabilities+solutions+p+roactively+recommend+solutions+business+functional+leadership+team+considering+business+vision+industry+trends+bringing+outside+perspective+p+ush+bar+technology+innovation+imbibing+cutting+edge+technological+innovations+global+benchmarks+blue+sky+thinking+create+user+friendly+technologies+offering+great+experience+cts+champion+change+agent+accelerating+organizational+changes+required+create+sustain+enterprise+technology+capabilities+cts+thought+leader+emerging+digital+business+models+technologies+articulating+digital+future+enterprise+role+internally+externally+enable+business+growth+enable+inorganic+business+growth+merger+acquisition+leading+due+diligence+driving+integration+post+acquisition+lead+strategic+operational+planning+implementation+achieve+business+goals+fostering+innovation+prioritizing+initiatives+coordinating+evaluation+deployment+management+current+future+systems+across+organization+coordinate+facilitate+consultation+relevant+business+stakeholders+define+business+systems+requirements+new+technology+implementations+planning+execution+partner+various+site+ho+teams+manage+project+portfolio+relate+selection+acquisition+development+implementation+major+information+systems+defines+governance+mechanism+metrics+review+progress+technology+projects+business+case+achievement+technology+budget+company+provide+upfront+estimates+costs+various+heads+keep+track+spends+ensure+best+roi+company+technology+investment+maintaining+balance+frugality+financial+discipline+adequately+gearing+future+growth+b+uild+ecosystem+group+technology+teams+partners+including+startups+product+vendors+develop+implement+technology+solutions+b+uild+future+read+technology+team+attracting+retaining+upskilling+industry+best+talent+compliance+information+security+collaborate+piramal+quality+e+compliance+qec+team+ensure+quality+compliance+per+defined+sops+guidelines+accordance+21+cfr+part+11+gamp+guidelines+collaborate+information+security+team+ensure+adherence+information+security+guidelines+processes+skills+abilities+exceptional+inter+personal+skills+enabling+engagement+levels+across+leadership+skills+including+ability+manage+large+team+understanding+strategy+business+technology+application+levels+environment+priorities+goals+quickly+change+evolve+also+skills+think+strategically+including+developing+information+security+strategies+interpreting+handling+complex+information+acting+political+sensitivity+driving+engaging+positively+change+sound+understanding+portfolio+program+project+management+track+record+delivering+enabling+large+scale+complex+change+programs+qualifications+experience+delivering+strategy+delivery+essential+across+multiple+organisations+desirable+experience+working+pharma+business+senior+position+essential+experience+procuring+managing+large+complex+outcome+based+contracts+interdependencies+experience+working+senior+management+team+develop+business+focussed+strategies+effectively+support+business+needs+experience+technologies+sap+salesforce+bi+pharma+quality+applications+preferred+experience+digital+technologies+ar+vr+rpa+chatbots+ai+ml+etc+preferred+experience+joint+procurement+market+testing+outsourcing+well+negotiating+quality+cost+effective+services+experience+successfully+implementing+strategy+business+planning+evidence+delivering+high+quality+customer+focussed+services+experience+contributing+development+implementation+effective+management+information+systems+aid+decision+making+process+evidence+contribution+major+transformation+building+teams+time+change HTTP/1.1\" 200 OK\n",
      "INFO:     127.0.0.1:65140 - \"GET /questions?data=project+management&data=application&data=information+systems&data=compliance&data=applications&data=senior+management&data=track+record&data=information+technology&data=testing&data=leadership&data=development&data=lead&data=budget&data=operations&data=ability+manage&data=analytics&data=bi&data=decision+making&data=developing&data=support&data=salesforce&data=sap&data=ai&data=deployment HTTP/1.1\" 200 OK\n"
     ]
    },
    {
     "data": {
      "application/vnd.jupyter.widget-view+json": {
       "model_id": "7d82d6a4187640d48fe7fcb14bff2cd7",
       "version_major": 2,
       "version_minor": 0
      },
      "text/plain": [
       "HBox(children=(FloatProgress(value=0.0, max=1.0), HTML(value='')))"
      ]
     },
     "metadata": {},
     "output_type": "display_data"
    },
    {
     "name": "stdout",
     "output_type": "stream",
     "text": [
      "\n"
     ]
    },
    {
     "data": {
      "application/vnd.jupyter.widget-view+json": {
       "model_id": "0244e87f1c6a4ec391d971bb39a9fe8e",
       "version_major": 2,
       "version_minor": 0
      },
      "text/plain": [
       "HBox(children=(FloatProgress(value=0.0, description='Running Prediction', max=1.0, style=ProgressStyle(descrip…"
      ]
     },
     "metadata": {},
     "output_type": "display_data"
    },
    {
     "name": "stdout",
     "output_type": "stream",
     "text": [
      "\n",
      "INFO:     127.0.0.1:65149 - \"GET /metrics HTTP/1.1\" 200 OK\n"
     ]
    },
    {
     "data": {
      "application/vnd.jupyter.widget-view+json": {
       "model_id": "d0400ea8ea244f47b102e910bc07348d",
       "version_major": 2,
       "version_minor": 0
      },
      "text/plain": [
       "HBox(children=(FloatProgress(value=0.0, max=1.0), HTML(value='')))"
      ]
     },
     "metadata": {},
     "output_type": "display_data"
    },
    {
     "name": "stdout",
     "output_type": "stream",
     "text": [
      "\n"
     ]
    },
    {
     "data": {
      "application/vnd.jupyter.widget-view+json": {
       "model_id": "2e4f765085114b13a4516ec34d2c6713",
       "version_major": 2,
       "version_minor": 0
      },
      "text/plain": [
       "HBox(children=(FloatProgress(value=0.0, description='Running Prediction', max=1.0, style=ProgressStyle(descrip…"
      ]
     },
     "metadata": {},
     "output_type": "display_data"
    },
    {
     "name": "stdout",
     "output_type": "stream",
     "text": [
      "\n",
      "INFO:     127.0.0.1:65152 - \"GET /tags?model=BERT&jobdesc=description+scope+role+piramal+pharma+solutions+pps+chief+information+officer+cio+role+provide+vision+leadership+developing+implementing+information+technology+initiatives+align+vision+piramal+pharma+solutions+pps+businesses+pps+cio+charter+build+competitive+edge+business+proactively+building+world+class+high+quality+innovative+technology+digital+analytics+solutions+global+operations+job+overview+strategy+innovation+strategic+business+partner+create+enhanced+digital+technology+vision+enterprise+identify+opportunities+differentiated+technology+capabilities+solutions+p+roactively+recommend+solutions+business+functional+leadership+team+considering+business+vision+industry+trends+bringing+outside+perspective+p+ush+bar+technology+innovation+imbibing+cutting+edge+technological+innovations+global+benchmarks+blue+sky+thinking+create+user+friendly+technologies+offering+great+experience+cts+champion+change+agent+accelerating+organizational+changes+required+create+sustain+enterprise+technology+capabilities+cts+thought+leader+emerging+digital+business+models+technologies+articulating+digital+future+enterprise+role+internally+externally+enable+business+growth+enable+inorganic+business+growth+merger+acquisition+leading+due+diligence+driving+integration+post+acquisition+lead+strategic+operational+planning+implementation+achieve+business+goals+fostering+innovation+prioritizing+initiatives+coordinating+evaluation+deployment+management+current+future+systems+across+organization+coordinate+facilitate+consultation+relevant+business+stakeholders+define+business+systems+requirements+new+technology+implementations+planning+execution+partner+various+site+ho+teams+manage+project+portfolio+relate+selection+acquisition+development+implementation+major+information+systems+defines+governance+mechanism+metrics+review+progress+technology+projects+business+case+achievement+technology+budget+company+provide+upfront+estimates+costs+various+heads+keep+track+spends+ensure+best+roi+company+technology+investment+maintaining+balance+frugality+financial+discipline+adequately+gearing+future+growth+b+uild+ecosystem+group+technology+teams+partners+including+startups+product+vendors+develop+implement+technology+solutions+b+uild+future+read+technology+team+attracting+retaining+upskilling+industry+best+talent+compliance+information+security+collaborate+piramal+quality+e+compliance+qec+team+ensure+quality+compliance+per+defined+sops+guidelines+accordance+21+cfr+part+11+gamp+guidelines+collaborate+information+security+team+ensure+adherence+information+security+guidelines+processes+skills+abilities+exceptional+inter+personal+skills+enabling+engagement+levels+across+leadership+skills+including+ability+manage+large+team+understanding+strategy+business+technology+application+levels+environment+priorities+goals+quickly+change+evolve+also+skills+think+strategically+including+developing+information+security+strategies+interpreting+handling+complex+information+acting+political+sensitivity+driving+engaging+positively+change+sound+understanding+portfolio+program+project+management+track+record+delivering+enabling+large+scale+complex+change+programs+qualifications+experience+delivering+strategy+delivery+essential+across+multiple+organisations+desirable+experience+working+pharma+business+senior+position+essential+experience+procuring+managing+large+complex+outcome+based+contracts+interdependencies+experience+working+senior+management+team+develop+business+focussed+strategies+effectively+support+business+needs+experience+technologies+sap+salesforce+bi+pharma+quality+applications+preferred+experience+digital+technologies+ar+vr+rpa+chatbots+ai+ml+etc+preferred+experience+joint+procurement+market+testing+outsourcing+well+negotiating+quality+cost+effective+services+experience+successfully+implementing+strategy+business+planning+evidence+delivering+high+quality+customer+focussed+services+experience+contributing+development+implementation+effective+management+information+systems+aid+decision+making+process+evidence+contribution+major+transformation+building+teams+time+change HTTP/1.1\" 200 OK\n",
      "INFO:     127.0.0.1:65154 - \"GET /questions?data=developing&data=officer&data=operations&data=leadership&data=information&data=analytics HTTP/1.1\" 200 OK\n"
     ]
    },
    {
     "data": {
      "application/vnd.jupyter.widget-view+json": {
       "model_id": "d917dbafcb2348578ef9f3d571d83971",
       "version_major": 2,
       "version_minor": 0
      },
      "text/plain": [
       "HBox(children=(FloatProgress(value=0.0, max=1.0), HTML(value='')))"
      ]
     },
     "metadata": {},
     "output_type": "display_data"
    },
    {
     "name": "stdout",
     "output_type": "stream",
     "text": [
      "\n"
     ]
    },
    {
     "data": {
      "application/vnd.jupyter.widget-view+json": {
       "model_id": "eb81f044f19a43ed827dfb9c8df98ccf",
       "version_major": 2,
       "version_minor": 0
      },
      "text/plain": [
       "HBox(children=(FloatProgress(value=0.0, description='Running Prediction', max=1.0, style=ProgressStyle(descrip…"
      ]
     },
     "metadata": {},
     "output_type": "display_data"
    },
    {
     "name": "stdout",
     "output_type": "stream",
     "text": [
      "\n",
      "INFO:     127.0.0.1:65158 - \"GET /tags?model=BERT&jobdesc=description+scope+role+piramal+pharma+solutions+pps+chief+information+officer+cio+role+provide+vision+leadership+developing+implementing+information+technology+initiatives+align+vision+piramal+pharma+solutions+pps+businesses+pps+cio+charter+build+competitive+edge+business+proactively+building+world+class+high+quality+innovative+technology+digital+analytics+solutions+global+operations+job+overview+strategy+innovation+strategic+business+partner+create+enhanced+digital+technology+vision+enterprise+identify+opportunities+differentiated+technology+capabilities+solutions+p+roactively+recommend+solutions+business+functional+leadership+team+considering+business+vision+industry+trends+bringing+outside+perspective+p+ush+bar+technology+innovation+imbibing+cutting+edge+technological+innovations+global+benchmarks+blue+sky+thinking+create+user+friendly+technologies+offering+great+experience+cts+champion+change+agent+accelerating+organizational+changes+required+create+sustain+enterprise+technology+capabilities+cts+thought+leader+emerging+digital+business+models+technologies+articulating+digital+future+enterprise+role+internally+externally+enable+business+growth+enable+inorganic+business+growth+merger+acquisition+leading+due+diligence+driving+integration+post+acquisition+lead+strategic+operational+planning+implementation+achieve+business+goals+fostering+innovation+prioritizing+initiatives+coordinating+evaluation+deployment+management+current+future+systems+across+organization+coordinate+facilitate+consultation+relevant+business+stakeholders+define+business+systems+requirements+new+technology+implementations+planning+execution+partner+various+site+ho+teams+manage+project+portfolio+relate+selection+acquisition+development+implementation+major+information+systems+defines+governance+mechanism+metrics+review+progress+technology+projects+business+case+achievement+technology+budget+company+provide+upfront+estimates+costs+various+heads+keep+track+spends+ensure+best+roi+company+technology+investment+maintaining+balance+frugality+financial+discipline+adequately+gearing+future+growth+b+uild+ecosystem+group+technology+teams+partners+including+startups+product+vendors+develop+implement+technology+solutions+b+uild+future+read+technology+team+attracting+retaining+upskilling+industry+best+talent+compliance+information+security+collaborate+piramal+quality+e+compliance+qec+team+ensure+quality+compliance+per+defined+sops+guidelines+accordance+21+cfr+part+11+gamp+guidelines+collaborate+information+security+team+ensure+adherence+information+security+guidelines+processes+skills+abilities+exceptional+inter+personal+skills+enabling+engagement+levels+across+leadership+skills+including+ability+manage+large+team+understanding+strategy+business+technology+application+levels+environment+priorities+goals+quickly+change+evolve+also+skills+think+strategically+including+developing+information+security+strategies+interpreting+handling+complex+information+acting+political+sensitivity+driving+engaging+positively+change+sound+understanding+portfolio+program+project+management+track+record+delivering+enabling+large+scale+complex+change+programs+qualifications+experience+delivering+strategy+delivery+essential+across+multiple+organisations+desirable+experience+working+pharma+business+senior+position+essential+experience+procuring+managing+large+complex+outcome+based+contracts+interdependencies+experience+working+senior+management+team+develop+business+focussed+strategies+effectively+support+business+needs+experience+technologies+sap+salesforce+bi+pharma+quality+applications+preferred+experience+digital+technologies+ar+vr+rpa+chatbots+ai+ml+etc+preferred+experience+joint+procurement+market+testing+outsourcing+well+negotiating+quality+cost+effective+services+experience+successfully+implementing+strategy+business+planning+evidence+delivering+high+quality+customer+focussed+services+experience+contributing+development+implementation+effective+management+information+systems+aid+decision+making+process+evidence+contribution+major+transformation+building+teams+time+change HTTP/1.1\" 200 OK\n",
      "INFO:     127.0.0.1:65163 - \"GET /questions?data=developing&data=officer&data=operations&data=leadership&data=information&data=analytics HTTP/1.1\" 200 OK\n",
      "INFO:     127.0.0.1:65200 - \"GET /tags?model=LSTM&jobdesc=description+scope+role+piramal+pharma+solutions+pps+chief+information+officer+cio+role+provide+vision+leadership+developing+implementing+information+technology+initiatives+align+vision+piramal+pharma+solutions+pps+businesses+pps+cio+charter+build+competitive+edge+business+proactively+building+world+class+high+quality+innovative+technology+digital+analytics+solutions+global+operations+job+overview+strategy+innovation+strategic+business+partner+create+enhanced+digital+technology+vision+enterprise+identify+opportunities+differentiated+technology+capabilities+solutions+p+roactively+recommend+solutions+business+functional+leadership+team+considering+business+vision+industry+trends+bringing+outside+perspective+p+ush+bar+technology+innovation+imbibing+cutting+edge+technological+innovations+global+benchmarks+blue+sky+thinking+create+user+friendly+technologies+offering+great+experience+cts+champion+change+agent+accelerating+organizational+changes+required+create+sustain+enterprise+technology+capabilities+cts+thought+leader+emerging+digital+business+models+technologies+articulating+digital+future+enterprise+role+internally+externally+enable+business+growth+enable+inorganic+business+growth+merger+acquisition+leading+due+diligence+driving+integration+post+acquisition+lead+strategic+operational+planning+implementation+achieve+business+goals+fostering+innovation+prioritizing+initiatives+coordinating+evaluation+deployment+management+current+future+systems+across+organization+coordinate+facilitate+consultation+relevant+business+stakeholders+define+business+systems+requirements+new+technology+implementations+planning+execution+partner+various+site+ho+teams+manage+project+portfolio+relate+selection+acquisition+development+implementation+major+information+systems+defines+governance+mechanism+metrics+review+progress+technology+projects+business+case+achievement+technology+budget+company+provide+upfront+estimates+costs+various+heads+keep+track+spends+ensure+best+roi+company+technology+investment+maintaining+balance+frugality+financial+discipline+adequately+gearing+future+growth+b+uild+ecosystem+group+technology+teams+partners+including+startups+product+vendors+develop+implement+technology+solutions+b+uild+future+read+technology+team+attracting+retaining+upskilling+industry+best+talent+compliance+information+security+collaborate+piramal+quality+e+compliance+qec+team+ensure+quality+compliance+per+defined+sops+guidelines+accordance+21+cfr+part+11+gamp+guidelines+collaborate+information+security+team+ensure+adherence+information+security+guidelines+processes+skills+abilities+exceptional+inter+personal+skills+enabling+engagement+levels+across+leadership+skills+including+ability+manage+large+team+understanding+strategy+business+technology+application+levels+environment+priorities+goals+quickly+change+evolve+also+skills+think+strategically+including+developing+information+security+strategies+interpreting+handling+complex+information+acting+political+sensitivity+driving+engaging+positively+change+sound+understanding+portfolio+program+project+management+track+record+delivering+enabling+large+scale+complex+change+programs+qualifications+experience+delivering+strategy+delivery+essential+across+multiple+organisations+desirable+experience+working+pharma+business+senior+position+essential+experience+procuring+managing+large+complex+outcome+based+contracts+interdependencies+experience+working+senior+management+team+develop+business+focussed+strategies+effectively+support+business+needs+experience+technologies+sap+salesforce+bi+pharma+quality+applications+preferred+experience+digital+technologies+ar+vr+rpa+chatbots+ai+ml+etc+preferred+experience+joint+procurement+market+testing+outsourcing+well+negotiating+quality+cost+effective+services+experience+successfully+implementing+strategy+business+planning+evidence+delivering+high+quality+customer+focussed+services+experience+contributing+development+implementation+effective+management+information+systems+aid+decision+making+process+evidence+contribution+major+transformation+building+teams+time+change HTTP/1.1\" 500 Internal Server Error\n"
     ]
    },
    {
     "name": "stderr",
     "output_type": "stream",
     "text": [
      "ERROR:    Exception in ASGI application\n",
      "Traceback (most recent call last):\n",
      "  File \"C:\\Users\\nages\\anaconda3\\envs\\tf_gpu\\lib\\site-packages\\uvicorn\\protocols\\http\\h11_impl.py\", line 396, in run_asgi\n",
      "    result = await app(self.scope, self.receive, self.send)\n",
      "  File \"C:\\Users\\nages\\anaconda3\\envs\\tf_gpu\\lib\\site-packages\\uvicorn\\middleware\\proxy_headers.py\", line 45, in __call__\n",
      "    return await self.app(scope, receive, send)\n",
      "  File \"C:\\Users\\nages\\anaconda3\\envs\\tf_gpu\\lib\\site-packages\\fastapi\\applications.py\", line 199, in __call__\n",
      "    await super().__call__(scope, receive, send)\n",
      "  File \"C:\\Users\\nages\\anaconda3\\envs\\tf_gpu\\lib\\site-packages\\starlette\\applications.py\", line 111, in __call__\n",
      "    await self.middleware_stack(scope, receive, send)\n",
      "  File \"C:\\Users\\nages\\anaconda3\\envs\\tf_gpu\\lib\\site-packages\\starlette\\middleware\\errors.py\", line 181, in __call__\n",
      "    raise exc from None\n",
      "  File \"C:\\Users\\nages\\anaconda3\\envs\\tf_gpu\\lib\\site-packages\\starlette\\middleware\\errors.py\", line 159, in __call__\n",
      "    await self.app(scope, receive, _send)\n",
      "  File \"C:\\Users\\nages\\anaconda3\\envs\\tf_gpu\\lib\\site-packages\\starlette\\exceptions.py\", line 82, in __call__\n",
      "    raise exc from None\n",
      "  File \"C:\\Users\\nages\\anaconda3\\envs\\tf_gpu\\lib\\site-packages\\starlette\\exceptions.py\", line 71, in __call__\n",
      "    await self.app(scope, receive, sender)\n",
      "  File \"C:\\Users\\nages\\anaconda3\\envs\\tf_gpu\\lib\\site-packages\\starlette\\routing.py\", line 566, in __call__\n",
      "    await route.handle(scope, receive, send)\n",
      "  File \"C:\\Users\\nages\\anaconda3\\envs\\tf_gpu\\lib\\site-packages\\starlette\\routing.py\", line 227, in handle\n",
      "    await self.app(scope, receive, send)\n",
      "  File \"C:\\Users\\nages\\anaconda3\\envs\\tf_gpu\\lib\\site-packages\\starlette\\routing.py\", line 41, in app\n",
      "    response = await func(request)\n",
      "  File \"C:\\Users\\nages\\anaconda3\\envs\\tf_gpu\\lib\\site-packages\\fastapi\\routing.py\", line 201, in app\n",
      "    raw_response = await run_endpoint_function(\n",
      "  File \"C:\\Users\\nages\\anaconda3\\envs\\tf_gpu\\lib\\site-packages\\fastapi\\routing.py\", line 150, in run_endpoint_function\n",
      "    return await run_in_threadpool(dependant.call, **values)\n",
      "  File \"C:\\Users\\nages\\anaconda3\\envs\\tf_gpu\\lib\\site-packages\\starlette\\concurrency.py\", line 34, in run_in_threadpool\n",
      "    return await loop.run_in_executor(None, func, *args)\n",
      "  File \"C:\\Users\\nages\\anaconda3\\envs\\tf_gpu\\lib\\asyncio\\futures.py\", line 260, in __await__\n",
      "    yield self  # This tells Task to wait for completion.\n",
      "  File \"C:\\Users\\nages\\anaconda3\\envs\\tf_gpu\\lib\\asyncio\\tasks.py\", line 349, in __wakeup\n",
      "    future.result()\n",
      "  File \"C:\\Users\\nages\\anaconda3\\envs\\tf_gpu\\lib\\asyncio\\futures.py\", line 178, in result\n",
      "    raise self._exception\n",
      "  File \"C:\\Users\\nages\\anaconda3\\envs\\tf_gpu\\lib\\concurrent\\futures\\thread.py\", line 57, in run\n",
      "    result = self.fn(*self.args, **self.kwargs)\n",
      "  File \"<ipython-input-14-31dd09ef7c2b>\", line 15, in predict\n",
      "    res = get_tags(model,jobdesc)\n",
      "  File \"<ipython-input-13-0d2bbc8c6eac>\", line 11, in get_tags\n",
      "    padding=\"post\", value=lstm_tag2idx[\"O\"], maxlen=lstm_max_len)\n",
      "TypeError: 'NoneType' object is not subscriptable\n"
     ]
    },
    {
     "name": "stdout",
     "output_type": "stream",
     "text": [
      "INFO:     127.0.0.1:65223 - \"GET /tags?model=Spacy&jobdesc=description+scope+role+piramal+pharma+solutions+pps+chief+information+officer+cio+role+provide+vision+leadership+developing+implementing+information+technology+initiatives+align+vision+piramal+pharma+solutions+pps+businesses+pps+cio+charter+build+competitive+edge+business+proactively+building+world+class+high+quality+innovative+technology+digital+analytics+solutions+global+operations+job+overview+strategy+innovation+strategic+business+partner+create+enhanced+digital+technology+vision+enterprise+identify+opportunities+differentiated+technology+capabilities+solutions+p+roactively+recommend+solutions+business+functional+leadership+team+considering+business+vision+industry+trends+bringing+outside+perspective+p+ush+bar+technology+innovation+imbibing+cutting+edge+technological+innovations+global+benchmarks+blue+sky+thinking+create+user+friendly+technologies+offering+great+experience+cts+champion+change+agent+accelerating+organizational+changes+required+create+sustain+enterprise+technology+capabilities+cts+thought+leader+emerging+digital+business+models+technologies+articulating+digital+future+enterprise+role+internally+externally+enable+business+growth+enable+inorganic+business+growth+merger+acquisition+leading+due+diligence+driving+integration+post+acquisition+lead+strategic+operational+planning+implementation+achieve+business+goals+fostering+innovation+prioritizing+initiatives+coordinating+evaluation+deployment+management+current+future+systems+across+organization+coordinate+facilitate+consultation+relevant+business+stakeholders+define+business+systems+requirements+new+technology+implementations+planning+execution+partner+various+site+ho+teams+manage+project+portfolio+relate+selection+acquisition+development+implementation+major+information+systems+defines+governance+mechanism+metrics+review+progress+technology+projects+business+case+achievement+technology+budget+company+provide+upfront+estimates+costs+various+heads+keep+track+spends+ensure+best+roi+company+technology+investment+maintaining+balance+frugality+financial+discipline+adequately+gearing+future+growth+b+uild+ecosystem+group+technology+teams+partners+including+startups+product+vendors+develop+implement+technology+solutions+b+uild+future+read+technology+team+attracting+retaining+upskilling+industry+best+talent+compliance+information+security+collaborate+piramal+quality+e+compliance+qec+team+ensure+quality+compliance+per+defined+sops+guidelines+accordance+21+cfr+part+11+gamp+guidelines+collaborate+information+security+team+ensure+adherence+information+security+guidelines+processes+skills+abilities+exceptional+inter+personal+skills+enabling+engagement+levels+across+leadership+skills+including+ability+manage+large+team+understanding+strategy+business+technology+application+levels+environment+priorities+goals+quickly+change+evolve+also+skills+think+strategically+including+developing+information+security+strategies+interpreting+handling+complex+information+acting+political+sensitivity+driving+engaging+positively+change+sound+understanding+portfolio+program+project+management+track+record+delivering+enabling+large+scale+complex+change+programs+qualifications+experience+delivering+strategy+delivery+essential+across+multiple+organisations+desirable+experience+working+pharma+business+senior+position+essential+experience+procuring+managing+large+complex+outcome+based+contracts+interdependencies+experience+working+senior+management+team+develop+business+focussed+strategies+effectively+support+business+needs+experience+technologies+sap+salesforce+bi+pharma+quality+applications+preferred+experience+digital+technologies+ar+vr+rpa+chatbots+ai+ml+etc+preferred+experience+joint+procurement+market+testing+outsourcing+well+negotiating+quality+cost+effective+services+experience+successfully+implementing+strategy+business+planning+evidence+delivering+high+quality+customer+focussed+services+experience+contributing+development+implementation+effective+management+information+systems+aid+decision+making+process+evidence+contribution+major+transformation+building+teams+time+change HTTP/1.1\" 200 OK\n",
      "INFO:     127.0.0.1:65224 - \"GET /questions?data=project+management&data=application&data=information+systems&data=compliance&data=applications&data=senior+management&data=track+record&data=information+technology&data=testing&data=leadership&data=development&data=lead&data=budget&data=operations&data=ability+manage&data=analytics&data=bi&data=decision+making&data=developing&data=support&data=salesforce&data=sap&data=ai&data=deployment HTTP/1.1\" 200 OK\n"
     ]
    },
    {
     "data": {
      "application/vnd.jupyter.widget-view+json": {
       "model_id": "c8975bbca93b445fb6845ef4b0b354cb",
       "version_major": 2,
       "version_minor": 0
      },
      "text/plain": [
       "HBox(children=(FloatProgress(value=0.0, max=1.0), HTML(value='')))"
      ]
     },
     "metadata": {},
     "output_type": "display_data"
    },
    {
     "name": "stdout",
     "output_type": "stream",
     "text": [
      "INFO:     127.0.0.1:65234 - \"GET /metrics HTTP/1.1\" 200 OK\n"
     ]
    },
    {
     "data": {
      "application/vnd.jupyter.widget-view+json": {
       "model_id": "a704000f36474ddead9b4b0707801340",
       "version_major": 2,
       "version_minor": 0
      },
      "text/plain": [
       "HBox(children=(FloatProgress(value=0.0, max=1.0), HTML(value='')))"
      ]
     },
     "metadata": {},
     "output_type": "display_data"
    },
    {
     "name": "stdout",
     "output_type": "stream",
     "text": [
      "\n"
     ]
    },
    {
     "data": {
      "application/vnd.jupyter.widget-view+json": {
       "model_id": "5f800fb2c81b489b902cb34e265ce0b3",
       "version_major": 2,
       "version_minor": 0
      },
      "text/plain": [
       "HBox(children=(FloatProgress(value=0.0, description='Running Prediction', max=1.0, style=ProgressStyle(descrip…"
      ]
     },
     "metadata": {},
     "output_type": "display_data"
    },
    {
     "name": "stdout",
     "output_type": "stream",
     "text": [
      "\n",
      "\n"
     ]
    },
    {
     "data": {
      "application/vnd.jupyter.widget-view+json": {
       "model_id": "7cdae2a92fe542949a0d325832076be5",
       "version_major": 2,
       "version_minor": 0
      },
      "text/plain": [
       "HBox(children=(FloatProgress(value=0.0, description='Running Prediction', max=1.0, style=ProgressStyle(descrip…"
      ]
     },
     "metadata": {},
     "output_type": "display_data"
    },
    {
     "name": "stdout",
     "output_type": "stream",
     "text": [
      "\n",
      "INFO:     127.0.0.1:65238 - \"GET /tags?model=BERT&jobdesc=description+scope+role+piramal+pharma+solutions+pps+chief+information+officer+cio+role+provide+vision+leadership+developing+implementing+information+technology+initiatives+align+vision+piramal+pharma+solutions+pps+businesses+pps+cio+charter+build+competitive+edge+business+proactively+building+world+class+high+quality+innovative+technology+digital+analytics+solutions+global+operations+job+overview+strategy+innovation+strategic+business+partner+create+enhanced+digital+technology+vision+enterprise+identify+opportunities+differentiated+technology+capabilities+solutions+p+roactively+recommend+solutions+business+functional+leadership+team+considering+business+vision+industry+trends+bringing+outside+perspective+p+ush+bar+technology+innovation+imbibing+cutting+edge+technological+innovations+global+benchmarks+blue+sky+thinking+create+user+friendly+technologies+offering+great+experience+cts+champion+change+agent+accelerating+organizational+changes+required+create+sustain+enterprise+technology+capabilities+cts+thought+leader+emerging+digital+business+models+technologies+articulating+digital+future+enterprise+role+internally+externally+enable+business+growth+enable+inorganic+business+growth+merger+acquisition+leading+due+diligence+driving+integration+post+acquisition+lead+strategic+operational+planning+implementation+achieve+business+goals+fostering+innovation+prioritizing+initiatives+coordinating+evaluation+deployment+management+current+future+systems+across+organization+coordinate+facilitate+consultation+relevant+business+stakeholders+define+business+systems+requirements+new+technology+implementations+planning+execution+partner+various+site+ho+teams+manage+project+portfolio+relate+selection+acquisition+development+implementation+major+information+systems+defines+governance+mechanism+metrics+review+progress+technology+projects+business+case+achievement+technology+budget+company+provide+upfront+estimates+costs+various+heads+keep+track+spends+ensure+best+roi+company+technology+investment+maintaining+balance+frugality+financial+discipline+adequately+gearing+future+growth+b+uild+ecosystem+group+technology+teams+partners+including+startups+product+vendors+develop+implement+technology+solutions+b+uild+future+read+technology+team+attracting+retaining+upskilling+industry+best+talent+compliance+information+security+collaborate+piramal+quality+e+compliance+qec+team+ensure+quality+compliance+per+defined+sops+guidelines+accordance+21+cfr+part+11+gamp+guidelines+collaborate+information+security+team+ensure+adherence+information+security+guidelines+processes+skills+abilities+exceptional+inter+personal+skills+enabling+engagement+levels+across+leadership+skills+including+ability+manage+large+team+understanding+strategy+business+technology+application+levels+environment+priorities+goals+quickly+change+evolve+also+skills+think+strategically+including+developing+information+security+strategies+interpreting+handling+complex+information+acting+political+sensitivity+driving+engaging+positively+change+sound+understanding+portfolio+program+project+management+track+record+delivering+enabling+large+scale+complex+change+programs+qualifications+experience+delivering+strategy+delivery+essential+across+multiple+organisations+desirable+experience+working+pharma+business+senior+position+essential+experience+procuring+managing+large+complex+outcome+based+contracts+interdependencies+experience+working+senior+management+team+develop+business+focussed+strategies+effectively+support+business+needs+experience+technologies+sap+salesforce+bi+pharma+quality+applications+preferred+experience+digital+technologies+ar+vr+rpa+chatbots+ai+ml+etc+preferred+experience+joint+procurement+market+testing+outsourcing+well+negotiating+quality+cost+effective+services+experience+successfully+implementing+strategy+business+planning+evidence+delivering+high+quality+customer+focussed+services+experience+contributing+development+implementation+effective+management+information+systems+aid+decision+making+process+evidence+contribution+major+transformation+building+teams+time+change HTTP/1.1\" 200 OK\n",
      "INFO:     127.0.0.1:65240 - \"GET /questions?data=developing&data=officer&data=operations&data=leadership&data=information&data=analytics HTTP/1.1\" 200 OK\n",
      "INFO:     127.0.0.1:65278 - \"GET /metrics HTTP/1.1\" 200 OK\n",
      "INFO:     127.0.0.1:65280 - \"GET /metrics HTTP/1.1\" 200 OK\n",
      "INFO:     127.0.0.1:65298 - \"GET /tags?model=Spacy&jobdesc=description+scope+role+piramal+pharma+solutions+pps+chief+information+officer+cio+role+provide+vision+leadership+developing+implementing+information+technology+initiatives+align+vision+piramal+pharma+solutions+pps+businesses+pps+cio+charter+build+competitive+edge+business+proactively+building+world+class+high+quality+innovative+technology+digital+analytics+solutions+global+operations+job+overview+strategy+innovation+strategic+business+partner+create+enhanced+digital+technology+vision+enterprise+identify+opportunities+differentiated+technology+capabilities+solutions+p+roactively+recommend+solutions+business+functional+leadership+team+considering+business+vision+industry+trends+bringing+outside+perspective+p+ush+bar+technology+innovation+imbibing+cutting+edge+technological+innovations+global+benchmarks+blue+sky+thinking+create+user+friendly+technologies+offering+great+experience+cts+champion+change+agent+accelerating+organizational+changes+required+create+sustain+enterprise+technology+capabilities+cts+thought+leader+emerging+digital+business+models+technologies+articulating+digital+future+enterprise+role+internally+externally+enable+business+growth+enable+inorganic+business+growth+merger+acquisition+leading+due+diligence+driving+integration+post+acquisition+lead+strategic+operational+planning+implementation+achieve+business+goals+fostering+innovation+prioritizing+initiatives+coordinating+evaluation+deployment+management+current+future+systems+across+organization+coordinate+facilitate+consultation+relevant+business+stakeholders+define+business+systems+requirements+new+technology+implementations+planning+execution+partner+various+site+ho+teams+manage+project+portfolio+relate+selection+acquisition+development+implementation+major+information+systems+defines+governance+mechanism+metrics+review+progress+technology+projects+business+case+achievement+technology+budget+company+provide+upfront+estimates+costs+various+heads+keep+track+spends+ensure+best+roi+company+technology+investment+maintaining+balance+frugality+financial+discipline+adequately+gearing+future+growth+b+uild+ecosystem+group+technology+teams+partners+including+startups+product+vendors+develop+implement+technology+solutions+b+uild+future+read+technology+team+attracting+retaining+upskilling+industry+best+talent+compliance+information+security+collaborate+piramal+quality+e+compliance+qec+team+ensure+quality+compliance+per+defined+sops+guidelines+accordance+21+cfr+part+11+gamp+guidelines+collaborate+information+security+team+ensure+adherence+information+security+guidelines+processes+skills+abilities+exceptional+inter+personal+skills+enabling+engagement+levels+across+leadership+skills+including+ability+manage+large+team+understanding+strategy+business+technology+application+levels+environment+priorities+goals+quickly+change+evolve+also+skills+think+strategically+including+developing+information+security+strategies+interpreting+handling+complex+information+acting+political+sensitivity+driving+engaging+positively+change+sound+understanding+portfolio+program+project+management+track+record+delivering+enabling+large+scale+complex+change+programs+qualifications+experience+delivering+strategy+delivery+essential+across+multiple+organisations+desirable+experience+working+pharma+business+senior+position+essential+experience+procuring+managing+large+complex+outcome+based+contracts+interdependencies+experience+working+senior+management+team+develop+business+focussed+strategies+effectively+support+business+needs+experience+technologies+sap+salesforce+bi+pharma+quality+applications+preferred+experience+digital+technologies+ar+vr+rpa+chatbots+ai+ml+etc+preferred+experience+joint+procurement+market+testing+outsourcing+well+negotiating+quality+cost+effective+services+experience+successfully+implementing+strategy+business+planning+evidence+delivering+high+quality+customer+focussed+services+experience+contributing+development+implementation+effective+management+information+systems+aid+decision+making+process+evidence+contribution+major+transformation+building+teams+time+change HTTP/1.1\" 200 OK\n"
     ]
    },
    {
     "name": "stdout",
     "output_type": "stream",
     "text": [
      "INFO:     127.0.0.1:65299 - \"GET /questions?data=project+management&data=application&data=information+systems&data=compliance&data=applications&data=senior+management&data=track+record&data=information+technology&data=testing&data=leadership&data=development&data=lead&data=budget&data=operations&data=ability+manage&data=analytics&data=bi&data=decision+making&data=developing&data=support&data=salesforce&data=sap&data=ai&data=deployment HTTP/1.1\" 200 OK\n"
     ]
    },
    {
     "data": {
      "application/vnd.jupyter.widget-view+json": {
       "model_id": "ac8d565627d6451aaf31801af006feb6",
       "version_major": 2,
       "version_minor": 0
      },
      "text/plain": [
       "HBox(children=(FloatProgress(value=0.0, max=1.0), HTML(value='')))"
      ]
     },
     "metadata": {},
     "output_type": "display_data"
    },
    {
     "name": "stdout",
     "output_type": "stream",
     "text": [
      "INFO:     127.0.0.1:65317 - \"GET /metrics HTTP/1.1\" 200 OK\n",
      "\n"
     ]
    },
    {
     "data": {
      "application/vnd.jupyter.widget-view+json": {
       "model_id": "c84886be0a5a4851a320176257ff089c",
       "version_major": 2,
       "version_minor": 0
      },
      "text/plain": [
       "HBox(children=(FloatProgress(value=0.0, description='Running Prediction', max=1.0, style=ProgressStyle(descrip…"
      ]
     },
     "metadata": {},
     "output_type": "display_data"
    },
    {
     "name": "stdout",
     "output_type": "stream",
     "text": [
      "\n",
      "INFO:     127.0.0.1:65320 - \"GET /metrics HTTP/1.1\" 200 OK\n"
     ]
    },
    {
     "data": {
      "application/vnd.jupyter.widget-view+json": {
       "model_id": "b24983eea41446469d9f9651e9977cf1",
       "version_major": 2,
       "version_minor": 0
      },
      "text/plain": [
       "HBox(children=(FloatProgress(value=0.0, max=1.0), HTML(value='')))"
      ]
     },
     "metadata": {},
     "output_type": "display_data"
    },
    {
     "name": "stdout",
     "output_type": "stream",
     "text": [
      "INFO:     127.0.0.1:65351 - \"GET /metrics HTTP/1.1\" 200 OK\n",
      "\n"
     ]
    },
    {
     "data": {
      "application/vnd.jupyter.widget-view+json": {
       "model_id": "eaf296fcf96144b1834f78ba8cc44094",
       "version_major": 2,
       "version_minor": 0
      },
      "text/plain": [
       "HBox(children=(FloatProgress(value=0.0, description='Running Prediction', max=1.0, style=ProgressStyle(descrip…"
      ]
     },
     "metadata": {},
     "output_type": "display_data"
    },
    {
     "name": "stdout",
     "output_type": "stream",
     "text": [
      "\n"
     ]
    },
    {
     "data": {
      "application/vnd.jupyter.widget-view+json": {
       "model_id": "081b2158890c4f65ae2378ff81bbed44",
       "version_major": 2,
       "version_minor": 0
      },
      "text/plain": [
       "HBox(children=(FloatProgress(value=0.0, max=1.0), HTML(value='')))"
      ]
     },
     "metadata": {},
     "output_type": "display_data"
    },
    {
     "name": "stdout",
     "output_type": "stream",
     "text": [
      "\n"
     ]
    },
    {
     "data": {
      "application/vnd.jupyter.widget-view+json": {
       "model_id": "69064084f3de4edc80cf2798dc720cc3",
       "version_major": 2,
       "version_minor": 0
      },
      "text/plain": [
       "HBox(children=(FloatProgress(value=0.0, description='Running Prediction', max=1.0, style=ProgressStyle(descrip…"
      ]
     },
     "metadata": {},
     "output_type": "display_data"
    },
    {
     "name": "stdout",
     "output_type": "stream",
     "text": [
      "\n",
      "INFO:     127.0.0.1:65355 - \"GET /tags?model=BERT&jobdesc=description+scope+role+piramal+pharma+solutions+pps+chief+information+officer+cio+role+provide+vision+leadership+developing+implementing+information+technology+initiatives+align+vision+piramal+pharma+solutions+pps+businesses+pps+cio+charter+build+competitive+edge+business+proactively+building+world+class+high+quality+innovative+technology+digital+analytics+solutions+global+operations+job+overview+strategy+innovation+strategic+business+partner+create+enhanced+digital+technology+vision+enterprise+identify+opportunities+differentiated+technology+capabilities+solutions+p+roactively+recommend+solutions+business+functional+leadership+team+considering+business+vision+industry+trends+bringing+outside+perspective+p+ush+bar+technology+innovation+imbibing+cutting+edge+technological+innovations+global+benchmarks+blue+sky+thinking+create+user+friendly+technologies+offering+great+experience+cts+champion+change+agent+accelerating+organizational+changes+required+create+sustain+enterprise+technology+capabilities+cts+thought+leader+emerging+digital+business+models+technologies+articulating+digital+future+enterprise+role+internally+externally+enable+business+growth+enable+inorganic+business+growth+merger+acquisition+leading+due+diligence+driving+integration+post+acquisition+lead+strategic+operational+planning+implementation+achieve+business+goals+fostering+innovation+prioritizing+initiatives+coordinating+evaluation+deployment+management+current+future+systems+across+organization+coordinate+facilitate+consultation+relevant+business+stakeholders+define+business+systems+requirements+new+technology+implementations+planning+execution+partner+various+site+ho+teams+manage+project+portfolio+relate+selection+acquisition+development+implementation+major+information+systems+defines+governance+mechanism+metrics+review+progress+technology+projects+business+case+achievement+technology+budget+company+provide+upfront+estimates+costs+various+heads+keep+track+spends+ensure+best+roi+company+technology+investment+maintaining+balance+frugality+financial+discipline+adequately+gearing+future+growth+b+uild+ecosystem+group+technology+teams+partners+including+startups+product+vendors+develop+implement+technology+solutions+b+uild+future+read+technology+team+attracting+retaining+upskilling+industry+best+talent+compliance+information+security+collaborate+piramal+quality+e+compliance+qec+team+ensure+quality+compliance+per+defined+sops+guidelines+accordance+21+cfr+part+11+gamp+guidelines+collaborate+information+security+team+ensure+adherence+information+security+guidelines+processes+skills+abilities+exceptional+inter+personal+skills+enabling+engagement+levels+across+leadership+skills+including+ability+manage+large+team+understanding+strategy+business+technology+application+levels+environment+priorities+goals+quickly+change+evolve+also+skills+think+strategically+including+developing+information+security+strategies+interpreting+handling+complex+information+acting+political+sensitivity+driving+engaging+positively+change+sound+understanding+portfolio+program+project+management+track+record+delivering+enabling+large+scale+complex+change+programs+qualifications+experience+delivering+strategy+delivery+essential+across+multiple+organisations+desirable+experience+working+pharma+business+senior+position+essential+experience+procuring+managing+large+complex+outcome+based+contracts+interdependencies+experience+working+senior+management+team+develop+business+focussed+strategies+effectively+support+business+needs+experience+technologies+sap+salesforce+bi+pharma+quality+applications+preferred+experience+digital+technologies+ar+vr+rpa+chatbots+ai+ml+etc+preferred+experience+joint+procurement+market+testing+outsourcing+well+negotiating+quality+cost+effective+services+experience+successfully+implementing+strategy+business+planning+evidence+delivering+high+quality+customer+focussed+services+experience+contributing+development+implementation+effective+management+information+systems+aid+decision+making+process+evidence+contribution+major+transformation+building+teams+time+change HTTP/1.1\" 200 OK\n",
      "INFO:     127.0.0.1:65357 - \"GET /questions?data=developing&data=officer&data=operations&data=leadership&data=information&data=analytics HTTP/1.1\" 200 OK\n",
      "INFO:     127.0.0.1:65398 - \"GET /metrics HTTP/1.1\" 200 OK\n",
      "INFO:     127.0.0.1:65441 - \"GET /tags?model=LSTM&jobdesc=description+scope+role+piramal+pharma+solutions+pps+chief+information+officer+cio+role+provide+vision+leadership+developing+implementing+information+technology+initiatives+align+vision+piramal+pharma+solutions+pps+businesses+pps+cio+charter+build+competitive+edge+business+proactively+building+world+class+high+quality+innovative+technology+digital+analytics+solutions+global+operations+job+overview+strategy+innovation+strategic+business+partner+create+enhanced+digital+technology+vision+enterprise+identify+opportunities+differentiated+technology+capabilities+solutions+p+roactively+recommend+solutions+business+functional+leadership+team+considering+business+vision+industry+trends+bringing+outside+perspective+p+ush+bar+technology+innovation+imbibing+cutting+edge+technological+innovations+global+benchmarks+blue+sky+thinking+create+user+friendly+technologies+offering+great+experience+cts+champion+change+agent+accelerating+organizational+changes+required+create+sustain+enterprise+technology+capabilities+cts+thought+leader+emerging+digital+business+models+technologies+articulating+digital+future+enterprise+role+internally+externally+enable+business+growth+enable+inorganic+business+growth+merger+acquisition+leading+due+diligence+driving+integration+post+acquisition+lead+strategic+operational+planning+implementation+achieve+business+goals+fostering+innovation+prioritizing+initiatives+coordinating+evaluation+deployment+management+current+future+systems+across+organization+coordinate+facilitate+consultation+relevant+business+stakeholders+define+business+systems+requirements+new+technology+implementations+planning+execution+partner+various+site+ho+teams+manage+project+portfolio+relate+selection+acquisition+development+implementation+major+information+systems+defines+governance+mechanism+metrics+review+progress+technology+projects+business+case+achievement+technology+budget+company+provide+upfront+estimates+costs+various+heads+keep+track+spends+ensure+best+roi+company+technology+investment+maintaining+balance+frugality+financial+discipline+adequately+gearing+future+growth+b+uild+ecosystem+group+technology+teams+partners+including+startups+product+vendors+develop+implement+technology+solutions+b+uild+future+read+technology+team+attracting+retaining+upskilling+industry+best+talent+compliance+information+security+collaborate+piramal+quality+e+compliance+qec+team+ensure+quality+compliance+per+defined+sops+guidelines+accordance+21+cfr+part+11+gamp+guidelines+collaborate+information+security+team+ensure+adherence+information+security+guidelines+processes+skills+abilities+exceptional+inter+personal+skills+enabling+engagement+levels+across+leadership+skills+including+ability+manage+large+team+understanding+strategy+business+technology+application+levels+environment+priorities+goals+quickly+change+evolve+also+skills+think+strategically+including+developing+information+security+strategies+interpreting+handling+complex+information+acting+political+sensitivity+driving+engaging+positively+change+sound+understanding+portfolio+program+project+management+track+record+delivering+enabling+large+scale+complex+change+programs+qualifications+experience+delivering+strategy+delivery+essential+across+multiple+organisations+desirable+experience+working+pharma+business+senior+position+essential+experience+procuring+managing+large+complex+outcome+based+contracts+interdependencies+experience+working+senior+management+team+develop+business+focussed+strategies+effectively+support+business+needs+experience+technologies+sap+salesforce+bi+pharma+quality+applications+preferred+experience+digital+technologies+ar+vr+rpa+chatbots+ai+ml+etc+preferred+experience+joint+procurement+market+testing+outsourcing+well+negotiating+quality+cost+effective+services+experience+successfully+implementing+strategy+business+planning+evidence+delivering+high+quality+customer+focussed+services+experience+contributing+development+implementation+effective+management+information+systems+aid+decision+making+process+evidence+contribution+major+transformation+building+teams+time+change HTTP/1.1\" 500 Internal Server Error\n"
     ]
    },
    {
     "name": "stderr",
     "output_type": "stream",
     "text": [
      "ERROR:    Exception in ASGI application\n",
      "Traceback (most recent call last):\n",
      "  File \"C:\\Users\\nages\\anaconda3\\envs\\tf_gpu\\lib\\site-packages\\uvicorn\\protocols\\http\\h11_impl.py\", line 396, in run_asgi\n",
      "    result = await app(self.scope, self.receive, self.send)\n",
      "  File \"C:\\Users\\nages\\anaconda3\\envs\\tf_gpu\\lib\\site-packages\\uvicorn\\middleware\\proxy_headers.py\", line 45, in __call__\n",
      "    return await self.app(scope, receive, send)\n",
      "  File \"C:\\Users\\nages\\anaconda3\\envs\\tf_gpu\\lib\\site-packages\\fastapi\\applications.py\", line 199, in __call__\n",
      "    await super().__call__(scope, receive, send)\n",
      "  File \"C:\\Users\\nages\\anaconda3\\envs\\tf_gpu\\lib\\site-packages\\starlette\\applications.py\", line 111, in __call__\n",
      "    await self.middleware_stack(scope, receive, send)\n",
      "  File \"C:\\Users\\nages\\anaconda3\\envs\\tf_gpu\\lib\\site-packages\\starlette\\middleware\\errors.py\", line 181, in __call__\n",
      "    raise exc from None\n",
      "  File \"C:\\Users\\nages\\anaconda3\\envs\\tf_gpu\\lib\\site-packages\\starlette\\middleware\\errors.py\", line 159, in __call__\n",
      "    await self.app(scope, receive, _send)\n",
      "  File \"C:\\Users\\nages\\anaconda3\\envs\\tf_gpu\\lib\\site-packages\\starlette\\exceptions.py\", line 82, in __call__\n",
      "    raise exc from None\n",
      "  File \"C:\\Users\\nages\\anaconda3\\envs\\tf_gpu\\lib\\site-packages\\starlette\\exceptions.py\", line 71, in __call__\n",
      "    await self.app(scope, receive, sender)\n",
      "  File \"C:\\Users\\nages\\anaconda3\\envs\\tf_gpu\\lib\\site-packages\\starlette\\routing.py\", line 566, in __call__\n",
      "    await route.handle(scope, receive, send)\n",
      "  File \"C:\\Users\\nages\\anaconda3\\envs\\tf_gpu\\lib\\site-packages\\starlette\\routing.py\", line 227, in handle\n",
      "    await self.app(scope, receive, send)\n",
      "  File \"C:\\Users\\nages\\anaconda3\\envs\\tf_gpu\\lib\\site-packages\\starlette\\routing.py\", line 41, in app\n",
      "    response = await func(request)\n",
      "  File \"C:\\Users\\nages\\anaconda3\\envs\\tf_gpu\\lib\\site-packages\\fastapi\\routing.py\", line 201, in app\n",
      "    raw_response = await run_endpoint_function(\n",
      "  File \"C:\\Users\\nages\\anaconda3\\envs\\tf_gpu\\lib\\site-packages\\fastapi\\routing.py\", line 150, in run_endpoint_function\n",
      "    return await run_in_threadpool(dependant.call, **values)\n",
      "  File \"C:\\Users\\nages\\anaconda3\\envs\\tf_gpu\\lib\\site-packages\\starlette\\concurrency.py\", line 34, in run_in_threadpool\n",
      "    return await loop.run_in_executor(None, func, *args)\n",
      "  File \"C:\\Users\\nages\\anaconda3\\envs\\tf_gpu\\lib\\asyncio\\futures.py\", line 260, in __await__\n",
      "    yield self  # This tells Task to wait for completion.\n",
      "  File \"C:\\Users\\nages\\anaconda3\\envs\\tf_gpu\\lib\\asyncio\\tasks.py\", line 349, in __wakeup\n",
      "    future.result()\n",
      "  File \"C:\\Users\\nages\\anaconda3\\envs\\tf_gpu\\lib\\asyncio\\futures.py\", line 178, in result\n",
      "    raise self._exception\n",
      "  File \"C:\\Users\\nages\\anaconda3\\envs\\tf_gpu\\lib\\concurrent\\futures\\thread.py\", line 57, in run\n",
      "    result = self.fn(*self.args, **self.kwargs)\n",
      "  File \"<ipython-input-14-31dd09ef7c2b>\", line 15, in predict\n",
      "    res = get_tags(model,jobdesc)\n",
      "  File \"<ipython-input-13-0d2bbc8c6eac>\", line 11, in get_tags\n",
      "    padding=\"post\", value=lstm_tag2idx[\"O\"], maxlen=lstm_max_len)\n",
      "TypeError: 'NoneType' object is not subscriptable\n"
     ]
    },
    {
     "name": "stdout",
     "output_type": "stream",
     "text": [
      "INFO:     127.0.0.1:65449 - \"GET /metrics HTTP/1.1\" 200 OK\n",
      "INFO:     127.0.0.1:65452 - \"GET /tags?model=Spacy&jobdesc=description+scope+role+piramal+pharma+solutions+pps+chief+information+officer+cio+role+provide+vision+leadership+developing+implementing+information+technology+initiatives+align+vision+piramal+pharma+solutions+pps+businesses+pps+cio+charter+build+competitive+edge+business+proactively+building+world+class+high+quality+innovative+technology+digital+analytics+solutions+global+operations+job+overview+strategy+innovation+strategic+business+partner+create+enhanced+digital+technology+vision+enterprise+identify+opportunities+differentiated+technology+capabilities+solutions+p+roactively+recommend+solutions+business+functional+leadership+team+considering+business+vision+industry+trends+bringing+outside+perspective+p+ush+bar+technology+innovation+imbibing+cutting+edge+technological+innovations+global+benchmarks+blue+sky+thinking+create+user+friendly+technologies+offering+great+experience+cts+champion+change+agent+accelerating+organizational+changes+required+create+sustain+enterprise+technology+capabilities+cts+thought+leader+emerging+digital+business+models+technologies+articulating+digital+future+enterprise+role+internally+externally+enable+business+growth+enable+inorganic+business+growth+merger+acquisition+leading+due+diligence+driving+integration+post+acquisition+lead+strategic+operational+planning+implementation+achieve+business+goals+fostering+innovation+prioritizing+initiatives+coordinating+evaluation+deployment+management+current+future+systems+across+organization+coordinate+facilitate+consultation+relevant+business+stakeholders+define+business+systems+requirements+new+technology+implementations+planning+execution+partner+various+site+ho+teams+manage+project+portfolio+relate+selection+acquisition+development+implementation+major+information+systems+defines+governance+mechanism+metrics+review+progress+technology+projects+business+case+achievement+technology+budget+company+provide+upfront+estimates+costs+various+heads+keep+track+spends+ensure+best+roi+company+technology+investment+maintaining+balance+frugality+financial+discipline+adequately+gearing+future+growth+b+uild+ecosystem+group+technology+teams+partners+including+startups+product+vendors+develop+implement+technology+solutions+b+uild+future+read+technology+team+attracting+retaining+upskilling+industry+best+talent+compliance+information+security+collaborate+piramal+quality+e+compliance+qec+team+ensure+quality+compliance+per+defined+sops+guidelines+accordance+21+cfr+part+11+gamp+guidelines+collaborate+information+security+team+ensure+adherence+information+security+guidelines+processes+skills+abilities+exceptional+inter+personal+skills+enabling+engagement+levels+across+leadership+skills+including+ability+manage+large+team+understanding+strategy+business+technology+application+levels+environment+priorities+goals+quickly+change+evolve+also+skills+think+strategically+including+developing+information+security+strategies+interpreting+handling+complex+information+acting+political+sensitivity+driving+engaging+positively+change+sound+understanding+portfolio+program+project+management+track+record+delivering+enabling+large+scale+complex+change+programs+qualifications+experience+delivering+strategy+delivery+essential+across+multiple+organisations+desirable+experience+working+pharma+business+senior+position+essential+experience+procuring+managing+large+complex+outcome+based+contracts+interdependencies+experience+working+senior+management+team+develop+business+focussed+strategies+effectively+support+business+needs+experience+technologies+sap+salesforce+bi+pharma+quality+applications+preferred+experience+digital+technologies+ar+vr+rpa+chatbots+ai+ml+etc+preferred+experience+joint+procurement+market+testing+outsourcing+well+negotiating+quality+cost+effective+services+experience+successfully+implementing+strategy+business+planning+evidence+delivering+high+quality+customer+focussed+services+experience+contributing+development+implementation+effective+management+information+systems+aid+decision+making+process+evidence+contribution+major+transformation+building+teams+time+change HTTP/1.1\" 200 OK\n",
      "INFO:     127.0.0.1:65453 - \"GET /questions?data=project+management&data=application&data=information+systems&data=compliance&data=applications&data=senior+management&data=track+record&data=information+technology&data=testing&data=leadership&data=development&data=lead&data=budget&data=operations&data=ability+manage&data=analytics&data=bi&data=decision+making&data=developing&data=support&data=salesforce&data=sap&data=ai&data=deployment HTTP/1.1\" 200 OK\n",
      "INFO:     127.0.0.1:49344 - \"GET /metrics HTTP/1.1\" 200 OK\n",
      "INFO:     127.0.0.1:49348 - \"GET /metrics HTTP/1.1\" 200 OK\n",
      "INFO:     127.0.0.1:49508 - \"GET /metrics HTTP/1.1\" 200 OK\n",
      "INFO:     127.0.0.1:49535 - \"GET /metrics HTTP/1.1\" 200 OK\n",
      "INFO:     127.0.0.1:49537 - \"GET /metrics HTTP/1.1\" 200 OK\n",
      "INFO:     127.0.0.1:49540 - \"GET /metrics HTTP/1.1\" 200 OK\n",
      "INFO:     127.0.0.1:49566 - \"GET /metrics HTTP/1.1\" 200 OK\n",
      "INFO:     127.0.0.1:49824 - \"GET /tags?model=LSTM&jobdesc=description+scope+role+piramal+pharma+solutions+pps+chief+information+officer+cio+role+provide+vision+leadership+developing+implementing+information+technology+initiatives+align+vision+piramal+pharma+solutions+pps+businesses+pps+cio+charter+build+competitive+edge+business+proactively+building+world+class+high+quality+innovative+technology+digital+analytics+solutions+global+operations+job+overview+strategy+innovation+strategic+business+partner+create+enhanced+digital+technology+vision+enterprise+identify+opportunities+differentiated+technology+capabilities+solutions+p+roactively+recommend+solutions+business+functional+leadership+team+considering+business+vision+industry+trends+bringing+outside+perspective+p+ush+bar+technology+innovation+imbibing+cutting+edge+technological+innovations+global+benchmarks+blue+sky+thinking+create+user+friendly+technologies+offering+great+experience+cts+champion+change+agent+accelerating+organizational+changes+required+create+sustain+enterprise+technology+capabilities+cts+thought+leader+emerging+digital+business+models+technologies+articulating+digital+future+enterprise+role+internally+externally+enable+business+growth+enable+inorganic+business+growth+merger+acquisition+leading+due+diligence+driving+integration+post+acquisition+lead+strategic+operational+planning+implementation+achieve+business+goals+fostering+innovation+prioritizing+initiatives+coordinating+evaluation+deployment+management+current+future+systems+across+organization+coordinate+facilitate+consultation+relevant+business+stakeholders+define+business+systems+requirements+new+technology+implementations+planning+execution+partner+various+site+ho+teams+manage+project+portfolio+relate+selection+acquisition+development+implementation+major+information+systems+defines+governance+mechanism+metrics+review+progress+technology+projects+business+case+achievement+technology+budget+company+provide+upfront+estimates+costs+various+heads+keep+track+spends+ensure+best+roi+company+technology+investment+maintaining+balance+frugality+financial+discipline+adequately+gearing+future+growth+b+uild+ecosystem+group+technology+teams+partners+including+startups+product+vendors+develop+implement+technology+solutions+b+uild+future+read+technology+team+attracting+retaining+upskilling+industry+best+talent+compliance+information+security+collaborate+piramal+quality+e+compliance+qec+team+ensure+quality+compliance+per+defined+sops+guidelines+accordance+21+cfr+part+11+gamp+guidelines+collaborate+information+security+team+ensure+adherence+information+security+guidelines+processes+skills+abilities+exceptional+inter+personal+skills+enabling+engagement+levels+across+leadership+skills+including+ability+manage+large+team+understanding+strategy+business+technology+application+levels+environment+priorities+goals+quickly+change+evolve+also+skills+think+strategically+including+developing+information+security+strategies+interpreting+handling+complex+information+acting+political+sensitivity+driving+engaging+positively+change+sound+understanding+portfolio+program+project+management+track+record+delivering+enabling+large+scale+complex+change+programs+qualifications+experience+delivering+strategy+delivery+essential+across+multiple+organisations+desirable+experience+working+pharma+business+senior+position+essential+experience+procuring+managing+large+complex+outcome+based+contracts+interdependencies+experience+working+senior+management+team+develop+business+focussed+strategies+effectively+support+business+needs+experience+technologies+sap+salesforce+bi+pharma+quality+applications+preferred+experience+digital+technologies+ar+vr+rpa+chatbots+ai+ml+etc+preferred+experience+joint+procurement+market+testing+outsourcing+well+negotiating+quality+cost+effective+services+experience+successfully+implementing+strategy+business+planning+evidence+delivering+high+quality+customer+focussed+services+experience+contributing+development+implementation+effective+management+information+systems+aid+decision+making+process+evidence+contribution+major+transformation+building+teams+time+change HTTP/1.1\" 500 Internal Server Error\n"
     ]
    },
    {
     "name": "stderr",
     "output_type": "stream",
     "text": [
      "ERROR:    Exception in ASGI application\n",
      "Traceback (most recent call last):\n",
      "  File \"C:\\Users\\nages\\anaconda3\\envs\\tf_gpu\\lib\\site-packages\\uvicorn\\protocols\\http\\h11_impl.py\", line 396, in run_asgi\n",
      "    result = await app(self.scope, self.receive, self.send)\n",
      "  File \"C:\\Users\\nages\\anaconda3\\envs\\tf_gpu\\lib\\site-packages\\uvicorn\\middleware\\proxy_headers.py\", line 45, in __call__\n",
      "    return await self.app(scope, receive, send)\n",
      "  File \"C:\\Users\\nages\\anaconda3\\envs\\tf_gpu\\lib\\site-packages\\fastapi\\applications.py\", line 199, in __call__\n",
      "    await super().__call__(scope, receive, send)\n",
      "  File \"C:\\Users\\nages\\anaconda3\\envs\\tf_gpu\\lib\\site-packages\\starlette\\applications.py\", line 111, in __call__\n",
      "    await self.middleware_stack(scope, receive, send)\n",
      "  File \"C:\\Users\\nages\\anaconda3\\envs\\tf_gpu\\lib\\site-packages\\starlette\\middleware\\errors.py\", line 181, in __call__\n",
      "    raise exc from None\n",
      "  File \"C:\\Users\\nages\\anaconda3\\envs\\tf_gpu\\lib\\site-packages\\starlette\\middleware\\errors.py\", line 159, in __call__\n",
      "    await self.app(scope, receive, _send)\n",
      "  File \"C:\\Users\\nages\\anaconda3\\envs\\tf_gpu\\lib\\site-packages\\starlette\\exceptions.py\", line 82, in __call__\n",
      "    raise exc from None\n",
      "  File \"C:\\Users\\nages\\anaconda3\\envs\\tf_gpu\\lib\\site-packages\\starlette\\exceptions.py\", line 71, in __call__\n",
      "    await self.app(scope, receive, sender)\n",
      "  File \"C:\\Users\\nages\\anaconda3\\envs\\tf_gpu\\lib\\site-packages\\starlette\\routing.py\", line 566, in __call__\n",
      "    await route.handle(scope, receive, send)\n",
      "  File \"C:\\Users\\nages\\anaconda3\\envs\\tf_gpu\\lib\\site-packages\\starlette\\routing.py\", line 227, in handle\n",
      "    await self.app(scope, receive, send)\n",
      "  File \"C:\\Users\\nages\\anaconda3\\envs\\tf_gpu\\lib\\site-packages\\starlette\\routing.py\", line 41, in app\n",
      "    response = await func(request)\n",
      "  File \"C:\\Users\\nages\\anaconda3\\envs\\tf_gpu\\lib\\site-packages\\fastapi\\routing.py\", line 201, in app\n",
      "    raw_response = await run_endpoint_function(\n",
      "  File \"C:\\Users\\nages\\anaconda3\\envs\\tf_gpu\\lib\\site-packages\\fastapi\\routing.py\", line 150, in run_endpoint_function\n",
      "    return await run_in_threadpool(dependant.call, **values)\n",
      "  File \"C:\\Users\\nages\\anaconda3\\envs\\tf_gpu\\lib\\site-packages\\starlette\\concurrency.py\", line 34, in run_in_threadpool\n",
      "    return await loop.run_in_executor(None, func, *args)\n",
      "  File \"C:\\Users\\nages\\anaconda3\\envs\\tf_gpu\\lib\\asyncio\\futures.py\", line 260, in __await__\n",
      "    yield self  # This tells Task to wait for completion.\n",
      "  File \"C:\\Users\\nages\\anaconda3\\envs\\tf_gpu\\lib\\asyncio\\tasks.py\", line 349, in __wakeup\n",
      "    future.result()\n",
      "  File \"C:\\Users\\nages\\anaconda3\\envs\\tf_gpu\\lib\\asyncio\\futures.py\", line 178, in result\n",
      "    raise self._exception\n",
      "  File \"C:\\Users\\nages\\anaconda3\\envs\\tf_gpu\\lib\\concurrent\\futures\\thread.py\", line 57, in run\n",
      "    result = self.fn(*self.args, **self.kwargs)\n",
      "  File \"<ipython-input-14-31dd09ef7c2b>\", line 15, in predict\n",
      "    res = get_tags(model,jobdesc)\n",
      "  File \"<ipython-input-13-0d2bbc8c6eac>\", line 11, in get_tags\n",
      "    padding=\"post\", value=lstm_tag2idx[\"O\"], maxlen=lstm_max_len)\n",
      "TypeError: 'NoneType' object is not subscriptable\n"
     ]
    },
    {
     "name": "stdout",
     "output_type": "stream",
     "text": [
      "INFO:     127.0.0.1:49833 - \"GET /metrics HTTP/1.1\" 200 OK\n",
      "INFO:     127.0.0.1:49839 - \"GET /metrics HTTP/1.1\" 200 OK\n",
      "INFO:     127.0.0.1:49842 - \"GET /tags?model=Spacy&jobdesc=description+scope+role+piramal+pharma+solutions+pps+chief+information+officer+cio+role+provide+vision+leadership+developing+implementing+information+technology+initiatives+align+vision+piramal+pharma+solutions+pps+businesses+pps+cio+charter+build+competitive+edge+business+proactively+building+world+class+high+quality+innovative+technology+digital+analytics+solutions+global+operations+job+overview+strategy+innovation+strategic+business+partner+create+enhanced+digital+technology+vision+enterprise+identify+opportunities+differentiated+technology+capabilities+solutions+p+roactively+recommend+solutions+business+functional+leadership+team+considering+business+vision+industry+trends+bringing+outside+perspective+p+ush+bar+technology+innovation+imbibing+cutting+edge+technological+innovations+global+benchmarks+blue+sky+thinking+create+user+friendly+technologies+offering+great+experience+cts+champion+change+agent+accelerating+organizational+changes+required+create+sustain+enterprise+technology+capabilities+cts+thought+leader+emerging+digital+business+models+technologies+articulating+digital+future+enterprise+role+internally+externally+enable+business+growth+enable+inorganic+business+growth+merger+acquisition+leading+due+diligence+driving+integration+post+acquisition+lead+strategic+operational+planning+implementation+achieve+business+goals+fostering+innovation+prioritizing+initiatives+coordinating+evaluation+deployment+management+current+future+systems+across+organization+coordinate+facilitate+consultation+relevant+business+stakeholders+define+business+systems+requirements+new+technology+implementations+planning+execution+partner+various+site+ho+teams+manage+project+portfolio+relate+selection+acquisition+development+implementation+major+information+systems+defines+governance+mechanism+metrics+review+progress+technology+projects+business+case+achievement+technology+budget+company+provide+upfront+estimates+costs+various+heads+keep+track+spends+ensure+best+roi+company+technology+investment+maintaining+balance+frugality+financial+discipline+adequately+gearing+future+growth+b+uild+ecosystem+group+technology+teams+partners+including+startups+product+vendors+develop+implement+technology+solutions+b+uild+future+read+technology+team+attracting+retaining+upskilling+industry+best+talent+compliance+information+security+collaborate+piramal+quality+e+compliance+qec+team+ensure+quality+compliance+per+defined+sops+guidelines+accordance+21+cfr+part+11+gamp+guidelines+collaborate+information+security+team+ensure+adherence+information+security+guidelines+processes+skills+abilities+exceptional+inter+personal+skills+enabling+engagement+levels+across+leadership+skills+including+ability+manage+large+team+understanding+strategy+business+technology+application+levels+environment+priorities+goals+quickly+change+evolve+also+skills+think+strategically+including+developing+information+security+strategies+interpreting+handling+complex+information+acting+political+sensitivity+driving+engaging+positively+change+sound+understanding+portfolio+program+project+management+track+record+delivering+enabling+large+scale+complex+change+programs+qualifications+experience+delivering+strategy+delivery+essential+across+multiple+organisations+desirable+experience+working+pharma+business+senior+position+essential+experience+procuring+managing+large+complex+outcome+based+contracts+interdependencies+experience+working+senior+management+team+develop+business+focussed+strategies+effectively+support+business+needs+experience+technologies+sap+salesforce+bi+pharma+quality+applications+preferred+experience+digital+technologies+ar+vr+rpa+chatbots+ai+ml+etc+preferred+experience+joint+procurement+market+testing+outsourcing+well+negotiating+quality+cost+effective+services+experience+successfully+implementing+strategy+business+planning+evidence+delivering+high+quality+customer+focussed+services+experience+contributing+development+implementation+effective+management+information+systems+aid+decision+making+process+evidence+contribution+major+transformation+building+teams+time+change HTTP/1.1\" 200 OK\n",
      "INFO:     127.0.0.1:49843 - \"GET /questions?data=project+management&data=application&data=information+systems&data=compliance&data=applications&data=senior+management&data=track+record&data=information+technology&data=testing&data=leadership&data=development&data=lead&data=budget&data=operations&data=ability+manage&data=analytics&data=bi&data=decision+making&data=developing&data=support&data=salesforce&data=sap&data=ai&data=deployment HTTP/1.1\" 200 OK\n"
     ]
    },
    {
     "data": {
      "application/vnd.jupyter.widget-view+json": {
       "model_id": "edddd2b507be41ee990cb76f4dc7ff56",
       "version_major": 2,
       "version_minor": 0
      },
      "text/plain": [
       "HBox(children=(FloatProgress(value=0.0, max=1.0), HTML(value='')))"
      ]
     },
     "metadata": {},
     "output_type": "display_data"
    },
    {
     "name": "stdout",
     "output_type": "stream",
     "text": [
      "INFO:     127.0.0.1:49851 - \"GET /metrics HTTP/1.1\" 200 OK\n",
      "\n"
     ]
    },
    {
     "data": {
      "application/vnd.jupyter.widget-view+json": {
       "model_id": "e2e285e737004995a61c312317566e0e",
       "version_major": 2,
       "version_minor": 0
      },
      "text/plain": [
       "HBox(children=(FloatProgress(value=0.0, description='Running Prediction', max=1.0, style=ProgressStyle(descrip…"
      ]
     },
     "metadata": {},
     "output_type": "display_data"
    },
    {
     "name": "stdout",
     "output_type": "stream",
     "text": [
      "\n",
      "INFO:     127.0.0.1:49859 - \"GET /metrics HTTP/1.1\" 200 OK\n"
     ]
    },
    {
     "data": {
      "application/vnd.jupyter.widget-view+json": {
       "model_id": "7842f32bfd2a4c209098aa33fd9a0197",
       "version_major": 2,
       "version_minor": 0
      },
      "text/plain": [
       "HBox(children=(FloatProgress(value=0.0, max=1.0), HTML(value='')))"
      ]
     },
     "metadata": {},
     "output_type": "display_data"
    },
    {
     "name": "stdout",
     "output_type": "stream",
     "text": [
      "\n"
     ]
    },
    {
     "data": {
      "application/vnd.jupyter.widget-view+json": {
       "model_id": "04adec8cdb3f4857b64894f7f452cf18",
       "version_major": 2,
       "version_minor": 0
      },
      "text/plain": [
       "HBox(children=(FloatProgress(value=0.0, description='Running Prediction', max=1.0, style=ProgressStyle(descrip…"
      ]
     },
     "metadata": {},
     "output_type": "display_data"
    },
    {
     "name": "stdout",
     "output_type": "stream",
     "text": [
      "\n",
      "INFO:     127.0.0.1:49862 - \"GET /tags?model=BERT&jobdesc=description+scope+role+piramal+pharma+solutions+pps+chief+information+officer+cio+role+provide+vision+leadership+developing+implementing+information+technology+initiatives+align+vision+piramal+pharma+solutions+pps+businesses+pps+cio+charter+build+competitive+edge+business+proactively+building+world+class+high+quality+innovative+technology+digital+analytics+solutions+global+operations+job+overview+strategy+innovation+strategic+business+partner+create+enhanced+digital+technology+vision+enterprise+identify+opportunities+differentiated+technology+capabilities+solutions+p+roactively+recommend+solutions+business+functional+leadership+team+considering+business+vision+industry+trends+bringing+outside+perspective+p+ush+bar+technology+innovation+imbibing+cutting+edge+technological+innovations+global+benchmarks+blue+sky+thinking+create+user+friendly+technologies+offering+great+experience+cts+champion+change+agent+accelerating+organizational+changes+required+create+sustain+enterprise+technology+capabilities+cts+thought+leader+emerging+digital+business+models+technologies+articulating+digital+future+enterprise+role+internally+externally+enable+business+growth+enable+inorganic+business+growth+merger+acquisition+leading+due+diligence+driving+integration+post+acquisition+lead+strategic+operational+planning+implementation+achieve+business+goals+fostering+innovation+prioritizing+initiatives+coordinating+evaluation+deployment+management+current+future+systems+across+organization+coordinate+facilitate+consultation+relevant+business+stakeholders+define+business+systems+requirements+new+technology+implementations+planning+execution+partner+various+site+ho+teams+manage+project+portfolio+relate+selection+acquisition+development+implementation+major+information+systems+defines+governance+mechanism+metrics+review+progress+technology+projects+business+case+achievement+technology+budget+company+provide+upfront+estimates+costs+various+heads+keep+track+spends+ensure+best+roi+company+technology+investment+maintaining+balance+frugality+financial+discipline+adequately+gearing+future+growth+b+uild+ecosystem+group+technology+teams+partners+including+startups+product+vendors+develop+implement+technology+solutions+b+uild+future+read+technology+team+attracting+retaining+upskilling+industry+best+talent+compliance+information+security+collaborate+piramal+quality+e+compliance+qec+team+ensure+quality+compliance+per+defined+sops+guidelines+accordance+21+cfr+part+11+gamp+guidelines+collaborate+information+security+team+ensure+adherence+information+security+guidelines+processes+skills+abilities+exceptional+inter+personal+skills+enabling+engagement+levels+across+leadership+skills+including+ability+manage+large+team+understanding+strategy+business+technology+application+levels+environment+priorities+goals+quickly+change+evolve+also+skills+think+strategically+including+developing+information+security+strategies+interpreting+handling+complex+information+acting+political+sensitivity+driving+engaging+positively+change+sound+understanding+portfolio+program+project+management+track+record+delivering+enabling+large+scale+complex+change+programs+qualifications+experience+delivering+strategy+delivery+essential+across+multiple+organisations+desirable+experience+working+pharma+business+senior+position+essential+experience+procuring+managing+large+complex+outcome+based+contracts+interdependencies+experience+working+senior+management+team+develop+business+focussed+strategies+effectively+support+business+needs+experience+technologies+sap+salesforce+bi+pharma+quality+applications+preferred+experience+digital+technologies+ar+vr+rpa+chatbots+ai+ml+etc+preferred+experience+joint+procurement+market+testing+outsourcing+well+negotiating+quality+cost+effective+services+experience+successfully+implementing+strategy+business+planning+evidence+delivering+high+quality+customer+focussed+services+experience+contributing+development+implementation+effective+management+information+systems+aid+decision+making+process+evidence+contribution+major+transformation+building+teams+time+change HTTP/1.1\" 200 OK\n",
      "INFO:     127.0.0.1:49864 - \"GET /questions?data=developing&data=officer&data=operations&data=leadership&data=information&data=analytics HTTP/1.1\" 200 OK\n",
      "INFO:     127.0.0.1:64140 - \"GET /metrics HTTP/1.1\" 200 OK\n",
      "INFO:     127.0.0.1:64427 - \"GET /metrics HTTP/1.1\" 200 OK\n",
      "INFO:     127.0.0.1:64433 - \"GET /metrics HTTP/1.1\" 200 OK\n",
      "INFO:     127.0.0.1:64436 - \"GET /metrics HTTP/1.1\" 200 OK\n",
      "INFO:     127.0.0.1:64440 - \"GET /metrics HTTP/1.1\" 200 OK\n",
      "INFO:     127.0.0.1:64451 - \"GET /metrics HTTP/1.1\" 200 OK\n",
      "INFO:     127.0.0.1:64453 - \"GET /metrics HTTP/1.1\" 200 OK\n",
      "INFO:     127.0.0.1:64468 - \"GET /metrics HTTP/1.1\" 200 OK\n",
      "INFO:     127.0.0.1:64995 - \"GET /metrics HTTP/1.1\" 200 OK\n",
      "INFO:     127.0.0.1:65004 - \"GET /metrics HTTP/1.1\" 200 OK\n",
      "INFO:     127.0.0.1:65226 - \"GET /tags?model=Spacy&jobdesc=description+scope+role+piramal+pharma+solutions+pps+chief+information+officer+cio+role+provide+vision+leadership+developing+implementing+information+technology+initiatives+align+vision+piramal+pharma+solutions+pps+businesses+pps+cio+charter+build+competitive+edge+business+proactively+building+world+class+high+quality+innovative+technology+digital+analytics+solutions+global+operations+job+overview+strategy+innovation+strategic+business+partner+create+enhanced+digital+technology+vision+enterprise+identify+opportunities+differentiated+technology+capabilities+solutions+p+roactively+recommend+solutions+business+functional+leadership+team+considering+business+vision+industry+trends+bringing+outside+perspective+p+ush+bar+technology+innovation+imbibing+cutting+edge+technological+innovations+global+benchmarks+blue+sky+thinking+create+user+friendly+technologies+offering+great+experience+cts+champion+change+agent+accelerating+organizational+changes+required+create+sustain+enterprise+technology+capabilities+cts+thought+leader+emerging+digital+business+models+technologies+articulating+digital+future+enterprise+role+internally+externally+enable+business+growth+enable+inorganic+business+growth+merger+acquisition+leading+due+diligence+driving+integration+post+acquisition+lead+strategic+operational+planning+implementation+achieve+business+goals+fostering+innovation+prioritizing+initiatives+coordinating+evaluation+deployment+management+current+future+systems+across+organization+coordinate+facilitate+consultation+relevant+business+stakeholders+define+business+systems+requirements+new+technology+implementations+planning+execution+partner+various+site+ho+teams+manage+project+portfolio+relate+selection+acquisition+development+implementation+major+information+systems+defines+governance+mechanism+metrics+review+progress+technology+projects+business+case+achievement+technology+budget+company+provide+upfront+estimates+costs+various+heads+keep+track+spends+ensure+best+roi+company+technology+investment+maintaining+balance+frugality+financial+discipline+adequately+gearing+future+growth+b+uild+ecosystem+group+technology+teams+partners+including+startups+product+vendors+develop+implement+technology+solutions+b+uild+future+read+technology+team+attracting+retaining+upskilling+industry+best+talent+compliance+information+security+collaborate+piramal+quality+e+compliance+qec+team+ensure+quality+compliance+per+defined+sops+guidelines+accordance+21+cfr+part+11+gamp+guidelines+collaborate+information+security+team+ensure+adherence+information+security+guidelines+processes+skills+abilities+exceptional+inter+personal+skills+enabling+engagement+levels+across+leadership+skills+including+ability+manage+large+team+understanding+strategy+business+technology+application+levels+environment+priorities+goals+quickly+change+evolve+also+skills+think+strategically+including+developing+information+security+strategies+interpreting+handling+complex+information+acting+political+sensitivity+driving+engaging+positively+change+sound+understanding+portfolio+program+project+management+track+record+delivering+enabling+large+scale+complex+change+programs+qualifications+experience+delivering+strategy+delivery+essential+across+multiple+organisations+desirable+experience+working+pharma+business+senior+position+essential+experience+procuring+managing+large+complex+outcome+based+contracts+interdependencies+experience+working+senior+management+team+develop+business+focussed+strategies+effectively+support+business+needs+experience+technologies+sap+salesforce+bi+pharma+quality+applications+preferred+experience+digital+technologies+ar+vr+rpa+chatbots+ai+ml+etc+preferred+experience+joint+procurement+market+testing+outsourcing+well+negotiating+quality+cost+effective+services+experience+successfully+implementing+strategy+business+planning+evidence+delivering+high+quality+customer+focussed+services+experience+contributing+development+implementation+effective+management+information+systems+aid+decision+making+process+evidence+contribution+major+transformation+building+teams+time+change HTTP/1.1\" 200 OK\n"
     ]
    },
    {
     "name": "stdout",
     "output_type": "stream",
     "text": [
      "INFO:     127.0.0.1:65227 - \"GET /questions?data=project+management&data=application&data=information+systems&data=compliance&data=applications&data=senior+management&data=track+record&data=information+technology&data=testing&data=leadership&data=development&data=lead&data=budget&data=operations&data=ability+manage&data=analytics&data=bi&data=decision+making&data=developing&data=support&data=salesforce&data=sap&data=ai&data=deployment HTTP/1.1\" 200 OK\n",
      "INFO:     127.0.0.1:65229 - \"GET /metrics HTTP/1.1\" 200 OK\n",
      "INFO:     127.0.0.1:65233 - \"GET /tags?model=Spacy&jobdesc=machine+learning HTTP/1.1\" 200 OK\n",
      "INFO:     127.0.0.1:65234 - \"GET /questions?data=machine+learning HTTP/1.1\" 200 OK\n",
      "INFO:     127.0.0.1:65243 - \"GET /tags?model=Spacy&jobdesc=description+scope+role+piramal+pharma+solutions+pps+chief+information+officer+cio+role+provide+vision+leadership+developing+implementing+information+technology+initiatives+align+vision+piramal+pharma+solutions+pps+businesses+pps+cio+charter+build+competitive+edge+business+proactively+building+world+class+high+quality+innovative+technology+digital+analytics+solutions+global+operations+job+overview+strategy+innovation+strategic+business+partner+create+enhanced+digital+technology+vision+enterprise+identify+opportunities+differentiated+technology+capabilities+solutions+p+roactively+recommend+solutions+business+functional+leadership+team+considering+business+vision+industry+trends+bringing+outside+perspective+p+ush+bar+technology+innovation+imbibing+cutting+edge+technological+innovations+global+benchmarks+blue+sky+thinking+create+user+friendly+technologies+offering+great+experience+cts+champion+change+agent+accelerating+organizational+changes+required+create+sustain+enterprise+technology+capabilities+cts+thought+leader+emerging+digital+business+models+technologies+articulating+digital+future+enterprise+role+internally+externally+enable+business+growth+enable+inorganic+business+growth+merger+acquisition+leading+due+diligence+driving+integration+post+acquisition+lead+strategic+operational+planning+implementation+achieve+business+goals+fostering+innovation+prioritizing+initiatives+coordinating+evaluation+deployment+management+current+future+systems+across+organization+coordinate+facilitate+consultation+relevant+business+stakeholders+define+business+systems+requirements+new+technology+implementations+planning+execution+partner+various+site+ho+teams+manage+project+portfolio+relate+selection+acquisition+development+implementation+major+information+systems+defines+governance+mechanism+metrics+review+progress+technology+projects+business+case+achievement+technology+budget+company+provide+upfront+estimates+costs+various+heads+keep+track+spends+ensure+best+roi+company+technology+investment+maintaining+balance+frugality+financial+discipline+adequately+gearing+future+growth+b+uild+ecosystem+group+technology+teams+partners+including+startups+product+vendors+develop+implement+technology+solutions+b+uild+future+read+technology+team+attracting+retaining+upskilling+industry+best+talent+compliance+information+security+collaborate+piramal+quality+e+compliance+qec+team+ensure+quality+compliance+per+defined+sops+guidelines+accordance+21+cfr+part+11+gamp+guidelines+collaborate+information+security+team+ensure+adherence+information+security+guidelines+processes+skills+abilities+exceptional+inter+personal+skills+enabling+engagement+levels+across+leadership+skills+including+ability+manage+large+team+understanding+strategy+business+technology+application+levels+environment+priorities+goals+quickly+change+evolve+also+skills+think+strategically+including+developing+information+security+strategies+interpreting+handling+complex+information+acting+political+sensitivity+driving+engaging+positively+change+sound+understanding+portfolio+program+project+management+track+record+delivering+enabling+large+scale+complex+change+programs+qualifications+experience+delivering+strategy+delivery+essential+across+multiple+organisations+desirable+experience+working+pharma+business+senior+position+essential+experience+procuring+managing+large+complex+outcome+based+contracts+interdependencies+experience+working+senior+management+team+develop+business+focussed+strategies+effectively+support+business+needs+experience+technologies+sap+salesforce+bi+pharma+quality+applications+preferred+experience+digital+technologies+ar+vr+rpa+chatbots+ai+ml+etc+preferred+experience+joint+procurement+market+testing+outsourcing+well+negotiating+quality+cost+effective+services+experience+successfully+implementing+strategy+business+planning+evidence+delivering+high+quality+customer+focussed+services+experience+contributing+development+implementation+effective+management+information+systems+aid+decision+making+process+evidence+contribution+major+transformation+building+teams+time+change HTTP/1.1\" 200 OK\n",
      "INFO:     127.0.0.1:65244 - \"GET /questions?data=project+management&data=application&data=information+systems&data=compliance&data=applications&data=senior+management&data=track+record&data=information+technology&data=testing&data=leadership&data=development&data=lead&data=budget&data=operations&data=ability+manage&data=analytics&data=bi&data=decision+making&data=developing&data=support&data=salesforce&data=sap&data=ai&data=deployment HTTP/1.1\" 200 OK\n",
      "INFO:     127.0.0.1:65311 - \"GET /tags?model=Spacy&jobdesc=description+scope+role+piramal+pharma+solutions+pps+chief+information+officer+cio+role+provide+vision+leadership+developing+implementing+information+technology+initiatives+align+vision+piramal+pharma+solutions+pps+businesses+pps+cio+charter+build+competitive+edge+business+proactively+building+world+class+high+quality+innovative+technology+digital+analytics+solutions+global+operations+job+overview+strategy+innovation+strategic+business+partner+create+enhanced+digital+technology+vision+enterprise+identify+opportunities+differentiated+technology+capabilities+solutions+p+roactively+recommend+solutions+business+functional+leadership+team+considering+business+vision+industry+trends+bringing+outside+perspective+p+ush+bar+technology+innovation+imbibing+cutting+edge+technological+innovations+global+benchmarks+blue+sky+thinking+create+user+friendly+technologies+offering+great+experience+cts+champion+change+agent+accelerating+organizational+changes+required+create+sustain+enterprise+technology+capabilities+cts+thought+leader+emerging+digital+business+models+technologies+articulating+digital+future+enterprise+role+internally+externally+enable+business+growth+enable+inorganic+business+growth+merger+acquisition+leading+due+diligence+driving+integration+post+acquisition+lead+strategic+operational+planning+implementation+achieve+business+goals+fostering+innovation+prioritizing+initiatives+coordinating+evaluation+deployment+management+current+future+systems+across+organization+coordinate+facilitate+consultation+relevant+business+stakeholders+define+business+systems+requirements+new+technology+implementations+planning+execution+partner+various+site+ho+teams+manage+project+portfolio+relate+selection+acquisition+development+implementation+major+information+systems+defines+governance+mechanism+metrics+review+progress+technology+projects+business+case+achievement+technology+budget+company+provide+upfront+estimates+costs+various+heads+keep+track+spends+ensure+best+roi+company+technology+investment+maintaining+balance+frugality+financial+discipline+adequately+gearing+future+growth+b+uild+ecosystem+group+technology+teams+partners+including+startups+product+vendors+develop+implement+technology+solutions+b+uild+future+read+technology+team+attracting+retaining+upskilling+industry+best+talent+compliance+information+security+collaborate+piramal+quality+e+compliance+qec+team+ensure+quality+compliance+per+defined+sops+guidelines+accordance+21+cfr+part+11+gamp+guidelines+collaborate+information+security+team+ensure+adherence+information+security+guidelines+processes+skills+abilities+exceptional+inter+personal+skills+enabling+engagement+levels+across+leadership+skills+including+ability+manage+large+team+understanding+strategy+business+technology+application+levels+environment+priorities+goals+quickly+change+evolve+also+skills+think+strategically+including+developing+information+security+strategies+interpreting+handling+complex+information+acting+political+sensitivity+driving+engaging+positively+change+sound+understanding+portfolio+program+project+management+track+record+delivering+enabling+large+scale+complex+change+programs+qualifications+experience+delivering+strategy+delivery+essential+across+multiple+organisations+desirable+experience+working+pharma+business+senior+position+essential+experience+procuring+managing+large+complex+outcome+based+contracts+interdependencies+experience+working+senior+management+team+develop+business+focussed+strategies+effectively+support+business+needs+experience+technologies+sap+salesforce+bi+pharma+quality+applications+preferred+experience+digital+technologies+ar+vr+rpa+chatbots+ai+ml+etc+preferred+experience+joint+procurement+market+testing+outsourcing+well+negotiating+quality+cost+effective+services+experience+successfully+implementing+strategy+business+planning+evidence+delivering+high+quality+customer+focussed+services+experience+contributing+development+implementation+effective+management+information+systems+aid+decision+making+process+evidence+contribution+major+transformation+building+teams+time+change HTTP/1.1\" 200 OK\n"
     ]
    },
    {
     "name": "stdout",
     "output_type": "stream",
     "text": [
      "INFO:     127.0.0.1:65312 - \"GET /questions?data=project+management&data=application&data=information+systems&data=compliance&data=applications&data=senior+management&data=track+record&data=information+technology&data=testing&data=leadership&data=development&data=lead&data=budget&data=operations&data=ability+manage&data=analytics&data=bi&data=decision+making&data=developing&data=support&data=salesforce&data=sap&data=ai&data=deployment HTTP/1.1\" 200 OK\n"
     ]
    },
    {
     "data": {
      "application/vnd.jupyter.widget-view+json": {
       "model_id": "7c39112a52df439787aec88111b05056",
       "version_major": 2,
       "version_minor": 0
      },
      "text/plain": [
       "HBox(children=(FloatProgress(value=0.0, max=1.0), HTML(value='')))"
      ]
     },
     "metadata": {},
     "output_type": "display_data"
    },
    {
     "name": "stdout",
     "output_type": "stream",
     "text": [
      "INFO:     127.0.0.1:65319 - \"GET /metrics HTTP/1.1\" 200 OK\n",
      "INFO:     127.0.0.1:65326 - \"GET /metrics HTTP/1.1\" 200 OK\n",
      "\n"
     ]
    },
    {
     "data": {
      "application/vnd.jupyter.widget-view+json": {
       "model_id": "54ddb271b0794d1b936d0bb3530aa6ef",
       "version_major": 2,
       "version_minor": 0
      },
      "text/plain": [
       "HBox(children=(FloatProgress(value=0.0, description='Running Prediction', max=1.0, style=ProgressStyle(descrip…"
      ]
     },
     "metadata": {},
     "output_type": "display_data"
    },
    {
     "data": {
      "application/vnd.jupyter.widget-view+json": {
       "model_id": "4edc6269a32f47d999f6ad69077a2069",
       "version_major": 2,
       "version_minor": 0
      },
      "text/plain": [
       "HBox(children=(FloatProgress(value=0.0, max=1.0), HTML(value='')))"
      ]
     },
     "metadata": {},
     "output_type": "display_data"
    },
    {
     "name": "stdout",
     "output_type": "stream",
     "text": [
      "\n",
      "\n"
     ]
    },
    {
     "data": {
      "application/vnd.jupyter.widget-view+json": {
       "model_id": "fd92d18612aa4099a8aed49eb49082f0",
       "version_major": 2,
       "version_minor": 0
      },
      "text/plain": [
       "HBox(children=(FloatProgress(value=0.0, description='Running Prediction', max=1.0, style=ProgressStyle(descrip…"
      ]
     },
     "metadata": {},
     "output_type": "display_data"
    },
    {
     "name": "stdout",
     "output_type": "stream",
     "text": [
      "\n",
      "INFO:     127.0.0.1:65329 - \"GET /tags?model=BERT&jobdesc=description+scope+role+piramal+pharma+solutions+pps+chief+information+officer+cio+role+provide+vision+leadership+developing+implementing+information+technology+initiatives+align+vision+piramal+pharma+solutions+pps+businesses+pps+cio+charter+build+competitive+edge+business+proactively+building+world+class+high+quality+innovative+technology+digital+analytics+solutions+global+operations+job+overview+strategy+innovation+strategic+business+partner+create+enhanced+digital+technology+vision+enterprise+identify+opportunities+differentiated+technology+capabilities+solutions+p+roactively+recommend+solutions+business+functional+leadership+team+considering+business+vision+industry+trends+bringing+outside+perspective+p+ush+bar+technology+innovation+imbibing+cutting+edge+technological+innovations+global+benchmarks+blue+sky+thinking+create+user+friendly+technologies+offering+great+experience+cts+champion+change+agent+accelerating+organizational+changes+required+create+sustain+enterprise+technology+capabilities+cts+thought+leader+emerging+digital+business+models+technologies+articulating+digital+future+enterprise+role+internally+externally+enable+business+growth+enable+inorganic+business+growth+merger+acquisition+leading+due+diligence+driving+integration+post+acquisition+lead+strategic+operational+planning+implementation+achieve+business+goals+fostering+innovation+prioritizing+initiatives+coordinating+evaluation+deployment+management+current+future+systems+across+organization+coordinate+facilitate+consultation+relevant+business+stakeholders+define+business+systems+requirements+new+technology+implementations+planning+execution+partner+various+site+ho+teams+manage+project+portfolio+relate+selection+acquisition+development+implementation+major+information+systems+defines+governance+mechanism+metrics+review+progress+technology+projects+business+case+achievement+technology+budget+company+provide+upfront+estimates+costs+various+heads+keep+track+spends+ensure+best+roi+company+technology+investment+maintaining+balance+frugality+financial+discipline+adequately+gearing+future+growth+b+uild+ecosystem+group+technology+teams+partners+including+startups+product+vendors+develop+implement+technology+solutions+b+uild+future+read+technology+team+attracting+retaining+upskilling+industry+best+talent+compliance+information+security+collaborate+piramal+quality+e+compliance+qec+team+ensure+quality+compliance+per+defined+sops+guidelines+accordance+21+cfr+part+11+gamp+guidelines+collaborate+information+security+team+ensure+adherence+information+security+guidelines+processes+skills+abilities+exceptional+inter+personal+skills+enabling+engagement+levels+across+leadership+skills+including+ability+manage+large+team+understanding+strategy+business+technology+application+levels+environment+priorities+goals+quickly+change+evolve+also+skills+think+strategically+including+developing+information+security+strategies+interpreting+handling+complex+information+acting+political+sensitivity+driving+engaging+positively+change+sound+understanding+portfolio+program+project+management+track+record+delivering+enabling+large+scale+complex+change+programs+qualifications+experience+delivering+strategy+delivery+essential+across+multiple+organisations+desirable+experience+working+pharma+business+senior+position+essential+experience+procuring+managing+large+complex+outcome+based+contracts+interdependencies+experience+working+senior+management+team+develop+business+focussed+strategies+effectively+support+business+needs+experience+technologies+sap+salesforce+bi+pharma+quality+applications+preferred+experience+digital+technologies+ar+vr+rpa+chatbots+ai+ml+etc+preferred+experience+joint+procurement+market+testing+outsourcing+well+negotiating+quality+cost+effective+services+experience+successfully+implementing+strategy+business+planning+evidence+delivering+high+quality+customer+focussed+services+experience+contributing+development+implementation+effective+management+information+systems+aid+decision+making+process+evidence+contribution+major+transformation+building+teams+time+change HTTP/1.1\" 200 OK\n",
      "INFO:     127.0.0.1:65331 - \"GET /questions?data=developing&data=officer&data=operations&data=leadership&data=information&data=analytics HTTP/1.1\" 200 OK\n"
     ]
    }
   ],
   "source": [
    "app = FastAPI()\n",
    "\n",
    "\n",
    "@app.get('/')\n",
    "def index():\n",
    "    return \"QA Model enpoint service\"\n",
    "\n",
    "@app.get('/metrics')\n",
    "def metrics():\n",
    "    return model_perform\n",
    "\n",
    "\n",
    "@app.get('/tags')\n",
    "def predict(model:str, jobdesc : str):\n",
    "    res = get_tags(model,jobdesc)\n",
    "    return res\n",
    "\n",
    "\n",
    "@app.get('/questions')\n",
    "def predict(data : List[str] = Query(None)):\n",
    "    questions = get_questionsbytag(df,data)\n",
    "    return { 'questions' : questions}\n",
    "\n",
    "if __name__ == \"__main__\":\n",
    "    uvicorn.run(app, host=\"127.0.0.1\", port=8000)"
   ]
  },
  {
   "cell_type": "markdown",
   "metadata": {
    "id": "a2NtU-2cv_Q-"
   },
   "source": [
    "### <span style=\"color:#FF00FF\">Model Testing</span>"
   ]
  },
  {
   "cell_type": "code",
   "execution_count": null,
   "metadata": {},
   "outputs": [],
   "source": [
    "test = \"basic qualification diploma experience 3 5 years job summary seeking experienced skilled information technology candidate join growing organization position responsible supporting network databases systems updating system hardware software troubleshooting system errors assisting team members supporting data security optimization extensive background technology computer science experience maintaining installing systems must responsibilities duties setting workstations computers necessary peripheral devices checking computer hardware hdd mouses keyboards etc ensure functionality installing configuring appropriate software functions according specifications organize schedule upgrades maintenance without deterring others completing work perform troubleshooting diagnose resolve problems repair replace parts debugging etc maintain records logs repairs fixes maintenance schedule identify computer network equipment shortages place orders checking computer hardware hdd mouses keyboards etc ensure functionality installing configuring appropriate software functions according specifications organize schedule upgrades maintenance without deterring others completing work perform troubleshooting diagnose resolve problems repair replace parts debugging etc maintain records logs repairs fixes maintenance schedule identify computer network equipment shortages place orders\"\n",
    "get_tags(\"LSTM\",test)"
   ]
  },
  {
   "cell_type": "code",
   "execution_count": null,
   "metadata": {},
   "outputs": [],
   "source": [
    "get_tags(\"SPACY\",test)"
   ]
  },
  {
   "cell_type": "code",
   "execution_count": null,
   "metadata": {},
   "outputs": [],
   "source": [
    "get_tags(\"BERT\",test)"
   ]
  },
  {
   "cell_type": "code",
   "execution_count": null,
   "metadata": {},
   "outputs": [],
   "source": []
  }
 ],
 "metadata": {
  "kernelspec": {
   "display_name": "Python 3",
   "language": "python",
   "name": "python3"
  },
  "language_info": {
   "codemirror_mode": {
    "name": "ipython",
    "version": 3
   },
   "file_extension": ".py",
   "mimetype": "text/x-python",
   "name": "python",
   "nbconvert_exporter": "python",
   "pygments_lexer": "ipython3",
   "version": "3.8.5"
  }
 },
 "nbformat": 4,
 "nbformat_minor": 2
}
