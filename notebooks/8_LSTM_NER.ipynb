{
 "cells": [
  {
   "cell_type": "markdown",
   "metadata": {
    "id": "_RxlpXM1v_Qz"
   },
   "source": [
    "### <span style=\"color:#FF00FF\">Named-Entity Recognition (NER) using Keras Bidirectional LSTM</span>"
   ]
  },
  {
   "cell_type": "markdown",
   "metadata": {
    "id": "rJobcNdmv_Q9"
   },
   "source": [
    "### <span style=\"color:#FF00FF\">Import libraries</span>"
   ]
  },
  {
   "cell_type": "code",
   "execution_count": 1,
   "metadata": {
    "id": "w11AkRH3Nysw"
   },
   "outputs": [],
   "source": [
    "import pandas as pd\n",
    "import numpy as np\n",
    "import pickle\n",
    "\n",
    "from sklearn.model_selection import train_test_split\n",
    "from seqeval.metrics import precision_score, recall_score, f1_score, classification_report\n",
    "\n",
    "from keras.utils import to_categorical\n",
    "from keras.models import load_model\n",
    "\n",
    "from tensorflow.keras import Model, Input\n",
    "from tensorflow.keras.layers import LSTM, Embedding, Dense\n",
    "from tensorflow.keras.layers import TimeDistributed, Dropout, Bidirectional\n",
    "from tensorflow.keras.models import Sequential\n",
    "from tensorflow.keras.preprocessing.sequence import pad_sequences\n",
    "from tensorflow.compat.v1 import ConfigProto\n",
    "from tensorflow.compat.v1 import InteractiveSession\n",
    "config = ConfigProto()\n",
    "config.gpu_options.allow_growth = True\n",
    "session = InteractiveSession(config=config)"
   ]
  },
  {
   "cell_type": "markdown",
   "metadata": {
    "id": "a2NtU-2cv_Q-"
   },
   "source": [
    "### <span style=\"color:#FF00FF\">Load the dataset</span>"
   ]
  },
  {
   "cell_type": "code",
   "execution_count": 2,
   "metadata": {
    "colab": {
     "base_uri": "https://localhost:8080/",
     "height": 195
    },
    "id": "s_72kZrCN2jT",
    "outputId": "fbf7142c-9500-4b95-9a7e-0728d8115c1e"
   },
   "outputs": [
    {
     "data": {
      "text/html": [
       "<div>\n",
       "<style scoped>\n",
       "    .dataframe tbody tr th:only-of-type {\n",
       "        vertical-align: middle;\n",
       "    }\n",
       "\n",
       "    .dataframe tbody tr th {\n",
       "        vertical-align: top;\n",
       "    }\n",
       "\n",
       "    .dataframe thead th {\n",
       "        text-align: right;\n",
       "    }\n",
       "</style>\n",
       "<table border=\"1\" class=\"dataframe\">\n",
       "  <thead>\n",
       "    <tr style=\"text-align: right;\">\n",
       "      <th></th>\n",
       "      <th>sentence_id</th>\n",
       "      <th>words</th>\n",
       "      <th>labels</th>\n",
       "    </tr>\n",
       "  </thead>\n",
       "  <tbody>\n",
       "    <tr>\n",
       "      <th>0</th>\n",
       "      <td>0</td>\n",
       "      <td>manage</td>\n",
       "      <td>O</td>\n",
       "    </tr>\n",
       "    <tr>\n",
       "      <th>1</th>\n",
       "      <td>0</td>\n",
       "      <td>verticals</td>\n",
       "      <td>O</td>\n",
       "    </tr>\n",
       "    <tr>\n",
       "      <th>2</th>\n",
       "      <td>0</td>\n",
       "      <td>company</td>\n",
       "      <td>O</td>\n",
       "    </tr>\n",
       "    <tr>\n",
       "      <th>3</th>\n",
       "      <td>0</td>\n",
       "      <td>like</td>\n",
       "      <td>O</td>\n",
       "    </tr>\n",
       "    <tr>\n",
       "      <th>4</th>\n",
       "      <td>0</td>\n",
       "      <td>applications</td>\n",
       "      <td>I-SKILL</td>\n",
       "    </tr>\n",
       "  </tbody>\n",
       "</table>\n",
       "</div>"
      ],
      "text/plain": [
       "   sentence_id         words   labels\n",
       "0            0        manage        O\n",
       "1            0     verticals        O\n",
       "2            0       company        O\n",
       "3            0          like        O\n",
       "4            0  applications  I-SKILL"
      ]
     },
     "execution_count": 2,
     "metadata": {},
     "output_type": "execute_result"
    }
   ],
   "source": [
    "df = pd.read_csv(\"../data/jobdescriptions_input.csv\")\n",
    "df.head()"
   ]
  },
  {
   "cell_type": "markdown",
   "metadata": {
    "id": "fHqJhEixv_Q-"
   },
   "source": [
    "### <span style=\"color:#FF00FF\">Number of unique words in the corpus and tags</span>"
   ]
  },
  {
   "cell_type": "code",
   "execution_count": 3,
   "metadata": {
    "colab": {
     "base_uri": "https://localhost:8080/"
    },
    "id": "XRJHWa98OYFX",
    "outputId": "e5052f72-4920-4f01-dfb3-82c1a4cd37ad"
   },
   "outputs": [
    {
     "data": {
      "text/plain": [
       "['O', 'I-SKILL', 'I-DEPT', 'I-ROLE', 'B-ROLE', 'B-SKILL', 'B-DEPT']"
      ]
     },
     "execution_count": 3,
     "metadata": {},
     "output_type": "execute_result"
    }
   ],
   "source": [
    "custom_labels = df[\"labels\"].unique().tolist()\n",
    "custom_labels"
   ]
  },
  {
   "cell_type": "code",
   "execution_count": 4,
   "metadata": {
    "colab": {
     "base_uri": "https://localhost:8080/"
    },
    "id": "rAbXKdrlv_Q_",
    "outputId": "3cbf7eaf-5865-41ae-a189-14965105881f",
    "scrolled": true
   },
   "outputs": [
    {
     "name": "stdout",
     "output_type": "stream",
     "text": [
      "Unique words in corpus: 10165\n",
      "Unique tags in corpus: 7\n"
     ]
    }
   ],
   "source": [
    "print(\"Unique words in corpus:\", df['words'].nunique())\n",
    "print(\"Unique tags in corpus:\", df['labels'].nunique())"
   ]
  },
  {
   "cell_type": "markdown",
   "metadata": {
    "id": "jF69PbHKv_RA"
   },
   "source": [
    "No. of tags in corpus dataset is directly proportional to the number of classes which is 7  in our case and our input dimension is 10165."
   ]
  },
  {
   "cell_type": "markdown",
   "metadata": {
    "id": "emMQVbhxv_RA"
   },
   "source": [
    "### <span style=\"color:#FF00FF\">Retrieve Sentences and Corresponding Tags</span>"
   ]
  },
  {
   "cell_type": "code",
   "execution_count": 5,
   "metadata": {
    "id": "1--q-jzMrcST"
   },
   "outputs": [],
   "source": [
    "class SentenceGetter(object):\n",
    "    \n",
    "    def __init__(self, dataset):\n",
    "        self.n_sent = 1\n",
    "        self.dataset = dataset\n",
    "        self.empty = False\n",
    "        agg_func = lambda s: [(w, t) for w,t in zip(s[\"words\"].values.tolist(),\n",
    "                                                        s[\"labels\"].values.tolist())]\n",
    "        self.grouped = self.dataset.groupby(\"sentence_id\").apply(agg_func)\n",
    "        self.sentences = [s for s in self.grouped]\n",
    "    \n",
    "    def get_next(self):\n",
    "        try:\n",
    "            s = self.grouped[\"Sentence: {}\".format(self.n_sent)]\n",
    "            self.n_sent += 1\n",
    "            return s\n",
    "        except:\n",
    "            return None"
   ]
  },
  {
   "cell_type": "code",
   "execution_count": 6,
   "metadata": {
    "colab": {
     "base_uri": "https://localhost:8080/"
    },
    "id": "HEODCOzTrd4k",
    "outputId": "f6ed2018-3b28-421e-885c-88b4c0906314"
   },
   "outputs": [
    {
     "name": "stdout",
     "output_type": "stream",
     "text": [
      "[('manage', 'O'), ('verticals', 'O'), ('company', 'O'), ('like', 'O'), ('applications', 'I-SKILL'), ('infrastructure', 'I-DEPT'), ('security', 'O'), ('leverage', 'O'), ('shared', 'O'), ('service', 'O'), ('organization', 'O'), ('deployment', 'I-SKILL'), ('new', 'O'), ('solutions', 'O'), ('develop', 'O'), ('organization', 'O'), ('level', 'O'), ('strategies', 'O'), ('scenario', 'O'), ('align', 'O'), ('business', 'O'), ('objectives', 'O'), ('cost', 'O'), ('efficient', 'O'), ('manner', 'O'), ('analyse', 'O'), ('existing', 'O'), ('infrastructure', 'O'), ('areas', 'O'), ('improvements', 'O'), ('around', 'O'), ('hardware', 'I-DEPT'), ('operating', 'O'), ('system', 'O'), ('communications', 'O'), ('software', 'I-DEPT'), ('applications', 'O'), ('data', 'O'), ('processing', 'O'), ('security', 'O'), ('system', 'O'), ('implementing', 'O'), ('develop', 'O'), ('implement', 'O'), ('overall', 'O'), ('security', 'O'), ('ensure', 'O'), ('utmost', 'O'), ('protection', 'O'), ('privacy', 'O'), ('organization', 'O'), ('information', 'O'), ('data', 'O'), ('identify', 'O'), ('priorities', 'O'), ('opportunities', 'O'), ('digitization', 'O'), ('automation', 'I-SKILL'), ('execute', 'O'), ('gradation', 'O'), ('implementations', 'O'), ('given', 'O'), ('resources', 'O'), ('liaison', 'O'), ('internal', 'O'), ('external', 'O'), ('stakeholders', 'O'), ('effectively', 'O'), ('manage', 'O'), ('business', 'O'), ('environments', 'O'), ('develop', 'O'), ('lead', 'I-ROLE'), ('guide', 'O'), ('team', 'O'), ('towards', 'O'), ('effective', 'O'), ('implementation', 'O'), ('road', 'O'), ('map', 'O'), ('organization', 'O'), ('guidelines', 'O'), ('budget', 'I-SKILL'), ('laid', 'O'), ('manage', 'O'), ('spends', 'O'), ('budgets', 'O'), ('line', 'O'), ('meeting', 'O'), ('requirements', 'O'), ('objectives', 'O'), ('dynamic', 'O'), ('professional', 'O'), ('15', 'O'), ('overall', 'O'), ('experience', 'O'), ('end', 'O'), ('end', 'O'), ('implementation', 'O'), ('management', 'O'), ('including', 'O'), ('infra', 'O'), ('network', 'O'), ('applications', 'O'), ('security', 'O')]\n"
     ]
    }
   ],
   "source": [
    "getter = SentenceGetter(df)\n",
    "sentences = getter.sentences\n",
    "print(sentences[0])"
   ]
  },
  {
   "cell_type": "markdown",
   "metadata": {
    "id": "28sw__Dpv_RB"
   },
   "source": [
    "Here we are going to create a list and use set method to get de-duplicated values within the “word” column. And we’ll append the corresponding padding named “Endpad”."
   ]
  },
  {
   "cell_type": "code",
   "execution_count": 7,
   "metadata": {
    "colab": {
     "base_uri": "https://localhost:8080/"
    },
    "id": "5WsLZ9t6sEVr",
    "outputId": "5e4a151a-066b-4c20-d9e8-010851a3e1e6"
   },
   "outputs": [
    {
     "name": "stdout",
     "output_type": "stream",
     "text": [
      "10166 7\n"
     ]
    }
   ],
   "source": [
    "words = list(set(df[\"words\"].values))\n",
    "words.append(\"ENDPAD\")\n",
    "n_words  = len(words)\n",
    "\n",
    "tags = list(set(df[\"labels\"].values))\n",
    "n_tags = len(tags)\n",
    "\n",
    "print(n_words , n_tags)"
   ]
  },
  {
   "cell_type": "markdown",
   "metadata": {
    "id": "g6OLs_UHv_RC"
   },
   "source": [
    "### <span style=\"color:#FF00FF\">Converting words to numbers</span>"
   ]
  },
  {
   "cell_type": "code",
   "execution_count": 8,
   "metadata": {
    "id": "idjSZKhnsYxG"
   },
   "outputs": [],
   "source": [
    "word2idx = {w: i for i, w in enumerate(words)}\n",
    "tag2idx = {t: i for i, t in enumerate(tags)}"
   ]
  },
  {
   "cell_type": "markdown",
   "metadata": {
    "id": "WUIpUN03v_RC"
   },
   "source": [
    "### <span style=\"color:#FF00FF\">Sequence Padding</span>"
   ]
  },
  {
   "cell_type": "code",
   "execution_count": 9,
   "metadata": {
    "id": "26ahQaHqs1f4"
   },
   "outputs": [],
   "source": [
    "max_len = max([len(s) for s in sentences])\n",
    "\n",
    "X = [[word2idx[w[0]] for w in s] for s in sentences]\n",
    "X = pad_sequences(maxlen=max_len, sequences=X, padding=\"post\", value=n_words-1)\n",
    "y = [[tag2idx[w[1]] for w in s] for s in sentences]\n",
    "y = pad_sequences(maxlen=max_len, sequences=y, padding=\"post\", value=tag2idx[\"O\"])"
   ]
  },
  {
   "cell_type": "code",
   "execution_count": 10,
   "metadata": {
    "id": "gaJjy75Eterg"
   },
   "outputs": [],
   "source": [
    "y = [to_categorical(i, num_classes=n_tags) for i in y]"
   ]
  },
  {
   "cell_type": "markdown",
   "metadata": {
    "id": "MrxI7gOkv_RD"
   },
   "source": [
    "### <span style=\"color:#FF00FF\">Split train and test data</span>"
   ]
  },
  {
   "cell_type": "code",
   "execution_count": 11,
   "metadata": {
    "id": "MYTMenrbtxSG"
   },
   "outputs": [],
   "source": [
    "x_train, x_test, y_train, y_test = train_test_split(X, y, test_size=0.2, random_state=42)"
   ]
  },
  {
   "cell_type": "markdown",
   "metadata": {
    "id": "51VIEybrv_RD"
   },
   "source": [
    "### <span style=\"color:#FF00FF\">Build and Compile a Bidirectional LSTM Model</span>"
   ]
  },
  {
   "cell_type": "code",
   "execution_count": 12,
   "metadata": {
    "colab": {
     "base_uri": "https://localhost:8080/"
    },
    "id": "XiHPSOFst9cs",
    "outputId": "a5efc3c4-ceb3-444e-838b-3e2246e12ce3"
   },
   "outputs": [
    {
     "name": "stdout",
     "output_type": "stream",
     "text": [
      "Model: \"model\"\n",
      "_________________________________________________________________\n",
      "Layer (type)                 Output Shape              Param #   \n",
      "=================================================================\n",
      "input_1 (InputLayer)         [(None, 690)]             0         \n",
      "_________________________________________________________________\n",
      "embedding (Embedding)        (None, 690, 690)          7014540   \n",
      "_________________________________________________________________\n",
      "dropout (Dropout)            (None, 690, 690)          0         \n",
      "_________________________________________________________________\n",
      "bidirectional (Bidirectional (None, 690, 200)          632800    \n",
      "_________________________________________________________________\n",
      "lstm_1 (LSTM)                (None, 690, 50)           50200     \n",
      "_________________________________________________________________\n",
      "time_distributed (TimeDistri (None, 690, 7)            357       \n",
      "=================================================================\n",
      "Total params: 7,697,897\n",
      "Trainable params: 7,697,897\n",
      "Non-trainable params: 0\n",
      "_________________________________________________________________\n"
     ]
    }
   ],
   "source": [
    "input_word = Input(shape=(max_len,))\n",
    "\n",
    "model = Sequential()\n",
    "model = Embedding(input_dim=n_words, output_dim=max_len, input_length=max_len)(input_word)\n",
    "model = Dropout(0.1)(model)\n",
    "model = Bidirectional(LSTM(units=100, return_sequences=True, recurrent_dropout=0.0), merge_mode = 'concat')(model)\n",
    "model = LSTM(units=50, return_sequences=True, dropout=0.5, recurrent_dropout=0.0)(model)\n",
    "out = TimeDistributed(Dense(n_tags, activation=\"softmax\"))(model)\n",
    "model = Model(input_word, out)\n",
    "model.summary()"
   ]
  },
  {
   "cell_type": "code",
   "execution_count": 13,
   "metadata": {
    "id": "euw0hmx2uQVP"
   },
   "outputs": [],
   "source": [
    "model.compile(optimizer=\"adam\", loss=\"categorical_crossentropy\", metrics=[\"accuracy\"])"
   ]
  },
  {
   "cell_type": "markdown",
   "metadata": {
    "id": "45nQeOYYv_RE"
   },
   "source": [
    "### <span style=\"color:#FF00FF\">Train the Model</span>"
   ]
  },
  {
   "cell_type": "code",
   "execution_count": 14,
   "metadata": {
    "colab": {
     "base_uri": "https://localhost:8080/"
    },
    "id": "SnMTKkOcuc9C",
    "outputId": "90e034fa-5391-4866-d495-68a23269991c"
   },
   "outputs": [
    {
     "name": "stdout",
     "output_type": "stream",
     "text": [
      "Epoch 1/100\n",
      "23/23 [==============================] - 29s 519ms/step - loss: 0.8764 - accuracy: 0.8292 - val_loss: 0.1246 - val_accuracy: 0.9833\n",
      "Epoch 2/100\n",
      "23/23 [==============================] - 6s 277ms/step - loss: 0.1256 - accuracy: 0.9823 - val_loss: 0.1079 - val_accuracy: 0.9833\n",
      "Epoch 3/100\n",
      "23/23 [==============================] - 6s 279ms/step - loss: 0.1127 - accuracy: 0.9823 - val_loss: 0.0978 - val_accuracy: 0.9833\n",
      "Epoch 4/100\n",
      "23/23 [==============================] - 6s 277ms/step - loss: 0.0950 - accuracy: 0.9831 - val_loss: 0.0823 - val_accuracy: 0.9833\n",
      "Epoch 5/100\n",
      "23/23 [==============================] - 6s 268ms/step - loss: 0.0862 - accuracy: 0.9823 - val_loss: 0.0712 - val_accuracy: 0.9833\n",
      "Epoch 6/100\n",
      "23/23 [==============================] - 7s 287ms/step - loss: 0.0730 - accuracy: 0.9823 - val_loss: 0.0586 - val_accuracy: 0.9834\n",
      "Epoch 7/100\n",
      "23/23 [==============================] - 7s 287ms/step - loss: 0.0598 - accuracy: 0.9830 - val_loss: 0.0502 - val_accuracy: 0.9848\n",
      "Epoch 8/100\n",
      "23/23 [==============================] - 6s 270ms/step - loss: 0.0534 - accuracy: 0.9838 - val_loss: 0.0473 - val_accuracy: 0.9855\n",
      "Epoch 9/100\n",
      "23/23 [==============================] - 6s 282ms/step - loss: 0.0496 - accuracy: 0.9844 - val_loss: 0.0459 - val_accuracy: 0.9857\n",
      "Epoch 10/100\n",
      "23/23 [==============================] - 6s 276ms/step - loss: 0.0458 - accuracy: 0.9854 - val_loss: 0.0448 - val_accuracy: 0.9859\n",
      "Epoch 11/100\n",
      "23/23 [==============================] - 6s 275ms/step - loss: 0.0448 - accuracy: 0.9856 - val_loss: 0.0441 - val_accuracy: 0.9859\n",
      "Epoch 12/100\n",
      "23/23 [==============================] - 6s 275ms/step - loss: 0.0420 - accuracy: 0.9863 - val_loss: 0.0436 - val_accuracy: 0.9860\n",
      "Epoch 13/100\n",
      "23/23 [==============================] - 6s 268ms/step - loss: 0.0416 - accuracy: 0.9862 - val_loss: 0.0438 - val_accuracy: 0.9862\n",
      "Epoch 14/100\n",
      "23/23 [==============================] - 7s 285ms/step - loss: 0.0386 - accuracy: 0.9872 - val_loss: 0.0432 - val_accuracy: 0.9861\n",
      "Epoch 15/100\n",
      "23/23 [==============================] - 6s 275ms/step - loss: 0.0371 - accuracy: 0.9872 - val_loss: 0.0419 - val_accuracy: 0.9864\n",
      "Epoch 16/100\n",
      "23/23 [==============================] - 7s 288ms/step - loss: 0.0360 - accuracy: 0.9876 - val_loss: 0.0429 - val_accuracy: 0.9872\n",
      "Epoch 17/100\n",
      "23/23 [==============================] - 7s 288ms/step - loss: 0.0332 - accuracy: 0.9887 - val_loss: 0.0412 - val_accuracy: 0.9880\n",
      "Epoch 18/100\n",
      "23/23 [==============================] - 6s 283ms/step - loss: 0.0310 - accuracy: 0.9897 - val_loss: 0.0403 - val_accuracy: 0.9884\n",
      "Epoch 19/100\n",
      "23/23 [==============================] - 7s 297ms/step - loss: 0.0282 - accuracy: 0.9908 - val_loss: 0.0359 - val_accuracy: 0.9892\n",
      "Epoch 20/100\n",
      "23/23 [==============================] - 7s 292ms/step - loss: 0.0269 - accuracy: 0.9913 - val_loss: 0.0348 - val_accuracy: 0.9894\n",
      "Epoch 21/100\n",
      "23/23 [==============================] - 7s 289ms/step - loss: 0.0240 - accuracy: 0.9921 - val_loss: 0.0347 - val_accuracy: 0.9897\n",
      "Epoch 22/100\n",
      "23/23 [==============================] - 7s 305ms/step - loss: 0.0215 - accuracy: 0.9932 - val_loss: 0.0348 - val_accuracy: 0.9901\n",
      "Epoch 23/100\n",
      "23/23 [==============================] - 7s 322ms/step - loss: 0.0204 - accuracy: 0.9935 - val_loss: 0.0326 - val_accuracy: 0.9903\n",
      "Epoch 24/100\n",
      "23/23 [==============================] - 7s 326ms/step - loss: 0.0190 - accuracy: 0.9940 - val_loss: 0.0327 - val_accuracy: 0.9903\n",
      "Epoch 25/100\n",
      "23/23 [==============================] - 7s 291ms/step - loss: 0.0175 - accuracy: 0.9946 - val_loss: 0.0354 - val_accuracy: 0.9903\n",
      "Epoch 26/100\n",
      "23/23 [==============================] - 7s 299ms/step - loss: 0.0159 - accuracy: 0.9951 - val_loss: 0.0336 - val_accuracy: 0.9906\n",
      "Epoch 27/100\n",
      "23/23 [==============================] - 7s 297ms/step - loss: 0.0161 - accuracy: 0.9950 - val_loss: 0.0327 - val_accuracy: 0.9909\n",
      "Epoch 28/100\n",
      "23/23 [==============================] - 6s 284ms/step - loss: 0.0141 - accuracy: 0.9956 - val_loss: 0.0341 - val_accuracy: 0.9907\n",
      "Epoch 29/100\n",
      "23/23 [==============================] - 7s 294ms/step - loss: 0.0147 - accuracy: 0.9954 - val_loss: 0.0325 - val_accuracy: 0.9908\n",
      "Epoch 30/100\n",
      "23/23 [==============================] - 7s 289ms/step - loss: 0.0134 - accuracy: 0.9957 - val_loss: 0.0328 - val_accuracy: 0.9909\n",
      "Epoch 31/100\n",
      "23/23 [==============================] - 7s 293ms/step - loss: 0.0125 - accuracy: 0.9961 - val_loss: 0.0337 - val_accuracy: 0.9909\n",
      "Epoch 32/100\n",
      "23/23 [==============================] - 6s 284ms/step - loss: 0.0114 - accuracy: 0.9964 - val_loss: 0.0332 - val_accuracy: 0.9910\n",
      "Epoch 33/100\n",
      "23/23 [==============================] - 7s 293ms/step - loss: 0.0106 - accuracy: 0.9969 - val_loss: 0.0322 - val_accuracy: 0.9910\n",
      "Epoch 34/100\n",
      "23/23 [==============================] - 7s 286ms/step - loss: 0.0106 - accuracy: 0.9970 - val_loss: 0.0351 - val_accuracy: 0.9913\n",
      "Epoch 35/100\n",
      "23/23 [==============================] - 7s 284ms/step - loss: 0.0086 - accuracy: 0.9976 - val_loss: 0.0331 - val_accuracy: 0.9914\n",
      "Epoch 36/100\n",
      "23/23 [==============================] - 7s 287ms/step - loss: 0.0089 - accuracy: 0.9976 - val_loss: 0.0334 - val_accuracy: 0.9916\n",
      "Epoch 37/100\n",
      "23/23 [==============================] - 7s 291ms/step - loss: 0.0089 - accuracy: 0.9977 - val_loss: 0.0345 - val_accuracy: 0.9917\n",
      "Epoch 38/100\n",
      "23/23 [==============================] - 6s 280ms/step - loss: 0.0080 - accuracy: 0.9979 - val_loss: 0.0347 - val_accuracy: 0.9918\n",
      "Epoch 39/100\n",
      "23/23 [==============================] - 7s 288ms/step - loss: 0.0080 - accuracy: 0.9981 - val_loss: 0.0350 - val_accuracy: 0.9919\n",
      "Epoch 40/100\n",
      "23/23 [==============================] - 7s 298ms/step - loss: 0.0073 - accuracy: 0.9982 - val_loss: 0.0347 - val_accuracy: 0.9918\n",
      "Epoch 41/100\n",
      "23/23 [==============================] - 7s 288ms/step - loss: 0.0071 - accuracy: 0.9982 - val_loss: 0.0356 - val_accuracy: 0.9918\n",
      "Epoch 42/100\n",
      "23/23 [==============================] - 6s 284ms/step - loss: 0.0066 - accuracy: 0.9985 - val_loss: 0.0376 - val_accuracy: 0.9918\n",
      "Epoch 43/100\n",
      "23/23 [==============================] - 7s 287ms/step - loss: 0.0064 - accuracy: 0.9984 - val_loss: 0.0363 - val_accuracy: 0.9920\n",
      "Epoch 44/100\n",
      "23/23 [==============================] - 6s 283ms/step - loss: 0.0060 - accuracy: 0.9987 - val_loss: 0.0339 - val_accuracy: 0.9921\n",
      "Epoch 45/100\n",
      "23/23 [==============================] - 7s 286ms/step - loss: 0.0055 - accuracy: 0.9988 - val_loss: 0.0369 - val_accuracy: 0.9921\n",
      "Epoch 46/100\n",
      "23/23 [==============================] - 7s 288ms/step - loss: 0.0055 - accuracy: 0.9987 - val_loss: 0.0362 - val_accuracy: 0.9919\n",
      "Epoch 47/100\n",
      "23/23 [==============================] - 7s 285ms/step - loss: 0.0052 - accuracy: 0.9989 - val_loss: 0.0357 - val_accuracy: 0.9922\n",
      "Epoch 48/100\n",
      "23/23 [==============================] - 6s 276ms/step - loss: 0.0055 - accuracy: 0.9987 - val_loss: 0.0362 - val_accuracy: 0.9921\n",
      "Epoch 49/100\n",
      "23/23 [==============================] - 7s 288ms/step - loss: 0.0047 - accuracy: 0.9990 - val_loss: 0.0345 - val_accuracy: 0.9922\n",
      "Epoch 50/100\n",
      "23/23 [==============================] - 7s 297ms/step - loss: 0.0045 - accuracy: 0.9991 - val_loss: 0.0365 - val_accuracy: 0.9920\n",
      "Epoch 51/100\n",
      "23/23 [==============================] - 7s 284ms/step - loss: 0.0040 - accuracy: 0.9992 - val_loss: 0.0360 - val_accuracy: 0.9921\n",
      "Epoch 52/100\n",
      "23/23 [==============================] - 7s 292ms/step - loss: 0.0040 - accuracy: 0.9993 - val_loss: 0.0368 - val_accuracy: 0.9922\n",
      "Epoch 53/100\n",
      "23/23 [==============================] - 7s 286ms/step - loss: 0.0038 - accuracy: 0.9993 - val_loss: 0.0368 - val_accuracy: 0.9921\n",
      "Epoch 54/100\n",
      "23/23 [==============================] - 7s 288ms/step - loss: 0.0036 - accuracy: 0.9993 - val_loss: 0.0378 - val_accuracy: 0.9921\n",
      "Epoch 55/100\n",
      "23/23 [==============================] - 7s 285ms/step - loss: 0.0036 - accuracy: 0.9993 - val_loss: 0.0379 - val_accuracy: 0.9921\n",
      "Epoch 56/100\n",
      "23/23 [==============================] - 6s 284ms/step - loss: 0.0033 - accuracy: 0.9994 - val_loss: 0.0377 - val_accuracy: 0.9923\n",
      "Epoch 57/100\n",
      "23/23 [==============================] - 7s 292ms/step - loss: 0.0037 - accuracy: 0.9993 - val_loss: 0.0384 - val_accuracy: 0.9922\n"
     ]
    },
    {
     "name": "stdout",
     "output_type": "stream",
     "text": [
      "Epoch 58/100\n",
      "23/23 [==============================] - 6s 281ms/step - loss: 0.0031 - accuracy: 0.9994 - val_loss: 0.0375 - val_accuracy: 0.9922\n",
      "Epoch 59/100\n",
      "23/23 [==============================] - 7s 285ms/step - loss: 0.0032 - accuracy: 0.9994 - val_loss: 0.0363 - val_accuracy: 0.9923\n",
      "Epoch 60/100\n",
      "23/23 [==============================] - 7s 284ms/step - loss: 0.0028 - accuracy: 0.9994 - val_loss: 0.0387 - val_accuracy: 0.9922\n",
      "Epoch 61/100\n",
      "23/23 [==============================] - 6s 283ms/step - loss: 0.0032 - accuracy: 0.9993 - val_loss: 0.0387 - val_accuracy: 0.9922\n",
      "Epoch 62/100\n",
      "23/23 [==============================] - 7s 287ms/step - loss: 0.0030 - accuracy: 0.9994 - val_loss: 0.0357 - val_accuracy: 0.9923\n",
      "Epoch 63/100\n",
      "23/23 [==============================] - 7s 291ms/step - loss: 0.0025 - accuracy: 0.9995 - val_loss: 0.0370 - val_accuracy: 0.9923\n",
      "Epoch 64/100\n",
      "23/23 [==============================] - 6s 280ms/step - loss: 0.0026 - accuracy: 0.9995 - val_loss: 0.0374 - val_accuracy: 0.9924\n",
      "Epoch 65/100\n",
      "23/23 [==============================] - 7s 290ms/step - loss: 0.0024 - accuracy: 0.9995 - val_loss: 0.0412 - val_accuracy: 0.9922\n",
      "Epoch 66/100\n",
      "23/23 [==============================] - 7s 289ms/step - loss: 0.0022 - accuracy: 0.9996 - val_loss: 0.0390 - val_accuracy: 0.9922\n",
      "Epoch 67/100\n",
      "23/23 [==============================] - 6s 281ms/step - loss: 0.0021 - accuracy: 0.9996 - val_loss: 0.0376 - val_accuracy: 0.9923\n",
      "Epoch 68/100\n",
      "23/23 [==============================] - 7s 285ms/step - loss: 0.0019 - accuracy: 0.9997 - val_loss: 0.0387 - val_accuracy: 0.9924\n",
      "Epoch 69/100\n",
      "23/23 [==============================] - 7s 288ms/step - loss: 0.0022 - accuracy: 0.9995 - val_loss: 0.0377 - val_accuracy: 0.9923\n",
      "Epoch 70/100\n",
      "23/23 [==============================] - 7s 297ms/step - loss: 0.0017 - accuracy: 0.9997 - val_loss: 0.0384 - val_accuracy: 0.9923\n",
      "Epoch 71/100\n",
      "23/23 [==============================] - 6s 281ms/step - loss: 0.0018 - accuracy: 0.9997 - val_loss: 0.0401 - val_accuracy: 0.9923\n",
      "Epoch 72/100\n",
      "23/23 [==============================] - 7s 295ms/step - loss: 0.0017 - accuracy: 0.9997 - val_loss: 0.0376 - val_accuracy: 0.9923\n",
      "Epoch 73/100\n",
      "23/23 [==============================] - 7s 288ms/step - loss: 0.0016 - accuracy: 0.9997 - val_loss: 0.0390 - val_accuracy: 0.9923\n",
      "Epoch 74/100\n",
      "23/23 [==============================] - 7s 284ms/step - loss: 0.0017 - accuracy: 0.9997 - val_loss: 0.0417 - val_accuracy: 0.9923\n",
      "Epoch 75/100\n",
      "23/23 [==============================] - 7s 296ms/step - loss: 0.0017 - accuracy: 0.9997 - val_loss: 0.0414 - val_accuracy: 0.9921\n",
      "Epoch 76/100\n",
      "23/23 [==============================] - 7s 287ms/step - loss: 0.0014 - accuracy: 0.9998 - val_loss: 0.0383 - val_accuracy: 0.9923\n",
      "Epoch 77/100\n",
      "23/23 [==============================] - 6s 279ms/step - loss: 0.0015 - accuracy: 0.9997 - val_loss: 0.0385 - val_accuracy: 0.9924\n",
      "Epoch 78/100\n",
      "23/23 [==============================] - 7s 288ms/step - loss: 0.0015 - accuracy: 0.9998 - val_loss: 0.0405 - val_accuracy: 0.9922\n",
      "Epoch 79/100\n",
      "23/23 [==============================] - 7s 294ms/step - loss: 0.0013 - accuracy: 0.9998 - val_loss: 0.0413 - val_accuracy: 0.9922\n",
      "Epoch 80/100\n",
      "23/23 [==============================] - 7s 285ms/step - loss: 0.0012 - accuracy: 0.9998 - val_loss: 0.0436 - val_accuracy: 0.9922\n",
      "Epoch 81/100\n",
      "23/23 [==============================] - 6s 285ms/step - loss: 0.0014 - accuracy: 0.9998 - val_loss: 0.0405 - val_accuracy: 0.9924\n",
      "Epoch 82/100\n",
      "23/23 [==============================] - 7s 288ms/step - loss: 0.0017 - accuracy: 0.9996 - val_loss: 0.0417 - val_accuracy: 0.9923\n",
      "Epoch 83/100\n",
      "23/23 [==============================] - 7s 288ms/step - loss: 0.0012 - accuracy: 0.9998 - val_loss: 0.0406 - val_accuracy: 0.9924\n",
      "Epoch 84/100\n",
      "23/23 [==============================] - 6s 279ms/step - loss: 0.0013 - accuracy: 0.9998 - val_loss: 0.0418 - val_accuracy: 0.9923\n",
      "Epoch 85/100\n",
      "23/23 [==============================] - 7s 293ms/step - loss: 0.0011 - accuracy: 0.9998 - val_loss: 0.0408 - val_accuracy: 0.9923\n",
      "Epoch 86/100\n",
      "23/23 [==============================] - 7s 289ms/step - loss: 0.0010 - accuracy: 0.9998 - val_loss: 0.0421 - val_accuracy: 0.9925\n",
      "Epoch 87/100\n",
      "23/23 [==============================] - 7s 284ms/step - loss: 9.3296e-04 - accuracy: 0.9999 - val_loss: 0.0431 - val_accuracy: 0.9923\n",
      "Epoch 88/100\n",
      "23/23 [==============================] - 7s 293ms/step - loss: 9.6103e-04 - accuracy: 0.9998 - val_loss: 0.0410 - val_accuracy: 0.9923\n",
      "Epoch 89/100\n",
      "23/23 [==============================] - 7s 289ms/step - loss: 9.4505e-04 - accuracy: 0.9999 - val_loss: 0.0424 - val_accuracy: 0.9925\n",
      "Epoch 90/100\n",
      "23/23 [==============================] - 6s 283ms/step - loss: 0.0011 - accuracy: 0.9998 - val_loss: 0.0441 - val_accuracy: 0.9924\n",
      "Epoch 91/100\n",
      "23/23 [==============================] - 7s 291ms/step - loss: 0.0012 - accuracy: 0.9997 - val_loss: 0.0397 - val_accuracy: 0.9926\n",
      "Epoch 92/100\n",
      "23/23 [==============================] - 7s 291ms/step - loss: 9.9926e-04 - accuracy: 0.9998 - val_loss: 0.0409 - val_accuracy: 0.9924\n",
      "Epoch 93/100\n",
      "23/23 [==============================] - 6s 275ms/step - loss: 9.1908e-04 - accuracy: 0.9998 - val_loss: 0.0417 - val_accuracy: 0.9923\n",
      "Epoch 94/100\n",
      "23/23 [==============================] - 7s 293ms/step - loss: 9.6692e-04 - accuracy: 0.9998 - val_loss: 0.0423 - val_accuracy: 0.9923\n",
      "Epoch 95/100\n",
      "23/23 [==============================] - 7s 293ms/step - loss: 8.4628e-04 - accuracy: 0.9998 - val_loss: 0.0415 - val_accuracy: 0.9925\n",
      "Epoch 96/100\n",
      "23/23 [==============================] - 6s 283ms/step - loss: 8.8275e-04 - accuracy: 0.9998 - val_loss: 0.0403 - val_accuracy: 0.9925\n",
      "Epoch 97/100\n",
      "23/23 [==============================] - 7s 290ms/step - loss: 8.6096e-04 - accuracy: 0.9998 - val_loss: 0.0432 - val_accuracy: 0.9923\n",
      "Epoch 98/100\n",
      "23/23 [==============================] - 7s 294ms/step - loss: 9.6562e-04 - accuracy: 0.9998 - val_loss: 0.0426 - val_accuracy: 0.9924\n",
      "Epoch 99/100\n",
      "23/23 [==============================] - 7s 286ms/step - loss: 6.8923e-04 - accuracy: 0.9999 - val_loss: 0.0431 - val_accuracy: 0.9925\n",
      "Epoch 100/100\n",
      "23/23 [==============================] - 7s 300ms/step - loss: 7.6184e-04 - accuracy: 0.9999 - val_loss: 0.0420 - val_accuracy: 0.9924\n"
     ]
    }
   ],
   "source": [
    "history = model.fit(x_train, np.array(y_train), batch_size=32, epochs=100, validation_split=0.2, verbose=1)"
   ]
  },
  {
   "cell_type": "markdown",
   "metadata": {
    "id": "HaYGOT7Sv_RF"
   },
   "source": [
    "### <span style=\"color:#FF00FF\">Model Evaluation</span>"
   ]
  },
  {
   "cell_type": "code",
   "execution_count": 15,
   "metadata": {
    "colab": {
     "base_uri": "https://localhost:8080/"
    },
    "id": "vmE8EHqbxcE0",
    "outputId": "6b81f6d1-609b-4c9b-deda-4963093dd465"
   },
   "outputs": [
    {
     "name": "stdout",
     "output_type": "stream",
     "text": [
      "Predicted Probabilities on Test Set:\n",
      " (229, 690, 7)\n",
      "Predicted tag indices: \n",
      " (229, 690)\n"
     ]
    }
   ],
   "source": [
    "# Predicting on trained model\n",
    "pred = model.predict(x_test)\n",
    "print(\"Predicted Probabilities on Test Set:\\n\",pred.shape)\n",
    "# taking tag class with maximum probability\n",
    "pred_index = np.argmax(pred, axis=-1)\n",
    "print(\"Predicted tag indices: \\n\",pred_index.shape)\n",
    "\n",
    "# Flatten both the features and predicted tags for submission\n",
    "ids,tagids = x_test.flatten().tolist(), pred_index.flatten().tolist()\n",
    "\n",
    "# converting each word indices back to words\n",
    "words_test = [words[ind] for ind in ids]\n",
    "# converting each predicted tag indices back to tags\n",
    "tags_test = [[tags[ind]] for ind in tagids]\n",
    "tags_test1 = [tags[ind] for ind in tagids]"
   ]
  },
  {
   "cell_type": "code",
   "execution_count": 16,
   "metadata": {
    "id": "-jJClLdavTng"
   },
   "outputs": [],
   "source": [
    "actual_index = np.argmax(y_test, axis=-1)\n",
    "actual_ids = actual_index.flatten().tolist()\n",
    "actual_test = [[tags[ind]] for ind in actual_ids]"
   ]
  },
  {
   "cell_type": "code",
   "execution_count": 17,
   "metadata": {
    "id": "-i7PXC48w7J7"
   },
   "outputs": [],
   "source": [
    "accuracy = model.evaluate(x_test, np.array(y_test),verbose=0)[1]\n",
    "f1score  = f1_score(actual_test, tags_test)\n",
    "precision = precision_score(actual_test, tags_test)\n",
    "recall = recall_score(actual_test, tags_test)"
   ]
  },
  {
   "cell_type": "code",
   "execution_count": 18,
   "metadata": {
    "colab": {
     "base_uri": "https://localhost:8080/"
    },
    "id": "LBHhHcqE3YUD",
    "outputId": "61aedfd7-08b8-47cf-911e-27b1e8f7cbd1"
   },
   "outputs": [
    {
     "name": "stdout",
     "output_type": "stream",
     "text": [
      "{'F1-score': 0.7067043753119281, 'Accuracy': 0.9891146421432495, 'Precision': 0.7139495798319327, 'Recall': 0.6996047430830039}\n"
     ]
    }
   ],
   "source": [
    "LSTM_metrics = {\n",
    "    \"F1-score\" : f1score,\n",
    "    \"Accuracy\" : accuracy,\n",
    "    \"Precision\" : precision,\n",
    "    \"Recall\" : recall\n",
    "}\n",
    "print(LSTM_metrics)"
   ]
  },
  {
   "cell_type": "markdown",
   "metadata": {
    "id": "RDxBdSOnv_RG"
   },
   "source": [
    "### <span style=\"color:#FF00FF\">Classification report</span>"
   ]
  },
  {
   "cell_type": "code",
   "execution_count": 19,
   "metadata": {
    "colab": {
     "base_uri": "https://localhost:8080/"
    },
    "id": "5xF76lEmyZ6j",
    "outputId": "e6c0e7cc-8cef-4171-91db-35b37eba3b33"
   },
   "outputs": [
    {
     "name": "stdout",
     "output_type": "stream",
     "text": [
      "              precision    recall  f1-score   support\n",
      "\n",
      "        DEPT     0.6743    0.6418    0.6577       684\n",
      "        ROLE     0.6815    0.6852    0.6833       559\n",
      "       SKILL     0.7389    0.7262    0.7325      1793\n",
      "\n",
      "   micro avg     0.7139    0.6996    0.7067      3036\n",
      "   macro avg     0.6983    0.6844    0.6912      3036\n",
      "weighted avg     0.7138    0.6996    0.7066      3036\n",
      "\n"
     ]
    }
   ],
   "source": [
    "class_report = classification_report(actual_test, tags_test, digits=4)\n",
    "print(class_report)"
   ]
  },
  {
   "cell_type": "code",
   "execution_count": 20,
   "metadata": {
    "colab": {
     "base_uri": "https://localhost:8080/"
    },
    "id": "Gq_Aep3l1-7e",
    "outputId": "54359694-c32c-42a2-fa99-d971cc492a13"
   },
   "outputs": [
    {
     "data": {
      "text/plain": [
       "O          155035\n",
       "I-SKILL      1416\n",
       "I-DEPT        529\n",
       "I-ROLE        419\n",
       "B-SKILL       346\n",
       "B-ROLE        143\n",
       "B-DEPT        122\n",
       "dtype: int64"
      ]
     },
     "execution_count": 20,
     "metadata": {},
     "output_type": "execute_result"
    }
   ],
   "source": [
    "pd.Series(tags_test1).value_counts()"
   ]
  },
  {
   "cell_type": "markdown",
   "metadata": {
    "id": "qaCZBuSGQfvO"
   },
   "source": [
    "### <span style=\"color:#FF00FF\">Predict on new JD</span>"
   ]
  },
  {
   "cell_type": "code",
   "execution_count": 21,
   "metadata": {
    "colab": {
     "base_uri": "https://localhost:8080/"
    },
    "id": "QHWNkKreYShA",
    "outputId": "24c35a9c-ec1d-4815-f2b5-91d54d45ce1c"
   },
   "outputs": [
    {
     "name": "stdout",
     "output_type": "stream",
     "text": [
      "Word           ||Prediction\n",
      "==============================\n",
      "information    : B-DEPT\n",
      "technology     : I-DEPT\n"
     ]
    }
   ],
   "source": [
    "test_sentence = \"information technology\"\n",
    "\n",
    "test_sentence = test_sentence.split()\n",
    "\n",
    "x_test_sent = pad_sequences(sequences=[[word2idx.get(w, 0) for w in test_sentence]],\n",
    "                            padding=\"post\", value=tag2idx[\"O\"], maxlen=max_len)\n",
    "\n",
    "\n",
    "p = model.predict(np.array([x_test_sent[0]]))\n",
    "p = np.argmax(p, axis=-1)\n",
    "print(\"{:15}||{}\".format(\"Word\", \"Prediction\"))\n",
    "print(30 * \"=\")\n",
    "for w, pred in zip(test_sentence, p[0]):\n",
    "    print(\"{:15}: {:5}\".format(w, tags[pred]))"
   ]
  },
  {
   "cell_type": "markdown",
   "metadata": {
    "id": "P8tU1nV_v_RI"
   },
   "source": [
    "### <span style=\"color:#FF00FF\">Save Model and Supporting Objects</span>"
   ]
  },
  {
   "cell_type": "code",
   "execution_count": 22,
   "metadata": {},
   "outputs": [],
   "source": [
    "model.save('../models/LSTMmodel.h5')"
   ]
  },
  {
   "cell_type": "code",
   "execution_count": 25,
   "metadata": {
    "id": "tgl7pvWrdklQ"
   },
   "outputs": [],
   "source": [
    "LSTM_objects = {\n",
    "    \"lstm_word2idx\" : word2idx,\n",
    "    \"lstm_tags\"     : tags,\n",
    "    \"lstm_max_len\"  : max_len,\n",
    "    \"lstm_metrics\"  : LSTM_metrics\n",
    "}\n",
    "pickle_out = open( \"../models/LSTM_objects.pkl\", \"wb\" )\n",
    "pickle.dump(LSTM_objects, pickle_out)"
   ]
  },
  {
   "cell_type": "markdown",
   "metadata": {
    "id": "HuqMyA_Kv_RJ"
   },
   "source": [
    "### <span style=\"color:#FF00FF\">Load Model and Test</span>"
   ]
  },
  {
   "cell_type": "code",
   "execution_count": 26,
   "metadata": {
    "id": "eICO7YSuf8qo"
   },
   "outputs": [],
   "source": [
    "pickle_in = open(\"../models/LSTM_objects.pkl\", \"rb\" )\n",
    "LSTM_obj = pickle.load(pickle_in)\n",
    "\n",
    "model_path = \"../models/LSTMmodel.h5\"\n",
    "LSTM_model = load_model(model_path)"
   ]
  },
  {
   "cell_type": "code",
   "execution_count": 27,
   "metadata": {
    "colab": {
     "base_uri": "https://localhost:8080/"
    },
    "id": "Zc6vr0qlimYp",
    "outputId": "b529d172-a43c-4d44-be5d-2bf29ed05eb1"
   },
   "outputs": [
    {
     "name": "stdout",
     "output_type": "stream",
     "text": [
      "Word           ||Prediction\n",
      "==============================\n",
      "java           : I-SKILL\n"
     ]
    }
   ],
   "source": [
    "\n",
    "test_sentence = \"java\"\n",
    "test_sentence = test_sentence.split()\n",
    "\n",
    "x_test_sent = pad_sequences(sequences=[[LSTM_obj.get(\"lstm_word2idx\").get(w, 0) for w in test_sentence]],\n",
    "                            padding=\"post\", value=tag2idx[\"O\"], maxlen=LSTM_obj.get(\"lstm_max_len\"))\n",
    "\n",
    "p = LSTM_model.predict(np.array([x_test_sent[0]]))\n",
    "p = np.argmax(p, axis=-1)\n",
    "print(\"{:15}||{}\".format(\"Word\", \"Prediction\"))\n",
    "print(30 * \"=\")\n",
    "for w, pred in zip(test_sentence, p[0]):\n",
    "    print(\"{:15}: {:5}\".format(w, tags[pred]))"
   ]
  },
  {
   "cell_type": "code",
   "execution_count": null,
   "metadata": {},
   "outputs": [],
   "source": []
  }
 ],
 "metadata": {
  "accelerator": "GPU",
  "colab": {
   "collapsed_sections": [],
   "name": "LSTM_NER_Final.ipynb",
   "provenance": []
  },
  "kernelspec": {
   "display_name": "Python 3",
   "language": "python",
   "name": "python3"
  },
  "language_info": {
   "codemirror_mode": {
    "name": "ipython",
    "version": 3
   },
   "file_extension": ".py",
   "mimetype": "text/x-python",
   "name": "python",
   "nbconvert_exporter": "python",
   "pygments_lexer": "ipython3",
   "version": "3.8.5"
  }
 },
 "nbformat": 4,
 "nbformat_minor": 1
}
