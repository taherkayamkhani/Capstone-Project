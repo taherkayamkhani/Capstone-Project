{
 "cells": [
  {
   "cell_type": "markdown",
   "metadata": {
    "id": "_RxlpXM1v_Qz"
   },
   "source": [
    "### <span style=\"color:#800000\">NER Tagging</span>"
   ]
  },
  {
   "cell_type": "markdown",
   "metadata": {},
   "source": [
    "### <span style=\"color:#FF00FF\">Import libraries</span>"
   ]
  },
  {
   "cell_type": "code",
   "execution_count": 1,
   "metadata": {},
   "outputs": [],
   "source": [
    "import pandas as pd\n",
    "import re\n",
    "\n",
    "from nltk.tokenize import word_tokenize \n",
    "from sklearn.feature_extraction.text import CountVectorizer\n",
    "\n",
    "import spacy\n",
    "from spacy.training import offsets_to_biluo_tags\n",
    "\n",
    "pd.set_option('display.max_colwidth', 500)"
   ]
  },
  {
   "cell_type": "markdown",
   "metadata": {},
   "source": [
    "### <span style=\"color:#FF00FF\">Loading Datasets</span>"
   ]
  },
  {
   "cell_type": "code",
   "execution_count": 2,
   "metadata": {},
   "outputs": [
    {
     "data": {
      "text/html": [
       "<div>\n",
       "<style scoped>\n",
       "    .dataframe tbody tr th:only-of-type {\n",
       "        vertical-align: middle;\n",
       "    }\n",
       "\n",
       "    .dataframe tbody tr th {\n",
       "        vertical-align: top;\n",
       "    }\n",
       "\n",
       "    .dataframe thead th {\n",
       "        text-align: right;\n",
       "    }\n",
       "</style>\n",
       "<table border=\"1\" class=\"dataframe\">\n",
       "  <thead>\n",
       "    <tr style=\"text-align: right;\">\n",
       "      <th></th>\n",
       "      <th>domain</th>\n",
       "      <th>link</th>\n",
       "      <th>title</th>\n",
       "      <th>company</th>\n",
       "      <th>experience</th>\n",
       "      <th>salary</th>\n",
       "      <th>location</th>\n",
       "      <th>description</th>\n",
       "      <th>role</th>\n",
       "      <th>industry_type</th>\n",
       "      <th>qualification</th>\n",
       "      <th>functional_area</th>\n",
       "      <th>employment_type</th>\n",
       "      <th>role_category</th>\n",
       "      <th>skills</th>\n",
       "      <th>clean_description</th>\n",
       "    </tr>\n",
       "  </thead>\n",
       "  <tbody>\n",
       "    <tr>\n",
       "      <th>0</th>\n",
       "      <td>information-technology-jobs</td>\n",
       "      <td>https://www.naukri.com/job-listings-head-information-technology-bright-consultant-delhi-ncr-15-to-25-years-150321905374?src=jobsearchDesk&amp;sid=16164857916548527&amp;xp=1&amp;px=1</td>\n",
       "      <td>Head - Information Technology</td>\n",
       "      <td>Bright Consultant</td>\n",
       "      <td>15 - 25 years</td>\n",
       "      <td>Not Disclosed</td>\n",
       "      <td>Delhi / NCR</td>\n",
       "      <td>: - manage all it verticals of the company like it applications, infrastructure and security. - leverage it shared service organization for deployment of new it solutions - develop organization level it strategies in an as-is &amp; to-be scenario and align to the business objectives in a cost-efficient manner - analyse existing it infrastructure and areas of improvements around hardware, operating system, communications, software applications, data processing, security system and implementing t...</td>\n",
       "      <td>Head/VP/GM-Technology(IT)/CTO,</td>\n",
       "      <td>Industrial Products, Heavy Machinery,</td>\n",
       "      <td>['UG :Any Graduate in Any Specialization', 'PG :Any Postgraduate in Any Specialization', 'Doctorate :Doctorate Not Required']</td>\n",
       "      <td>IT Software - Network Administration, Security,</td>\n",
       "      <td>Full Time, Permanent</td>\n",
       "      <td>Senior Management</td>\n",
       "      <td>['Network Security', 'Information Security', 'Chief Information Security Officer', 'IT Security']</td>\n",
       "      <td>manage verticals company like applications infrastructure security leverage shared service organization deployment new solutions develop organization level strategies scenario align business objectives cost efficient manner analyse existing infrastructure areas improvements around hardware operating system communications software applications data processing security system implementing develop implement overall security ensure utmost protection privacy organization information data identify...</td>\n",
       "    </tr>\n",
       "    <tr>\n",
       "      <th>1</th>\n",
       "      <td>information-technology-jobs</td>\n",
       "      <td>https://www.naukri.com/job-listings-urgent-opening-sr-executive-it-information-technology-ahmedabad-ecom-express-private-limited-ahmedabad-4-to-9-years-110321003742?src=jobsearchDesk&amp;sid=16164857916548527&amp;xp=2&amp;px=1</td>\n",
       "      <td>Urgent Opening - Sr. Executive- IT (information Technology) -Ahmedabad</td>\n",
       "      <td>Ecom Express Private Limited</td>\n",
       "      <td>4 - 9 years</td>\n",
       "      <td>₹ 2,50,000 - 4,50,000 P.A.</td>\n",
       "      <td>Ahmedabad</td>\n",
       "      <td>hi, greetings from ecom express pvt ltd!!! we have an urgent opening for the post of sr. executive-it - ahmedabad  job brief: ensure efficient operations of local area networks (lans) and wide area networks (wans). 1. provide user support &amp; troubleshooting for seamless work 2. ensure efficient erp administration (user creation/deletion/modification/pod digitalization. 3. ensure proper e-mail administration (user creation/deletion/modification) 4. provide technical support (mobile app first m...</td>\n",
       "      <td>IT/Networking-Manager,</td>\n",
       "      <td>Courier, Transportation, Freight , Warehousing,</td>\n",
       "      <td>['UG :Any Graduate in Any Specialization']</td>\n",
       "      <td>IT Software - Application Programming, Maintenance,</td>\n",
       "      <td>Full Time, Permanent</td>\n",
       "      <td>Admin/Maintenance/Security/Datawarehousing</td>\n",
       "      <td>['LAN Troubleshooting', 'Hardware Networking', 'Networking', 'WAN', 'System Administration', 'Windows Troubleshooting', 'Information System', 'Desktop Support', 'Computer Hardware', 'Desktop Engineering', 'LAN', 'Network Administration', 'Information Technology', 'Windows System Administration']</td>\n",
       "      <td>hi greetings ecom express pvt ltd urgent opening post sr executive ahmedabad job brief ensure efficient operations local area networks lans wide area networks wans 1 provide user support troubleshooting seamless work 2 ensure efficient erp administration user creation deletion modification pod digitalization 3 ensure proper e mail administration user creation deletion modification 4 provide technical support mobile app first miles last mile deployment troubleshooting attendance machine monit...</td>\n",
       "    </tr>\n",
       "    <tr>\n",
       "      <th>2</th>\n",
       "      <td>information-technology-jobs</td>\n",
       "      <td>https://www.naukri.com/job-listings-information-technology-it-business-solutions-manager-procter-gamble-mumbai-8-to-10-years-160321901115?src=jobsearchDesk&amp;sid=16164857916548527&amp;xp=3&amp;px=1</td>\n",
       "      <td>Information Technology (IT) &amp; Business Solutions Manager</td>\n",
       "      <td>Procter &amp; Gamble</td>\n",
       "      <td>8 - 10 years</td>\n",
       "      <td>Not Disclosed</td>\n",
       "      <td>Mumbai</td>\n",
       "      <td>do  you want to join our team of women and men it professionals who apply  their skills to bring groundbreaking, technology-based capabilities and  business models to life? have you been looking to use and grow both your  it and business skills? whether your role is to build a  solution, craft an it innovation strategy for a business, cyber-protect  our critical information systems and assets, or implement a project with  a strategic supplier in our state of the art shared services  organi...</td>\n",
       "      <td>Project Manager-IT/Software,</td>\n",
       "      <td>FMCG, Foods, Beverage,</td>\n",
       "      <td>['UG :BCA in Computers, B.Tech/B.E. in Computers, B.Sc in Computers', 'PG :M.Tech in Computers, MS/M.Sc(Science) in Computers, MCA in Computers']</td>\n",
       "      <td>IT Software - Application Programming, Maintenance,</td>\n",
       "      <td>Full Time, Permanent</td>\n",
       "      <td>Project Management</td>\n",
       "      <td>['Application Development', 'Agile Project Management', 'Business Modeling', 'quality assurance', 'CI/CD', 'Solution Development', 'Application Development Framework', 'IT  Solution Manager', 'Release Management']</td>\n",
       "      <td>want join team women men professionals apply skills bring groundbreaking technology based capabilities business models life looking use grow business skills whether role build solution craft innovation strategy business cyber protect critical information systems assets implement project strategic supplier state art shared services organization real passion technology business application recognized rewarded deliver help p g reach succeed consumers world products improve lives technology inno...</td>\n",
       "    </tr>\n",
       "    <tr>\n",
       "      <th>3</th>\n",
       "      <td>information-technology-jobs</td>\n",
       "      <td>https://www.naukri.com/job-listings-senior-solution-manager-information-technology-procter-gamble-mumbai-8-to-12-years-100321902159?src=jobsearchDesk&amp;sid=16164857916548527&amp;xp=4&amp;px=1</td>\n",
       "      <td>Senior Solution Manager - Information Technology</td>\n",
       "      <td>Procter &amp; Gamble</td>\n",
       "      <td>8 - 12 years</td>\n",
       "      <td>Not Disclosed</td>\n",
       "      <td>Mumbai</td>\n",
       "      <td>solutions manager leads product roadmap, creates requirement pipeline, owns solution development with quality assurance and release management processes. solution manager drives strategic business outcome with innovative solution by leveraging digital capabilities. solution manager should have a good understanding of the business requirements and may consult with clients about their specific needs prior to developing. solution manager is expected to continuously assess the solutions to ...</td>\n",
       "      <td>IT/Networking-Manager,</td>\n",
       "      <td>FMCG, Foods, Beverage,</td>\n",
       "      <td>['UG :Any Graduate in Any Specialization', 'PG :Any Postgraduate in Any Specialization', 'Doctorate :Doctorate Not Required']</td>\n",
       "      <td>IT Software - Application Programming, Maintenance,</td>\n",
       "      <td>Full Time, Permanent</td>\n",
       "      <td>Admin/Maintenance/Security/Datawarehousing</td>\n",
       "      <td>['Agile Methodology', 'Fund Management', 'Product Design', 'User Stories', 'Solution Development', 'Information Management', 'Management Systems', 'Quality Assurance', 'Release Management']</td>\n",
       "      <td>solutions manager leads product roadmap creates requirement pipeline owns solution development quality assurance release management processes solution manager drives strategic business outcome innovative solution leveraging digital capabilities solution manager good understanding business requirements may consult clients specific needs prior developing solution manager expected continuously assess solutions determine effective develop new strategies improve product process solutions manager ...</td>\n",
       "    </tr>\n",
       "    <tr>\n",
       "      <th>4</th>\n",
       "      <td>information-technology-jobs</td>\n",
       "      <td>https://www.naukri.com/job-listings-information-technology-stefanini-noida-12-to-22-years-180321500237?src=jobsearchDesk&amp;sid=16164857916548527&amp;xp=5&amp;px=1</td>\n",
       "      <td>Information Technology</td>\n",
       "      <td>Stefanini</td>\n",
       "      <td>12 - 22 years</td>\n",
       "      <td>Not Disclosed</td>\n",
       "      <td>Noida</td>\n",
       "      <td>we are looking for someone who is passionate about emerging technologies and creating virtualization and storage solutions to architect and build advanced solutions in within practice and varied customer environments. you will be required to work with smes, our clients and presales and operations team, ensuring that we delivers innovative solutions for practices and outstanding implementation for clients.            job requirements          details:                            build and e...</td>\n",
       "      <td>System Administrator,</td>\n",
       "      <td>Recruitment, Staffing,</td>\n",
       "      <td>['UG :Any Graduate in Any Specialization', 'PG :Post Graduation Not Required']</td>\n",
       "      <td>IT Software - Application Programming, Maintenance,</td>\n",
       "      <td>Full Time, Permanent</td>\n",
       "      <td>Admin/Maintenance/Security/Datawarehousing</td>\n",
       "      <td>['SAN', 'Automation', 'Debugging', 'NetBackup', 'Web hosting', 'EMC', 'Load balancing', 'Information technology', 'Virtualization', 'Capacity planning']</td>\n",
       "      <td>looking someone passionate emerging technologies creating virtualization storage solutions architect build advanced solutions within practice varied customer environments required work smes clients presales operations team ensuring delivers innovative solutions practices outstanding implementation clients job requirements details build enhance virtualization solution different cloud technology establish solution sizing implementation lab ongoing support model detail project plan supporting p...</td>\n",
       "    </tr>\n",
       "  </tbody>\n",
       "</table>\n",
       "</div>"
      ],
      "text/plain": [
       "                        domain  \\\n",
       "0  information-technology-jobs   \n",
       "1  information-technology-jobs   \n",
       "2  information-technology-jobs   \n",
       "3  information-technology-jobs   \n",
       "4  information-technology-jobs   \n",
       "\n",
       "                                                                                                                                                                                                                     link  \\\n",
       "0                                               https://www.naukri.com/job-listings-head-information-technology-bright-consultant-delhi-ncr-15-to-25-years-150321905374?src=jobsearchDesk&sid=16164857916548527&xp=1&px=1   \n",
       "1  https://www.naukri.com/job-listings-urgent-opening-sr-executive-it-information-technology-ahmedabad-ecom-express-private-limited-ahmedabad-4-to-9-years-110321003742?src=jobsearchDesk&sid=16164857916548527&xp=2&px=1   \n",
       "2                             https://www.naukri.com/job-listings-information-technology-it-business-solutions-manager-procter-gamble-mumbai-8-to-10-years-160321901115?src=jobsearchDesk&sid=16164857916548527&xp=3&px=1   \n",
       "3                                   https://www.naukri.com/job-listings-senior-solution-manager-information-technology-procter-gamble-mumbai-8-to-12-years-100321902159?src=jobsearchDesk&sid=16164857916548527&xp=4&px=1   \n",
       "4                                                                https://www.naukri.com/job-listings-information-technology-stefanini-noida-12-to-22-years-180321500237?src=jobsearchDesk&sid=16164857916548527&xp=5&px=1   \n",
       "\n",
       "                                                                    title  \\\n",
       "0                                           Head - Information Technology   \n",
       "1  Urgent Opening - Sr. Executive- IT (information Technology) -Ahmedabad   \n",
       "2                Information Technology (IT) & Business Solutions Manager   \n",
       "3                        Senior Solution Manager - Information Technology   \n",
       "4                                                  Information Technology   \n",
       "\n",
       "                        company     experience                       salary  \\\n",
       "0             Bright Consultant  15 - 25 years                Not Disclosed   \n",
       "1  Ecom Express Private Limited    4 - 9 years  ₹ 2,50,000 - 4,50,000 P.A.    \n",
       "2              Procter & Gamble   8 - 10 years                Not Disclosed   \n",
       "3              Procter & Gamble   8 - 12 years                Not Disclosed   \n",
       "4                     Stefanini  12 - 22 years                Not Disclosed   \n",
       "\n",
       "      location  \\\n",
       "0  Delhi / NCR   \n",
       "1    Ahmedabad   \n",
       "2       Mumbai   \n",
       "3       Mumbai   \n",
       "4        Noida   \n",
       "\n",
       "                                                                                                                                                                                                                                                                                                                                                                                                                                                                                                           description  \\\n",
       "0   : - manage all it verticals of the company like it applications, infrastructure and security. - leverage it shared service organization for deployment of new it solutions - develop organization level it strategies in an as-is & to-be scenario and align to the business objectives in a cost-efficient manner - analyse existing it infrastructure and areas of improvements around hardware, operating system, communications, software applications, data processing, security system and implementing t...   \n",
       "1  hi, greetings from ecom express pvt ltd!!! we have an urgent opening for the post of sr. executive-it - ahmedabad  job brief: ensure efficient operations of local area networks (lans) and wide area networks (wans). 1. provide user support & troubleshooting for seamless work 2. ensure efficient erp administration (user creation/deletion/modification/pod digitalization. 3. ensure proper e-mail administration (user creation/deletion/modification) 4. provide technical support (mobile app first m...   \n",
       "2    do  you want to join our team of women and men it professionals who apply  their skills to bring groundbreaking, technology-based capabilities and  business models to life? have you been looking to use and grow both your  it and business skills? whether your role is to build a  solution, craft an it innovation strategy for a business, cyber-protect  our critical information systems and assets, or implement a project with  a strategic supplier in our state of the art shared services  organi...   \n",
       "3       solutions manager leads product roadmap, creates requirement pipeline, owns solution development with quality assurance and release management processes. solution manager drives strategic business outcome with innovative solution by leveraging digital capabilities. solution manager should have a good understanding of the business requirements and may consult with clients about their specific needs prior to developing. solution manager is expected to continuously assess the solutions to ...   \n",
       "4     we are looking for someone who is passionate about emerging technologies and creating virtualization and storage solutions to architect and build advanced solutions in within practice and varied customer environments. you will be required to work with smes, our clients and presales and operations team, ensuring that we delivers innovative solutions for practices and outstanding implementation for clients.            job requirements          details:                            build and e...   \n",
       "\n",
       "                             role  \\\n",
       "0  Head/VP/GM-Technology(IT)/CTO,   \n",
       "1          IT/Networking-Manager,   \n",
       "2    Project Manager-IT/Software,   \n",
       "3          IT/Networking-Manager,   \n",
       "4           System Administrator,   \n",
       "\n",
       "                                     industry_type  \\\n",
       "0            Industrial Products, Heavy Machinery,   \n",
       "1  Courier, Transportation, Freight , Warehousing,   \n",
       "2                           FMCG, Foods, Beverage,   \n",
       "3                           FMCG, Foods, Beverage,   \n",
       "4                           Recruitment, Staffing,   \n",
       "\n",
       "                                                                                                                                       qualification  \\\n",
       "0                      ['UG :Any Graduate in Any Specialization', 'PG :Any Postgraduate in Any Specialization', 'Doctorate :Doctorate Not Required']   \n",
       "1                                                                                                         ['UG :Any Graduate in Any Specialization']   \n",
       "2  ['UG :BCA in Computers, B.Tech/B.E. in Computers, B.Sc in Computers', 'PG :M.Tech in Computers, MS/M.Sc(Science) in Computers, MCA in Computers']   \n",
       "3                      ['UG :Any Graduate in Any Specialization', 'PG :Any Postgraduate in Any Specialization', 'Doctorate :Doctorate Not Required']   \n",
       "4                                                                     ['UG :Any Graduate in Any Specialization', 'PG :Post Graduation Not Required']   \n",
       "\n",
       "                                       functional_area       employment_type  \\\n",
       "0      IT Software - Network Administration, Security,  Full Time, Permanent   \n",
       "1  IT Software - Application Programming, Maintenance,  Full Time, Permanent   \n",
       "2  IT Software - Application Programming, Maintenance,  Full Time, Permanent   \n",
       "3  IT Software - Application Programming, Maintenance,  Full Time, Permanent   \n",
       "4  IT Software - Application Programming, Maintenance,  Full Time, Permanent   \n",
       "\n",
       "                                role_category  \\\n",
       "0                           Senior Management   \n",
       "1  Admin/Maintenance/Security/Datawarehousing   \n",
       "2                          Project Management   \n",
       "3  Admin/Maintenance/Security/Datawarehousing   \n",
       "4  Admin/Maintenance/Security/Datawarehousing   \n",
       "\n",
       "                                                                                                                                                                                                                                                                                                     skills  \\\n",
       "0                                                                                                                                                                                                         ['Network Security', 'Information Security', 'Chief Information Security Officer', 'IT Security']   \n",
       "1  ['LAN Troubleshooting', 'Hardware Networking', 'Networking', 'WAN', 'System Administration', 'Windows Troubleshooting', 'Information System', 'Desktop Support', 'Computer Hardware', 'Desktop Engineering', 'LAN', 'Network Administration', 'Information Technology', 'Windows System Administration']   \n",
       "2                                                                                     ['Application Development', 'Agile Project Management', 'Business Modeling', 'quality assurance', 'CI/CD', 'Solution Development', 'Application Development Framework', 'IT  Solution Manager', 'Release Management']   \n",
       "3                                                                                                             ['Agile Methodology', 'Fund Management', 'Product Design', 'User Stories', 'Solution Development', 'Information Management', 'Management Systems', 'Quality Assurance', 'Release Management']   \n",
       "4                                                                                                                                                  ['SAN', 'Automation', 'Debugging', 'NetBackup', 'Web hosting', 'EMC', 'Load balancing', 'Information technology', 'Virtualization', 'Capacity planning']   \n",
       "\n",
       "                                                                                                                                                                                                                                                                                                                                                                                                                                                                                                     clean_description  \n",
       "0  manage verticals company like applications infrastructure security leverage shared service organization deployment new solutions develop organization level strategies scenario align business objectives cost efficient manner analyse existing infrastructure areas improvements around hardware operating system communications software applications data processing security system implementing develop implement overall security ensure utmost protection privacy organization information data identify...  \n",
       "1  hi greetings ecom express pvt ltd urgent opening post sr executive ahmedabad job brief ensure efficient operations local area networks lans wide area networks wans 1 provide user support troubleshooting seamless work 2 ensure efficient erp administration user creation deletion modification pod digitalization 3 ensure proper e mail administration user creation deletion modification 4 provide technical support mobile app first miles last mile deployment troubleshooting attendance machine monit...  \n",
       "2  want join team women men professionals apply skills bring groundbreaking technology based capabilities business models life looking use grow business skills whether role build solution craft innovation strategy business cyber protect critical information systems assets implement project strategic supplier state art shared services organization real passion technology business application recognized rewarded deliver help p g reach succeed consumers world products improve lives technology inno...  \n",
       "3  solutions manager leads product roadmap creates requirement pipeline owns solution development quality assurance release management processes solution manager drives strategic business outcome innovative solution leveraging digital capabilities solution manager good understanding business requirements may consult clients specific needs prior developing solution manager expected continuously assess solutions determine effective develop new strategies improve product process solutions manager ...  \n",
       "4  looking someone passionate emerging technologies creating virtualization storage solutions architect build advanced solutions within practice varied customer environments required work smes clients presales operations team ensuring delivers innovative solutions practices outstanding implementation clients job requirements details build enhance virtualization solution different cloud technology establish solution sizing implementation lab ongoing support model detail project plan supporting p...  "
      ]
     },
     "execution_count": 2,
     "metadata": {},
     "output_type": "execute_result"
    }
   ],
   "source": [
    "# Reading data and creating the dataframe \n",
    "job = pd.read_csv(\"../data/jobdescriptions_clean.csv\")\n",
    "\n",
    "# Checking the first 5 rows of the data\n",
    "job.head()"
   ]
  },
  {
   "cell_type": "markdown",
   "metadata": {},
   "source": [
    "### <span style=\"color:#FF00FF\">Extracting Tags from Job Description</span>"
   ]
  },
  {
   "cell_type": "markdown",
   "metadata": {},
   "source": [
    "#### <span style=\"color:black\">Generating Ngrams (Unigrams & Bigrams) from a corpus</span>"
   ]
  },
  {
   "cell_type": "code",
   "execution_count": 3,
   "metadata": {},
   "outputs": [
    {
     "name": "stdout",
     "output_type": "stream",
     "text": [
      "(2612, 3)\n"
     ]
    },
    {
     "data": {
      "text/html": [
       "<div>\n",
       "<style scoped>\n",
       "    .dataframe tbody tr th:only-of-type {\n",
       "        vertical-align: middle;\n",
       "    }\n",
       "\n",
       "    .dataframe tbody tr th {\n",
       "        vertical-align: top;\n",
       "    }\n",
       "\n",
       "    .dataframe thead th {\n",
       "        text-align: right;\n",
       "    }\n",
       "</style>\n",
       "<table border=\"1\" class=\"dataframe\">\n",
       "  <thead>\n",
       "    <tr style=\"text-align: right;\">\n",
       "      <th></th>\n",
       "      <th>term</th>\n",
       "      <th>ngram</th>\n",
       "      <th>rank</th>\n",
       "    </tr>\n",
       "  </thead>\n",
       "  <tbody>\n",
       "    <tr>\n",
       "      <th>2234</th>\n",
       "      <td>sourcing</td>\n",
       "      <td>1</td>\n",
       "      <td>23</td>\n",
       "    </tr>\n",
       "    <tr>\n",
       "      <th>801</th>\n",
       "      <td>electrical electronic</td>\n",
       "      <td>2</td>\n",
       "      <td>27</td>\n",
       "    </tr>\n",
       "    <tr>\n",
       "      <th>2462</th>\n",
       "      <td>updates</td>\n",
       "      <td>1</td>\n",
       "      <td>22</td>\n",
       "    </tr>\n",
       "    <tr>\n",
       "      <th>336</th>\n",
       "      <td>built</td>\n",
       "      <td>1</td>\n",
       "      <td>20</td>\n",
       "    </tr>\n",
       "    <tr>\n",
       "      <th>1585</th>\n",
       "      <td>noida</td>\n",
       "      <td>1</td>\n",
       "      <td>16</td>\n",
       "    </tr>\n",
       "  </tbody>\n",
       "</table>\n",
       "</div>"
      ],
      "text/plain": [
       "                       term  ngram  rank\n",
       "2234               sourcing      1    23\n",
       "801   electrical electronic      2    27\n",
       "2462                updates      1    22\n",
       "336                   built      1    20\n",
       "1585                  noida      1    16"
      ]
     },
     "execution_count": 3,
     "metadata": {},
     "output_type": "execute_result"
    }
   ],
   "source": [
    "txt = job['clean_description'].to_numpy()\n",
    "vectorizer = CountVectorizer(ngram_range = (1,2),min_df=0.01)\n",
    "X = vectorizer.fit_transform(txt)  \n",
    "features = (vectorizer.get_feature_names()) \n",
    "\n",
    "# Getting top ranking features \n",
    "sums = X.sum(axis = 0) \n",
    "data = [] \n",
    "for col, term in enumerate(features): \n",
    "    c = sum([1 for t in word_tokenize(term)])\n",
    "    data.append( (term, c , sums[0,col])) \n",
    "ranking = pd.DataFrame(data, columns = ['term','ngram','rank']) \n",
    "words = (ranking.sort_values(['ngram','rank'], ascending = False)) \n",
    "\n",
    "print(words.shape)\n",
    "words.sample(n=5)"
   ]
  },
  {
   "cell_type": "code",
   "execution_count": 4,
   "metadata": {},
   "outputs": [],
   "source": [
    "words.to_csv('../data/alltags.csv',index=False)"
   ]
  },
  {
   "cell_type": "markdown",
   "metadata": {},
   "source": [
    "### <span style=\"color:#FF00FF\">Manual Tagging</span>"
   ]
  },
  {
   "cell_type": "markdown",
   "metadata": {},
   "source": [
    "#### <span style=\"color:black\">***Manually refine the tags and assign custom NER (SKILLS/ROLES/DEPT)</span>"
   ]
  },
  {
   "cell_type": "code",
   "execution_count": 5,
   "metadata": {},
   "outputs": [
    {
     "data": {
      "text/html": [
       "<div>\n",
       "<style scoped>\n",
       "    .dataframe tbody tr th:only-of-type {\n",
       "        vertical-align: middle;\n",
       "    }\n",
       "\n",
       "    .dataframe tbody tr th {\n",
       "        vertical-align: top;\n",
       "    }\n",
       "\n",
       "    .dataframe thead th {\n",
       "        text-align: right;\n",
       "    }\n",
       "</style>\n",
       "<table border=\"1\" class=\"dataframe\">\n",
       "  <thead>\n",
       "    <tr style=\"text-align: right;\">\n",
       "      <th></th>\n",
       "      <th>term</th>\n",
       "      <th>ngram</th>\n",
       "      <th>rank</th>\n",
       "      <th>tags</th>\n",
       "    </tr>\n",
       "  </thead>\n",
       "  <tbody>\n",
       "    <tr>\n",
       "      <th>0</th>\n",
       "      <td>computer science</td>\n",
       "      <td>2</td>\n",
       "      <td>149</td>\n",
       "      <td>DEPT</td>\n",
       "    </tr>\n",
       "    <tr>\n",
       "      <th>1</th>\n",
       "      <td>good communication</td>\n",
       "      <td>2</td>\n",
       "      <td>142</td>\n",
       "      <td>SKILL</td>\n",
       "    </tr>\n",
       "    <tr>\n",
       "      <th>2</th>\n",
       "      <td>problem solving</td>\n",
       "      <td>2</td>\n",
       "      <td>133</td>\n",
       "      <td>SKILL</td>\n",
       "    </tr>\n",
       "    <tr>\n",
       "      <th>3</th>\n",
       "      <td>software development</td>\n",
       "      <td>2</td>\n",
       "      <td>109</td>\n",
       "      <td>SKILL</td>\n",
       "    </tr>\n",
       "    <tr>\n",
       "      <th>4</th>\n",
       "      <td>information technology</td>\n",
       "      <td>2</td>\n",
       "      <td>99</td>\n",
       "      <td>DEPT</td>\n",
       "    </tr>\n",
       "  </tbody>\n",
       "</table>\n",
       "</div>"
      ],
      "text/plain": [
       "                     term  ngram  rank   tags\n",
       "0        computer science      2   149   DEPT\n",
       "1      good communication      2   142  SKILL\n",
       "2         problem solving      2   133  SKILL\n",
       "3    software development      2   109  SKILL\n",
       "4  information technology      2    99   DEPT"
      ]
     },
     "execution_count": 5,
     "metadata": {},
     "output_type": "execute_result"
    }
   ],
   "source": [
    "mtags = pd.read_csv('../data/manualtags.csv')\n",
    "mtags.head()"
   ]
  },
  {
   "cell_type": "markdown",
   "metadata": {},
   "source": [
    "### <span style=\"color:#FF00FF\">Auto Entity Mapping</span>"
   ]
  },
  {
   "cell_type": "code",
   "execution_count": 6,
   "metadata": {},
   "outputs": [],
   "source": [
    "def auto_tags(doc):\n",
    "    d = dict()\n",
    "    l = []\n",
    "    ws = []\n",
    "    st = []\n",
    "    for m in mtags.to_numpy():\n",
    "        w,t = m[0],m[3]\n",
    "        pattern=r'\\b'+w+'\\\\b'\n",
    "        for f in re.finditer(pattern, doc):\n",
    "            if w not in ws:                \n",
    "                ws.append(w)\n",
    "                count = len([i for i in st if (i[0] <= f.start() <= i[1]) or (i[0] <= f.end() <= i[1])]) \n",
    "                if count == 0:\n",
    "                    st.append((f.start(),f.end()))\n",
    "                    a = tuple([f.start(),f.end(),t.upper()])\n",
    "                    l.append(a)\n",
    "    d['entities'] = l\n",
    "    return d"
   ]
  },
  {
   "cell_type": "code",
   "execution_count": 7,
   "metadata": {},
   "outputs": [
    {
     "data": {
      "text/plain": [
       "{'entities': [(323, 331, 'DEPT'),\n",
       "  (30, 42, 'SKILL'),\n",
       "  (684, 688, 'ROLE'),\n",
       "  (535, 545, 'SKILL'),\n",
       "  (43, 57, 'DEPT'),\n",
       "  (104, 114, 'SKILL'),\n",
       "  (282, 290, 'DEPT'),\n",
       "  (766, 772, 'SKILL')]}"
      ]
     },
     "execution_count": 7,
     "metadata": {},
     "output_type": "execute_result"
    }
   ],
   "source": [
    "job['tags'] = job.apply(lambda x: auto_tags(x['clean_description']), axis=1)\n",
    "job['tags'][0]"
   ]
  },
  {
   "cell_type": "markdown",
   "metadata": {
    "id": "rJobcNdmv_Q9"
   },
   "source": [
    "### <span style=\"color:#FF00FF\">Data Preparation</span>"
   ]
  },
  {
   "cell_type": "code",
   "execution_count": 8,
   "metadata": {},
   "outputs": [],
   "source": [
    "def get_train_data(df):\n",
    "    tags = []\n",
    "    sentences = []\n",
    "    idx = []\n",
    "    \n",
    "    nlp=spacy.load(\"en_core_web_sm\") \n",
    "\n",
    "    for j in range(len(df)):\n",
    "        text = df['clean_description'][j]\n",
    "        entities = df['tags'][j]\n",
    "        \n",
    "        # convert dictionary string to dictionary\n",
    "        res = entities\n",
    "        entities =  res['entities']     \n",
    "        doc = nlp(text)\n",
    "        tag = offsets_to_biluo_tags(doc, entities,\"O\")\n",
    "        tmp = pd.DataFrame([list(doc), tag]).T\n",
    "        loc = []\n",
    "        for i in range(len(tmp)):\n",
    "            if tmp[0][i].text is '.' and tmp[1][i] is 'O':\n",
    "                loc.append(i)\n",
    "        loc.append(len(doc))\n",
    "    \n",
    "        last = 0\n",
    "        data = []\n",
    "        for pos in loc:\n",
    "            data.append([list(doc)[last:pos], tag[last:pos]])\n",
    "            last = pos\n",
    "    \n",
    "        for d in data:\n",
    "            tag = ['O' if t is '-' else t for t in d[1]]\n",
    "            if len(set(tag)) > 1:\n",
    "                sentences.append(d[0])\n",
    "                tags.append(tag)\n",
    "                idx.append(j)\n",
    "    return idx,sentences, tags"
   ]
  },
  {
   "cell_type": "code",
   "execution_count": 9,
   "metadata": {},
   "outputs": [],
   "source": [
    "idx,sentences, tags = get_train_data(job)\n",
    "bdf = {\"sentence_id\":idx,\"words\":sentences,\"labels\":tags}\n",
    "pdf = pd.DataFrame(bdf)\n",
    "pdf = pdf.set_index(['sentence_id']).apply(pd.Series.explode).reset_index()\n",
    "pdf = pdf.replace({'labels': [r'U-',r'L-']}, {'labels': 'I-'}, regex=True)"
   ]
  },
  {
   "cell_type": "markdown",
   "metadata": {
    "id": "rJobcNdmv_Q9"
   },
   "source": [
    "### <span style=\"color:#FF00FF\">Export Dataset</span>"
   ]
  },
  {
   "cell_type": "code",
   "execution_count": 10,
   "metadata": {},
   "outputs": [],
   "source": [
    "job.to_csv('../data/jobdescriptions_train.csv',index=False)\n",
    "pdf.to_csv(\"../data/jobdescriptions_input.csv\",index=False)"
   ]
  }
 ],
 "metadata": {
  "kernelspec": {
   "display_name": "Python 3",
   "language": "python",
   "name": "python3"
  },
  "language_info": {
   "codemirror_mode": {
    "name": "ipython",
    "version": 3
   },
   "file_extension": ".py",
   "mimetype": "text/x-python",
   "name": "python",
   "nbconvert_exporter": "python",
   "pygments_lexer": "ipython3",
   "version": "3.8.5"
  }
 },
 "nbformat": 4,
 "nbformat_minor": 2
}
