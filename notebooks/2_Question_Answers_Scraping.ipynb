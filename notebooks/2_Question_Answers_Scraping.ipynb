{
 "cells": [
  {
   "cell_type": "markdown",
   "metadata": {
    "id": "_RxlpXM1v_Qz"
   },
   "source": [
    "### <span style=\"color:#800000\">Web Scraping Question & Answers from Indeed</span>"
   ]
  },
  {
   "cell_type": "markdown",
   "metadata": {
    "id": "rJobcNdmv_Q9"
   },
   "source": [
    "### <span style=\"color:#FF00FF\">Import libraries</span>"
   ]
  },
  {
   "cell_type": "code",
   "execution_count": 1,
   "metadata": {},
   "outputs": [],
   "source": [
    "import pandas as pd \n",
    "import requests\n",
    "from bs4 import BeautifulSoup\n",
    "\n",
    "from tqdm.auto import tqdm\n",
    "\n",
    "pd.set_option('display.max_columns', 500)"
   ]
  },
  {
   "cell_type": "markdown",
   "metadata": {
    "id": "rJobcNdmv_Q9"
   },
   "source": [
    "### <span style=\"color:#FF00FF\">Extract Roles</span>"
   ]
  },
  {
   "cell_type": "code",
   "execution_count": 2,
   "metadata": {},
   "outputs": [],
   "source": [
    "BASE_URL = \"https://www.indeed.com\"\n",
    "SUB_URL = \"https://www.indeed.com/hire/interview-questions\"\n",
    "\n",
    "roles = []\n",
    "\n",
    "page = requests.get(SUB_URL)\n",
    "soup = BeautifulSoup(page.text, \"html.parser\")\n",
    "postlist = soup.find(name=\"div\", attrs={\"id\":\"jobDesListId\"})\n",
    "\n",
    "for i in postlist.find_all('a', href=True):\n",
    "    roles.append([i.text,BASE_URL+i['href']])\n",
    "    "
   ]
  },
  {
   "cell_type": "markdown",
   "metadata": {
    "id": "rJobcNdmv_Q9"
   },
   "source": [
    "### <span style=\"color:#FF00FF\">Extract Question & Answers</span>"
   ]
  },
  {
   "cell_type": "code",
   "execution_count": 3,
   "metadata": {},
   "outputs": [],
   "source": [
    "def get_questionanswers(url,domain):\n",
    "    qa = []\n",
    "    try: \n",
    "        page = requests.get(url)\n",
    "        soup = BeautifulSoup(page.text, \"html.parser\")\n",
    "\n",
    "        questions = soup.find_all(name=\"div\", attrs={\"class\":\"qa-question\"})\n",
    "        \n",
    "        for q in questions:\n",
    "            question = q.find([\"h1\", \"h2\", \"h3\"])\n",
    "            answer = q.find(name=\"div\", attrs={\"class\":\"qa-answer\"})\n",
    "\n",
    "            question =  question.text\n",
    "            answer  = answer.text\n",
    "            qa.append([domain,url,question,answer])\n",
    "    except:\n",
    "        print(url)\n",
    "\n",
    "    return qa"
   ]
  },
  {
   "cell_type": "code",
   "execution_count": 5,
   "metadata": {},
   "outputs": [
    {
     "data": {
      "application/vnd.jupyter.widget-view+json": {
       "model_id": "af1850f3e6aa4437868086060b0b400c",
       "version_major": 2,
       "version_minor": 0
      },
      "text/plain": [
       "HBox(children=(FloatProgress(value=0.0, max=489.0), HTML(value='')))"
      ]
     },
     "metadata": {},
     "output_type": "display_data"
    },
    {
     "name": "stdout",
     "output_type": "stream",
     "text": [
      "\n"
     ]
    }
   ],
   "source": [
    "qa = []\n",
    "for i in tqdm(roles):\n",
    "    domain = i[0]\n",
    "    url = i[1]\n",
    "    getqa = get_questionanswers(url,domain)\n",
    "    qa.extend(getqa)"
   ]
  },
  {
   "cell_type": "markdown",
   "metadata": {
    "id": "rJobcNdmv_Q9"
   },
   "source": [
    "### <span style=\"color:#FF00FF\">Convert Result to DataFrame</span>"
   ]
  },
  {
   "cell_type": "code",
   "execution_count": 6,
   "metadata": {},
   "outputs": [
    {
     "data": {
      "text/html": [
       "<div>\n",
       "<style scoped>\n",
       "    .dataframe tbody tr th:only-of-type {\n",
       "        vertical-align: middle;\n",
       "    }\n",
       "\n",
       "    .dataframe tbody tr th {\n",
       "        vertical-align: top;\n",
       "    }\n",
       "\n",
       "    .dataframe thead th {\n",
       "        text-align: right;\n",
       "    }\n",
       "</style>\n",
       "<table border=\"1\" class=\"dataframe\">\n",
       "  <thead>\n",
       "    <tr style=\"text-align: right;\">\n",
       "      <th></th>\n",
       "      <th>roles</th>\n",
       "      <th>url</th>\n",
       "      <th>questions</th>\n",
       "      <th>answers</th>\n",
       "    </tr>\n",
       "  </thead>\n",
       "  <tbody>\n",
       "    <tr>\n",
       "      <th>129</th>\n",
       "      <td>Art Director</td>\n",
       "      <td>https://www.indeed.com/hire/interview-question...</td>\n",
       "      <td>1. As someone with artistic talent, who is you...</td>\n",
       "      <td>\\nNot only is this question a fantastic icebre...</td>\n",
       "    </tr>\n",
       "    <tr>\n",
       "      <th>1983</th>\n",
       "      <td>Physical Therapy Assistant</td>\n",
       "      <td>https://www.indeed.com/hire/interview-question...</td>\n",
       "      <td>Do you have experience working with elderly pa...</td>\n",
       "      <td>\\nWith society's increasing life expectancy an...</td>\n",
       "    </tr>\n",
       "    <tr>\n",
       "      <th>2661</th>\n",
       "      <td>Systems Engineer</td>\n",
       "      <td>https://www.indeed.com/hire/interview-question...</td>\n",
       "      <td>What does DNS mean? How does it work on an int...</td>\n",
       "      <td>\\nDNS stands for Domain Name System or Domain ...</td>\n",
       "    </tr>\n",
       "    <tr>\n",
       "      <th>723</th>\n",
       "      <td>Cook</td>\n",
       "      <td>https://www.indeed.com/hire/interview-question...</td>\n",
       "      <td>Why have you chosen a career in the field of c...</td>\n",
       "      <td>\\nThis question serves at least two purposes. ...</td>\n",
       "    </tr>\n",
       "    <tr>\n",
       "      <th>2850</th>\n",
       "      <td>Welder</td>\n",
       "      <td>https://www.indeed.com/hire/interview-question...</td>\n",
       "      <td>Describe prototype tooling and what kind of ro...</td>\n",
       "      <td>\\nPrototype tooling is a huge part of working ...</td>\n",
       "    </tr>\n",
       "  </tbody>\n",
       "</table>\n",
       "</div>"
      ],
      "text/plain": [
       "                           roles  \\\n",
       "129                 Art Director   \n",
       "1983  Physical Therapy Assistant   \n",
       "2661            Systems Engineer   \n",
       "723                         Cook   \n",
       "2850                      Welder   \n",
       "\n",
       "                                                    url  \\\n",
       "129   https://www.indeed.com/hire/interview-question...   \n",
       "1983  https://www.indeed.com/hire/interview-question...   \n",
       "2661  https://www.indeed.com/hire/interview-question...   \n",
       "723   https://www.indeed.com/hire/interview-question...   \n",
       "2850  https://www.indeed.com/hire/interview-question...   \n",
       "\n",
       "                                              questions  \\\n",
       "129   1. As someone with artistic talent, who is you...   \n",
       "1983  Do you have experience working with elderly pa...   \n",
       "2661  What does DNS mean? How does it work on an int...   \n",
       "723   Why have you chosen a career in the field of c...   \n",
       "2850  Describe prototype tooling and what kind of ro...   \n",
       "\n",
       "                                                answers  \n",
       "129   \\nNot only is this question a fantastic icebre...  \n",
       "1983  \\nWith society's increasing life expectancy an...  \n",
       "2661  \\nDNS stands for Domain Name System or Domain ...  \n",
       "723   \\nThis question serves at least two purposes. ...  \n",
       "2850  \\nPrototype tooling is a huge part of working ...  "
      ]
     },
     "execution_count": 6,
     "metadata": {},
     "output_type": "execute_result"
    }
   ],
   "source": [
    "cols = ['roles','url','questions','answers']\n",
    "qdf = pd.DataFrame(qa,columns=cols)\n",
    "\n",
    "qdf.sample(n=5)"
   ]
  },
  {
   "cell_type": "markdown",
   "metadata": {
    "id": "rJobcNdmv_Q9"
   },
   "source": [
    "### <span style=\"color:#FF00FF\">Export Dataset</span>"
   ]
  },
  {
   "cell_type": "code",
   "execution_count": 9,
   "metadata": {},
   "outputs": [],
   "source": [
    "qdf.to_csv(\"question_answers.csv\",index=False)"
   ]
  }
 ],
 "metadata": {
  "kernelspec": {
   "display_name": "Python 3",
   "language": "python",
   "name": "python3"
  },
  "language_info": {
   "codemirror_mode": {
    "name": "ipython",
    "version": 3
   },
   "file_extension": ".py",
   "mimetype": "text/x-python",
   "name": "python",
   "nbconvert_exporter": "python",
   "pygments_lexer": "ipython3",
   "version": "3.8.5"
  }
 },
 "nbformat": 4,
 "nbformat_minor": 2
}
