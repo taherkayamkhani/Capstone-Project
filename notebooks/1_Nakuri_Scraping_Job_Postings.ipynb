{
 "cells": [
  {
   "cell_type": "markdown",
   "metadata": {
    "id": "_RxlpXM1v_Qz"
   },
   "source": [
    "### <span style=\"color:#800000\">Nakuri Scraping - Job postings</span>"
   ]
  },
  {
   "cell_type": "markdown",
   "metadata": {
    "id": "rJobcNdmv_Q9"
   },
   "source": [
    "### <span style=\"color:#FF00FF\">Import libraries</span>"
   ]
  },
  {
   "cell_type": "code",
   "execution_count": 1,
   "metadata": {},
   "outputs": [],
   "source": [
    "import requests\n",
    "import time\n",
    "from tqdm.auto import tqdm\n",
    "from bs4 import BeautifulSoup\n",
    "\n",
    "from fake_useragent import UserAgent\n",
    "from selenium import webdriver\n",
    "from selenium.webdriver.chrome.options import Options\n",
    "\n",
    "import pandas as pd"
   ]
  },
  {
   "cell_type": "markdown",
   "metadata": {
    "id": "rJobcNdmv_Q9"
   },
   "source": [
    "### <span style=\"color:#FF00FF\">Configure selenium driver</span>"
   ]
  },
  {
   "cell_type": "code",
   "execution_count": 2,
   "metadata": {},
   "outputs": [],
   "source": [
    "def configure_driver():\n",
    "    ua = UserAgent()\n",
    "    user_agent = ua.random\n",
    "    print(user_agent)\n",
    "    options = Options()\n",
    "    options.add_argument(f'user-agent = {user_agent}')\n",
    "    options.add_argument('headless')\n",
    "    driver = webdriver.Chrome('chromedriver', options = options)\n",
    "    return driver"
   ]
  },
  {
   "cell_type": "code",
   "execution_count": 3,
   "metadata": {},
   "outputs": [
    {
     "name": "stdout",
     "output_type": "stream",
     "text": [
      "Mozilla/5.0 (Windows NT 6.3; WOW64) AppleWebKit/537.36 (KHTML, like Gecko) Chrome/41.0.2226.0 Safari/537.36\n"
     ]
    }
   ],
   "source": [
    "driver = configure_driver()"
   ]
  },
  {
   "cell_type": "markdown",
   "metadata": {
    "id": "rJobcNdmv_Q9"
   },
   "source": [
    "### <span style=\"color:#FF00FF\">Extract the data from HTML tags</span>"
   ]
  },
  {
   "cell_type": "code",
   "execution_count": 4,
   "metadata": {},
   "outputs": [
    {
     "name": "stdout",
     "output_type": "stream",
     "text": [
      "Mozilla/5.0 (Windows NT 6.1; WOW64) AppleWebKit/537.36 (KHTML, like Gecko) Chrome/29.0.1547.62 Safari/537.36\n"
     ]
    }
   ],
   "source": [
    "\n",
    "details_driver = configure_driver()\n",
    "\n",
    "def get_jobdetails(job_url,domain):\n",
    "    \n",
    "    job_details = []\n",
    "    \n",
    "    details_driver.get(job_url)\n",
    "    soup=BeautifulSoup(details_driver.page_source, 'lxml') \n",
    "\n",
    "    try:\n",
    "        title = soup.find(attrs={'class':\"jd-header-title\"}).text\n",
    "        experience = soup.find(attrs={'class':\"exp\"}).text\n",
    "        salary = soup.find(attrs={'class':\"salary\"}).text\n",
    "        location = soup.find(attrs={'class':'loc'}).find('a').text\n",
    "\n",
    "        description_box = soup.find(attrs={'class':\"dang-inner-html\"})\n",
    "        desc = description_box.get_text(separator=\" \").rstrip(\"\\n\")\n",
    "        desc = desc.lower().replace(\"job description\",\"\")\n",
    "        desc = desc.lower().replace(\"roles and responsibilities\",\"\")\n",
    "\n",
    "\n",
    "        detail = soup.find(attrs={'class':\"other-details\"}).findAll(attrs={'class':\"details\"})\n",
    "        details=[]\n",
    "\n",
    "        for i in detail:\n",
    "            details.append(i.span.text)\n",
    "\n",
    "        role = details[0]\n",
    "        industry_type = details[1]\n",
    "        functional_area = details[2]\n",
    "        employment_type = details[3]\n",
    "        role_category = details[4]\n",
    "\n",
    "        education = soup.find(attrs={'class':\"education\"}).findAll(attrs={'class':'details'})\n",
    "        qualification=[]\n",
    "        for i in education:\n",
    "            qualification.append(i.text)\n",
    "\n",
    "        sk = soup.find(attrs={'class':\"key-skill\"}).findAll('a')\n",
    "        skills=[]\n",
    "        for i in sk:\n",
    "            skills.append(i.text)\n",
    "\n",
    "        company = soup.find(attrs={'class':\"jd-header-comp-name\"}).find(attrs={'class':\"pad-rt-8\"}).text\n",
    "\n",
    "    except Exception as e:\n",
    "        #print(e,job_url)\n",
    "        pass\n",
    "\n",
    "    job_details = (\n",
    "                    domain,\n",
    "                    job_url,\n",
    "                    title,\n",
    "                    company,\n",
    "                    experience,\n",
    "                    salary,\n",
    "                    location,\n",
    "                    desc,\n",
    "                    role,\n",
    "                    industry_type,\n",
    "                    qualification,\n",
    "                    functional_area,\n",
    "                    employment_type,\n",
    "                    role_category,\n",
    "                    skills\n",
    "                  )\n",
    "    \n",
    "    return job_details"
   ]
  },
  {
   "cell_type": "markdown",
   "metadata": {
    "id": "rJobcNdmv_Q9"
   },
   "source": [
    "### <span style=\"color:#FF00FF\">Search Job postings with specific Domain name</span>"
   ]
  },
  {
   "cell_type": "code",
   "execution_count": 6,
   "metadata": {},
   "outputs": [
    {
     "data": {
      "application/vnd.jupyter.widget-view+json": {
       "model_id": "ae0c096bb9a142f7bda43ab0ec4c6c29",
       "version_major": 2,
       "version_minor": 0
      },
      "text/plain": [
       "HBox(children=(FloatProgress(value=0.0, max=140.0), HTML(value='')))"
      ]
     },
     "metadata": {},
     "output_type": "display_data"
    },
    {
     "name": "stdout",
     "output_type": "stream",
     "text": [
      "\n"
     ]
    }
   ],
   "source": [
    "base_url = 'https://www.naukri.com'\n",
    "\n",
    "search = ['information-technology-jobs',\n",
    "         'engineering-jobs',\n",
    "         'accounting-jobs',\n",
    "         'architecture-jobs',\n",
    "         'automobile-jobs', \n",
    "         'electrical-jobs',\n",
    "         'ecommerce-jobs']\n",
    "        \n",
    "job_details = []\n",
    "\n",
    "MAX_PAGE_NUM  = 10\n",
    "MAX_PAGE_DIG = 3\n",
    "\n",
    "profiles = (len(search)*MAX_PAGE_NUM*20)\n",
    "\n",
    "with tqdm(total=profiles) as pbar:\n",
    "    \n",
    "    for area in search:  \n",
    "        pbar.set_description(area)\n",
    "        for i in range(1, MAX_PAGE_NUM+1):\n",
    "            page_num = (MAX_PAGE_DIG - len(str(i))) * \"0\" + str(i)\n",
    "            search_url = f'{base_url}/{area}-{page_num}' \n",
    "            driver.get(search_url)\n",
    "            time.sleep(3)\n",
    "            lst=driver.find_elements_by_css_selector(\".jobTuple.bgWhite.br4.mb-8\") \n",
    "\n",
    "\n",
    "            for job in lst:\n",
    "                driver.implicitly_wait(10)\n",
    "                try:\n",
    "                    currenturl=job.find_element_by_css_selector(\"a.title.fw500.ellipsis\").get_attribute('href')\n",
    "                    details = get_jobdetails(currenturl,area)\n",
    "                    job_details.append(details)\n",
    "                except Exception as e:\n",
    "                     pass\n",
    "                pbar.update(1)"
   ]
  },
  {
   "cell_type": "markdown",
   "metadata": {
    "id": "rJobcNdmv_Q9"
   },
   "source": [
    "### <span style=\"color:#FF00FF\">Convert Result to DataFrame</span>"
   ]
  },
  {
   "cell_type": "code",
   "execution_count": 7,
   "metadata": {},
   "outputs": [
    {
     "data": {
      "text/plain": [
       "electrical-jobs                20\n",
       "automobile-jobs                20\n",
       "information-technology-jobs    19\n",
       "ecommerce-jobs                 19\n",
       "accounting-jobs                18\n",
       "engineering-jobs               18\n",
       "architecture-jobs               9\n",
       "Name: domain, dtype: int64"
      ]
     },
     "execution_count": 7,
     "metadata": {},
     "output_type": "execute_result"
    }
   ],
   "source": [
    "columns = [\n",
    "    \"domain\",\n",
    "    \"link\",\n",
    "    \"title\",\n",
    "    \"company\",\n",
    "    \"experience\",\n",
    "    \"salary\",\n",
    "    \"location\",\n",
    "    \"description\",\n",
    "    \"role\",\n",
    "    \"industry_type\",\n",
    "    \"qualification\",\n",
    "    \"functional_area\",\n",
    "    \"employment_type\",\n",
    "    \"role_category\",\n",
    "    \"skills\"]\n",
    "\n",
    "\n",
    "df = pd.DataFrame(job_details,columns=columns)\n",
    "\n",
    "df.domain.value_counts()"
   ]
  },
  {
   "cell_type": "markdown",
   "metadata": {
    "id": "rJobcNdmv_Q9"
   },
   "source": [
    "### <span style=\"color:#FF00FF\">Export Dataset</span>"
   ]
  },
  {
   "cell_type": "code",
   "execution_count": 9,
   "metadata": {},
   "outputs": [],
   "source": [
    "df.to_csv(\"nakuri_jobdesc.csv\",index=False)"
   ]
  }
 ],
 "metadata": {
  "kernelspec": {
   "display_name": "Python 3",
   "language": "python",
   "name": "python3"
  },
  "language_info": {
   "codemirror_mode": {
    "name": "ipython",
    "version": 3
   },
   "file_extension": ".py",
   "mimetype": "text/x-python",
   "name": "python",
   "nbconvert_exporter": "python",
   "pygments_lexer": "ipython3",
   "version": "3.8.5"
  }
 },
 "nbformat": 4,
 "nbformat_minor": 2
}
